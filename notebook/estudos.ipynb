{
 "cells": [
  {
   "cell_type": "markdown",
   "metadata": {},
   "source": [
    "#Python"
   ]
  },
  {
   "cell_type": "markdown",
   "metadata": {},
   "source": [
    "### O que é python"
   ]
  },
  {
   "cell_type": "markdown",
   "metadata": {},
   "source": [
    "Python é uma linguagem de programação de alto nível, foi criada em 89 e é  usada em vários tipos de aplicação,desde de machine learning.\n",
    "A sintaxe é simples e fáccil para iniciante e possui uma grande comunidade."
   ]
  },
  {
   "cell_type": "markdown",
   "metadata": {},
   "source": [
    "### O que é um notebook"
   ]
  },
  {
   "cell_type": "markdown",
   "metadata": {},
   "source": [
    "O notebook é um ambiente interativo que combina várias informações, como código, texto, equações matemáticas e visualizações de dados. Tudo reunido em um único documento.\n",
    "Utilizado para documentar o código em ciência de dados"
   ]
  },
  {
   "cell_type": "markdown",
   "metadata": {},
   "source": [
    "Sempre que criamos um notebook, ele terá a terminação .ipynb"
   ]
  },
  {
   "cell_type": "markdown",
   "metadata": {},
   "source": [
    "O notebook executa em tempo real de código. "
   ]
  },
  {
   "cell_type": "code",
   "execution_count": 1,
   "metadata": {},
   "outputs": [
    {
     "data": {
      "text/plain": [
       "20"
      ]
     },
     "execution_count": 1,
     "metadata": {},
     "output_type": "execute_result"
    }
   ],
   "source": [
    "10 + 10\n",
    "# Foi em tempo real e o ressultado da conta"
   ]
  },
  {
   "cell_type": "markdown",
   "metadata": {},
   "source": [
    "### Uma alternativa ao VScode chamada Google colab"
   ]
  },
  {
   "cell_type": "markdown",
   "metadata": {},
   "source": [
    "- Permite escrever e executar códigos em Python através de um navegador, sem precisar instalar nenhum software adicional;\n",
    "- Funciona usando uma máquina virtual, que é basicamente um sistema virtual que simula um computador;\n",
    "- Essa máquina virtual é temporária, ou seja, ela é criada quando abrimos o Colab e encerrada quando fechamos ele ou quando o tempo de execução da máquina expira;\n",
    "- Isso significa que qualquer dado que carreguarmos na máquina virtual será perdido quando ela for encerrada"
   ]
  },
  {
   "cell_type": "markdown",
   "metadata": {},
   "source": [
    "### Primeiro código"
   ]
  },
  {
   "cell_type": "markdown",
   "metadata": {},
   "source": [
    "A máquina não faz nada além do que é comandada a fazer;\n",
    "\n",
    "\n",
    "Comando:\n",
    "- Em linguagem de programação, se trata de um código que especifica para a máquina a função a ser executada. Ele precisa ser organizado passo a passo, com tudo bem definido."
   ]
  },
  {
   "cell_type": "markdown",
   "metadata": {},
   "source": [
    "#### Função print()"
   ]
  },
  {
   "cell_type": "markdown",
   "metadata": {},
   "source": [
    "print() = Exibe uma informação específica insirida dentro dos parentesess"
   ]
  },
  {
   "cell_type": "code",
   "execution_count": 2,
   "metadata": {},
   "outputs": [
    {
     "name": "stdout",
     "output_type": "stream",
     "text": [
      "Olá mundo!\n"
     ]
    }
   ],
   "source": [
    "print('Olá mundo!');"
   ]
  },
  {
   "cell_type": "markdown",
   "metadata": {},
   "source": [
    "Quando trabalhamos com números não precisamos usar \"\""
   ]
  },
  {
   "cell_type": "code",
   "execution_count": 3,
   "metadata": {},
   "outputs": [
    {
     "name": "stdout",
     "output_type": "stream",
     "text": [
      "10\n"
     ]
    }
   ],
   "source": [
    "print(10);"
   ]
  },
  {
   "cell_type": "code",
   "execution_count": 5,
   "metadata": {},
   "outputs": [
    {
     "name": "stdout",
     "output_type": "stream",
     "text": [
      "João Vitor 22 anos\n"
     ]
    }
   ],
   "source": [
    "print('João Vitor', 22, \"anos\")\n",
    "# Precisamos usar , para exibir um novo ressltado"
   ]
  },
  {
   "cell_type": "markdown",
   "metadata": {},
   "source": [
    "#### Desafio \n"
   ]
  },
  {
   "cell_type": "code",
   "execution_count": 6,
   "metadata": {},
   "outputs": [
    {
     "name": "stdout",
     "output_type": "stream",
     "text": [
      "Escola de Dados da Alura!.\n"
     ]
    }
   ],
   "source": [
    "#mprima a frase Escola de Dados da Alura!.\n",
    "print(\"Escola de Dados da Alura!.\")"
   ]
  },
  {
   "cell_type": "code",
   "execution_count": 14,
   "metadata": {},
   "outputs": [
    {
     "name": "stdout",
     "output_type": "stream",
     "text": [
      "nome: João Vitor\n",
      "Sobrenome: De MElo Gomes\n"
     ]
    }
   ],
   "source": [
    "#Imprima seu nome e seu sobrenome seguindo a estrutura abaixo:\n",
    "# #Nome: [seu nome]\n",
    "#Sobrenome: [seu sobrenome]\n",
    "\n",
    "print('nome:', 'João Vitor')\n",
    "print ('Sobrenome:', 'De MElo Gomes')"
   ]
  },
  {
   "cell_type": "code",
   "execution_count": 9,
   "metadata": {},
   "outputs": [
    {
     "name": "stdout",
     "output_type": "stream",
     "text": [
      "J O Ã O\n"
     ]
    }
   ],
   "source": [
    "#Imprima o seu primeiro nome letra a letra. Por exemplo, meu nome é Mirla, então eu obtenho a seguinte saída:\n",
    "\n",
    "print('J','O', 'Ã', 'O')"
   ]
  },
  {
   "cell_type": "code",
   "execution_count": 12,
   "metadata": {},
   "outputs": [
    {
     "name": "stdout",
     "output_type": "stream",
     "text": [
      "9 de Julho 2002\n"
     ]
    }
   ],
   "source": [
    "#Imprima o dia do seu nascimento em formato dia mês ano. Lembrando que os valores de dia e ano não podem estar entre aspas. Supondo uma data de aniversário dia 28 de fevereiro de 2003, o formato deve estar como no exemplo abaixo:\n",
    "\n",
    "print(9, 'de', 'Julho', 2002);"
   ]
  },
  {
   "cell_type": "code",
   "execution_count": 13,
   "metadata": {},
   "outputs": [
    {
     "name": "stdout",
     "output_type": "stream",
     "text": [
      "Ano atual: 2024\n"
     ]
    }
   ],
   "source": [
    "#Imprima, em um único print, o atual ano que você está fazendo esse curso. O valor do ano deve ser um dado numérico e a saída do print deve ser a seguinte:\n",
    "\n",
    "print('Ano atual:', 2024)\n"
   ]
  },
  {
   "cell_type": "markdown",
   "metadata": {},
   "source": [
    "### Comentários "
   ]
  },
  {
   "cell_type": "markdown",
   "metadata": {},
   "source": [
    "quando estamos programando, precisamos descrever alguma etapa, função ou estrutura dentro do próprio código. Essa descrição precisa ser dada como uma anotação e, por isso, não pode ser considerada um código para ser interpretado dentro do ambiente. Para essas situações, existem os comentários.\n",
    "\n",
    "- Os comentários são linhas de texto que podem ser colocadas dentro do código e que são ignoradas pelo interpretador. Por conta disso, servem para explicar o funcionamento do código para outras pessoas ou mesmo para a pessoa que programa;\n",
    "-  Eles são importantes para documentar o código, descrevendo o que cada função, estrutura ou método faz e para que servem. Isso pode tornar o código mais legível e fácil de entender.\n",
    "\n",
    "Temos dois tipos de comentários:\n",
    "\n",
    "\n"
   ]
  },
  {
   "cell_type": "code",
   "execution_count": 2,
   "metadata": {},
   "outputs": [
    {
     "name": "stdout",
     "output_type": "stream",
     "text": [
      "10\n"
     ]
    }
   ],
   "source": [
    "# # Esse é um comeentário de uma linha\n",
    "print(10) # Podemos colocar outro comentário em uma linha após um código"
   ]
  },
  {
   "cell_type": "markdown",
   "metadata": {},
   "source": [
    "E comentários de várias linhas\n",
    "\n",
    "- Podem ser aspas triplas: ''' ou \"\"\""
   ]
  },
  {
   "cell_type": "code",
   "execution_count": 3,
   "metadata": {},
   "outputs": [
    {
     "name": "stdout",
     "output_type": "stream",
     "text": [
      "20\n"
     ]
    }
   ],
   "source": [
    "'''\n",
    "Esse é um comentário\n",
    "de várias linhas.\n",
    "'''\n",
    "\n",
    "print(20)"
   ]
  },
  {
   "cell_type": "markdown",
   "metadata": {},
   "source": [
    "### markdown"
   ]
  },
  {
   "cell_type": "markdown",
   "metadata": {},
   "source": [
    "Formatação de texto por marcação (markup) que permite escrever de forma simples e fácil de ler. Ele permite adicionar formatação ao texto sem precisar escrever um código em HTML ou outra linguagem de formatação mais complexa.\n",
    "Conseguimos formatar o texto para adicionar negrito, itálico, listas, cabeçalhos, etc. Além de termos uma ótima opção para documentar o código descrevendo o que fizemos, analisando os resultados e até informando os próximos passos. \n",
    "\n",
    "**Texto em negrito**\n",
    "\n",
    "*Texto em itálico*\n",
    "\n",
    "***Texto em negrito e itálico***\n",
    "\n",
    "* Item 1\n",
    "* Item 2\n",
    "* Item 3\n",
    "\n",
    "1. Item 1\n",
    "2. Item 2\n",
    "3. Item 3\n",
    "\n",
    "Para construir links, usamos a seguinte sintaxe: [texto do link](link).\n",
    "\n",
    "[online Markdown Editor](https://onlinemarkdowneditor.dev)\n",
    "\n",
    "- John Graber criou o markdown\n",
    "\n",
    "\n",
    "\n",
    "\n",
    "\n",
    "\n",
    "\n"
   ]
  },
  {
   "cell_type": "markdown",
   "metadata": {},
   "source": [
    "### Variáveis"
   ]
  },
  {
   "cell_type": "markdown",
   "metadata": {},
   "source": [
    "Em data science trabalhamos com variás informações de varios tipo\n",
    "\n",
    "As variáveis é um nome  que está asssociado a um valor.\n"
   ]
  },
  {
   "cell_type": "markdown",
   "metadata": {},
   "source": [
    "criando uma variavel:"
   ]
  },
  {
   "cell_type": "code",
   "execution_count": 2,
   "metadata": {},
   "outputs": [
    {
     "name": "stdout",
     "output_type": "stream",
     "text": [
      "5\n"
     ]
    }
   ],
   "source": [
    "idade = 5\n",
    "# para vere a variável:\n",
    "print(idade)\n",
    "# Variáveis não precisam de aspas"
   ]
  },
  {
   "cell_type": "code",
   "execution_count": 3,
   "metadata": {},
   "outputs": [
    {
     "name": "stdout",
     "output_type": "stream",
     "text": [
      "10\n"
     ]
    }
   ],
   "source": [
    "# trocando o valor da variável:\n",
    "idade = 10\n",
    "print(idade)"
   ]
  },
  {
   "cell_type": "code",
   "execution_count": 4,
   "metadata": {},
   "outputs": [
    {
     "data": {
      "text/plain": [
       "10"
      ]
     },
     "execution_count": 4,
     "metadata": {},
     "output_type": "execute_result"
    }
   ],
   "source": [
    "# Podemos também chamar a variável sem print:\n",
    "idade\n",
    "# só funciona quando a variável estiver na últimma linha"
   ]
  },
  {
   "cell_type": "code",
   "execution_count": 5,
   "metadata": {},
   "outputs": [],
   "source": [
    "# Armazenado texto:\n",
    "nome = 'gabriel'"
   ]
  },
  {
   "cell_type": "code",
   "execution_count": 6,
   "metadata": {},
   "outputs": [
    {
     "data": {
      "text/plain": [
       "'gabriel'"
      ]
     },
     "execution_count": 6,
     "metadata": {},
     "output_type": "execute_result"
    }
   ],
   "source": [
    "nome"
   ]
  },
  {
   "cell_type": "markdown",
   "metadata": {},
   "source": [
    "Nomes que não podemos definir para variáveis:\n",
    "\n",
    "- Nomes que começam com números. Exemplos: 10_notas, 2_nomes_casa;\n",
    "\n",
    "-Palavras separadas por espaço. Exemplos: Nome escola, notas estudantes;\n",
    "\n",
    "-Nomes de funções do Python. Exemplos: print, type."
   ]
  },
  {
   "cell_type": "markdown",
   "metadata": {},
   "source": [
    "Letras maiúsculas e minúsculas vão gerar diferentes variáveis. A variável idadeé diferente de Idade, que por sua vez, também é diferente de IDADE."
   ]
  },
  {
   "cell_type": "markdown",
   "metadata": {},
   "source": [
    "### Tipos de variáveis "
   ]
  },
  {
   "cell_type": "markdown",
   "metadata": {},
   "source": [
    "Existem vários tipos de variáveis como números inteiros, flutuantes (reais e fracionados), textos, informações lógicas, dentre muitos outros. Em Python existem várias classificações de dados/variáveis. Conheceremos essas classes agora.\n",
    "\n",
    "Temos 4 principais tipos:\n",
    "\n",
    "*int* = Armazena números inteiros\n",
    "\n",
    "ex: 3,100 ou -5\n",
    "\n",
    "*float* = Armazena númeors que possuem umaa parte fracionária ou reais\n",
    "\n",
    "ex: 3.14. 100.0 ou -0.5\n",
    "\n",
    "*str* = AArmazena texto ou seqências de caracteres. Geralmnete usadas para armazenar texto e são delimitadas por aspas ''/\"\" \n",
    "\n",
    "ex: 'Olá, mundo', \"Alura\" ou \"12345'\n",
    "\n",
    "*bool* = Valorees lógicos -> Verdadeiro ou falso\n",
    "\n",
    "ex: true e false\n",
    "\n"
   ]
  },
  {
   "cell_type": "markdown",
   "metadata": {},
   "source": [
    "Para saber a classe de cada elemento, usamos a função type()\n"
   ]
  },
  {
   "cell_type": "code",
   "execution_count": 7,
   "metadata": {},
   "outputs": [
    {
     "data": {
      "text/plain": [
       "int"
      ]
     },
     "execution_count": 7,
     "metadata": {},
     "output_type": "execute_result"
    }
   ],
   "source": [
    "type(idade)\n",
    "# Indicou que é int\n",
    "# Dentro dos paretese insira a variável"
   ]
  },
  {
   "cell_type": "code",
   "execution_count": 8,
   "metadata": {},
   "outputs": [
    {
     "data": {
      "text/plain": [
       "int"
      ]
     },
     "execution_count": 8,
     "metadata": {},
     "output_type": "execute_result"
    }
   ],
   "source": [
    "i = 5\n",
    "type(i)"
   ]
  },
  {
   "cell_type": "code",
   "execution_count": 10,
   "metadata": {},
   "outputs": [
    {
     "data": {
      "text/plain": [
       "float"
      ]
     },
     "execution_count": 10,
     "metadata": {},
     "output_type": "execute_result"
    }
   ],
   "source": [
    "nota = 9.8\n",
    "type(nota)\n"
   ]
  },
  {
   "cell_type": "markdown",
   "metadata": {},
   "source": [
    "variáveis que armazenem os dados da ficha desse aluno. São eles:\n",
    "\n",
    "Nome: Fabricio Daniel\n",
    "Idade: 15 anos\n",
    "Media do semestre: 8,45\n",
    "Situaçao de aprovação: Verdadeira (aprovado)\n",
    "Na célula abaixo, conseguimos criar esses valores."
   ]
  },
  {
   "cell_type": "code",
   "execution_count": 11,
   "metadata": {},
   "outputs": [],
   "source": [
    "nome_aluno = 'Fabricio Daniel'\n",
    "idade_aluno = 15\n",
    "media_aluno = 8.45\n",
    "situacao_aprovado = True"
   ]
  },
  {
   "cell_type": "code",
   "execution_count": 12,
   "metadata": {},
   "outputs": [
    {
     "name": "stdout",
     "output_type": "stream",
     "text": [
      "Fabricio Daniel 15 8.45 True\n"
     ]
    }
   ],
   "source": [
    "print(nome_aluno, idade_aluno, media_aluno, situacao_aprovado)"
   ]
  },
  {
   "cell_type": "markdown",
   "metadata": {},
   "source": [
    "### O que é documentação"
   ]
  },
  {
   "cell_type": "markdown",
   "metadata": {},
   "source": [
    "A documentação de qualquer linguagem funciona como um conjunto de guias escritos para ajudar pessoas desenvolvedoras a entender e usar uma linguagem de programação. Podemos encontrá-las em sites criados pela equipe que construiu essa linguagem. Como abordado em aula, encontramos a documentação do Python em\n",
    "\n",
    "[python.org](https://www.python.org/doc/)"
   ]
  },
  {
   "cell_type": "markdown",
   "metadata": {},
   "source": [
    "Essas documentações geralmente incluem informações sobre sintaxe e estruturas, bibliotecas e ferramentas disponíveis, funções, exemplos de código e outros pontos úteis para ajudar a escrever códigos eficientes e corretos."
   ]
  },
  {
   "cell_type": "markdown",
   "metadata": {},
   "source": [
    "Um detalhe é que a maioria das documentações está escrita em inglês, o que pode dificultar para uma pessoa que não tem tanto conhecimento desse idioma. Porém, normalmente há suporte para tradução para português através do tradutor do navegador."
   ]
  },
  {
   "cell_type": "markdown",
   "metadata": {},
   "source": [
    "### Variáveis numéricas "
   ]
  },
  {
   "cell_type": "markdown",
   "metadata": {},
   "source": [
    "podemos limitar nossa análise aos tipos inteiro e float. Podemos manipulá-las para realizar cálculos aritméticos."
   ]
  },
  {
   "cell_type": "markdown",
   "metadata": {},
   "source": [
    "Cinco pessoas trabalham como seguranças e recebem um salário de 3 mil reais. Dezesseis pessoas trabalham como docentes e recebem um salário de 6 mil reais. Por fim, temos uma pessoa que trabalha na diretoria e seu salário é de 12 mil e 500 reais.\n",
    "\n",
    "Precisamos trabalhar com esses dados fornecendo:\n",
    "\n",
    "A quantidade total de empregados;\n",
    "A diferença entre o salário mais baixo e mais alto;\n",
    "A média ponderada da faixa salarial da escola.\n",
    "É possível fazer esses cálculos matemáticos com Python. O primeiro passo, no entanto, é declarar todas essas informações, armazená-las em variáveis, assim poderemos manipulá-las.\n",
    "\n",
    "Já existe um código salvo na célula do notebook, que serve para criar a variável e armazenar o valor:"
   ]
  },
  {
   "cell_type": "code",
   "execution_count": 14,
   "metadata": {},
   "outputs": [],
   "source": [
    "q_seguranca = 5\n",
    "s_seguranca = 3000\n",
    "\n",
    "q_docente = 16\n",
    "s_docente = 6000\n",
    "\n",
    "q_diretoria = 1\n",
    "s_diretoria = 12500"
   ]
  },
  {
   "cell_type": "code",
   "execution_count": 15,
   "metadata": {},
   "outputs": [],
   "source": [
    "# quantidade total de empregados:\n",
    "total_empregados = q_seguranca + q_docente + q_diretoria"
   ]
  },
  {
   "cell_type": "code",
   "execution_count": 16,
   "metadata": {},
   "outputs": [
    {
     "data": {
      "text/plain": [
       "22"
      ]
     },
     "execution_count": 16,
     "metadata": {},
     "output_type": "execute_result"
    }
   ],
   "source": [
    "#quantidade total de empregados:\n",
    "total_empregados = q_seguranca + q_docente + q_diretoria\n",
    "total_empregados"
   ]
  },
  {
   "cell_type": "code",
   "execution_count": 17,
   "metadata": {},
   "outputs": [
    {
     "data": {
      "text/plain": [
       "9500"
      ]
     },
     "execution_count": 17,
     "metadata": {},
     "output_type": "execute_result"
    }
   ],
   "source": [
    "# variável que armazenará a subtração, igual ao salário da diretoria menos o salário da segurança.\n",
    "diferenca_salario = s_diretoria - s_seguranca\n",
    "diferenca_salario"
   ]
  },
  {
   "cell_type": "code",
   "execution_count": 20,
   "metadata": {},
   "outputs": [],
   "source": [
    "#média ponderada da faixa salarial da escola.\n",
    "media = (q_seguranca*s_seguranca + q_docente*s_docente + q_diretoria*s_diretoria) / (total_empregados)"
   ]
  },
  {
   "cell_type": "code",
   "execution_count": 21,
   "metadata": {},
   "outputs": [
    {
     "data": {
      "text/plain": [
       "123500"
      ]
     },
     "execution_count": 21,
     "metadata": {},
     "output_type": "execute_result"
    }
   ],
   "source": [
    "#  numerador para o cálculo da média ponderada:\n",
    "q_seguranca*s_seguranca + q_docente*s_docente + q_diretoria*s_diretoria"
   ]
  },
  {
   "cell_type": "code",
   "execution_count": 22,
   "metadata": {},
   "outputs": [
    {
     "data": {
      "text/plain": [
       "5613.636363636364"
      ]
     },
     "execution_count": 22,
     "metadata": {},
     "output_type": "execute_result"
    }
   ],
   "source": [
    "# média salarial que é:\n",
    "media = (q_seguranca*s_seguranca + q_docente*s_docente + q_diretoria*s_diretoria) / (total_empregados)\n",
    "media"
   ]
  },
  {
   "cell_type": "markdown",
   "metadata": {},
   "source": [
    "### Outros operadores "
   ]
  },
  {
   "cell_type": "markdown",
   "metadata": {},
   "source": [
    "Exponenciação (**)"
   ]
  },
  {
   "cell_type": "code",
   "execution_count": 23,
   "metadata": {},
   "outputs": [
    {
     "data": {
      "text/plain": [
       "8"
      ]
     },
     "execution_count": 23,
     "metadata": {},
     "output_type": "execute_result"
    }
   ],
   "source": [
    "2**3"
   ]
  },
  {
   "cell_type": "code",
   "execution_count": 24,
   "metadata": {},
   "outputs": [
    {
     "data": {
      "text/plain": [
       "8"
      ]
     },
     "execution_count": 24,
     "metadata": {},
     "output_type": "execute_result"
    }
   ],
   "source": [
    "operador = 2\n",
    "potencia = 3\n",
    "operador ** potencia"
   ]
  },
  {
   "cell_type": "markdown",
   "metadata": {},
   "source": [
    "Módulo (%)\n",
    "O operador de módulo pode retornar o resto da divisão inteira entre dois números. Lembrando que o resto de uma divisão é o número que sobra quando uma divisão não é exata."
   ]
  },
  {
   "cell_type": "code",
   "execution_count": 25,
   "metadata": {},
   "outputs": [
    {
     "data": {
      "text/plain": [
       "1"
      ]
     },
     "execution_count": 25,
     "metadata": {},
     "output_type": "execute_result"
    }
   ],
   "source": [
    "7%3\n"
   ]
  },
  {
   "cell_type": "code",
   "execution_count": 26,
   "metadata": {},
   "outputs": [
    {
     "data": {
      "text/plain": [
       "1"
      ]
     },
     "execution_count": 26,
     "metadata": {},
     "output_type": "execute_result"
    }
   ],
   "source": [
    "dividendo = 7\n",
    "divisor = 3\n",
    "dividendo % divisor"
   ]
  },
  {
   "cell_type": "markdown",
   "metadata": {},
   "source": [
    "Divisão inteira (//)\n",
    "\n",
    "Essa operação retorna o resultado da divisão inteira entre dois números, ou seja, retorna apenas a parte inteira de uma divisão. Por exemplo, sabemos que a divisão exata de 7 por 3 (7/3) resulta no valor 2.333333…. Caso essa fosse uma divisão inteira, o resultado dela seria apenas 2. Sua sintaxe consiste em colocar o valor do numerador, o operador // e depois o denominador, como consta a seguir:"
   ]
  },
  {
   "cell_type": "code",
   "execution_count": 27,
   "metadata": {},
   "outputs": [
    {
     "data": {
      "text/plain": [
       "2"
      ]
     },
     "execution_count": 27,
     "metadata": {},
     "output_type": "execute_result"
    }
   ],
   "source": [
    "7 // 3"
   ]
  },
  {
   "cell_type": "code",
   "execution_count": 28,
   "metadata": {},
   "outputs": [
    {
     "data": {
      "text/plain": [
       "2"
      ]
     },
     "execution_count": 28,
     "metadata": {},
     "output_type": "execute_result"
    }
   ],
   "source": [
    "numerador = 7\n",
    "denominador = 3\n",
    "numerador // denominador"
   ]
  },
  {
   "cell_type": "markdown",
   "metadata": {},
   "source": [
    "### String"
   ]
  },
  {
   "cell_type": "markdown",
   "metadata": {},
   "source": [
    "os textos também podem ser manipulados no Python. Conseguimos fazer isso através das strings, variáveis de texto."
   ]
  },
  {
   "cell_type": "code",
   "execution_count": 29,
   "metadata": {},
   "outputs": [
    {
     "name": "stdout",
     "output_type": "stream",
     "text": [
      "Alura Alura\n"
     ]
    }
   ],
   "source": [
    "s1 = 'Alura'\n",
    "s2 = \"Alura\"\n",
    "print(s1, s2)"
   ]
  },
  {
   "cell_type": "code",
   "execution_count": 30,
   "metadata": {},
   "outputs": [
    {
     "name": "stdout",
     "output_type": "stream",
     "text": [
      "<class 'str'> <class 'str'>\n"
     ]
    }
   ],
   "source": [
    "print(type(s1),type(s2))"
   ]
  },
  {
   "cell_type": "markdown",
   "metadata": {},
   "source": [
    "Os métodos são funções associadas a objetos em Python. A partir das funções, podemos realizar ações e operações relacionadas aos objetos.\n",
    "\n",
    "objeto = Variável"
   ]
  },
  {
   "cell_type": "markdown",
   "metadata": {},
   "source": [
    "Para usar o metódo:\n",
    "objeto.metodo()"
   ]
  },
  {
   "cell_type": "markdown",
   "metadata": {},
   "source": [
    "Em alguns métodos, não será necessário usar parênteses. Isso depende da documentação. Consultando a documentação, encontraremos uma descrição com vários exemplos de como se utiliza determinada função ou método. "
   ]
  },
  {
   "cell_type": "markdown",
   "metadata": {},
   "source": [
    "Situação: Recebemos uma variável com o nome de uma professora da escola para inserirmos no cadastro. No entanto, precisamos tratar esse texto antes de inserirmos no sistema.\n",
    "\n",
    "texto = '  Geovana Alessandra dias Sanyos '\n",
    "\n",
    "Temos o texto, que se refere ao nome da professora e a string, com dois espaços antes do nome dela e outro espaço após. Vamos rodar essa célula e objetivo é que, ao final, o nome esteja da seguinte forma:\n",
    "\n",
    "'GEOVANA ALESSANDRA DIAS SANTOS'"
   ]
  },
  {
   "cell_type": "code",
   "execution_count": 31,
   "metadata": {},
   "outputs": [],
   "source": [
    "texto = '  Geovana Alessandra dias Sanyos '"
   ]
  },
  {
   "cell_type": "code",
   "execution_count": 32,
   "metadata": {},
   "outputs": [
    {
     "data": {
      "text/plain": [
       "'  GEOVANA ALESSANDRA DIAS SANYOS '"
      ]
     },
     "execution_count": 32,
     "metadata": {},
     "output_type": "execute_result"
    }
   ],
   "source": [
    " #str.upper(), método que converte a string e retorna um texto com todos os caracteres em letras maiúsculas. Colocamos o nome da nossa variável, texto, ponto, e escreveremos o método upper().\n",
    "texto.upper()"
   ]
  },
  {
   "cell_type": "code",
   "execution_count": 33,
   "metadata": {},
   "outputs": [
    {
     "data": {
      "text/plain": [
       "'  geovana alessandra dias sanyos '"
      ]
     },
     "execution_count": 33,
     "metadata": {},
     "output_type": "execute_result"
    }
   ],
   "source": [
    "# também existe um que retorne todas as letras em minúsculas, esse método é o str.lower(). O procedimento é o mesmo: string, seguida de ponto e método lower().\n",
    "texto.lower()\n"
   ]
  },
  {
   "cell_type": "code",
   "execution_count": 34,
   "metadata": {},
   "outputs": [
    {
     "data": {
      "text/plain": [
       "'  Geovana Alessandra dias Santos '"
      ]
     },
     "execution_count": 34,
     "metadata": {},
     "output_type": "execute_result"
    }
   ],
   "source": [
    "# str.replace. Ele vai substituir um caractere antigo por um novo, conforme o que determinarmos no nosso comando.\n",
    "texto.replace('y','t')"
   ]
  },
  {
   "cell_type": "code",
   "execution_count": 37,
   "metadata": {},
   "outputs": [
    {
     "data": {
      "text/plain": [
       "'GEOVANA ALESSANDRA DIAS SANTOS'"
      ]
     },
     "execution_count": 37,
     "metadata": {},
     "output_type": "execute_result"
    }
   ],
   "source": [
    "# Salvando ás alterações:\n",
    "texto = texto.strip().replace('y', 't').upper()\n",
    "texto"
   ]
  },
  {
   "cell_type": "markdown",
   "metadata": {},
   "source": [
    "### Tabela Unicode"
   ]
  },
  {
   "cell_type": "markdown",
   "metadata": {},
   "source": [
    "Esse padrão permite que pessoas desenvolvedoras de todo o mundo consigam trabalhar com textos e caracteres em diferentes idiomas de forma muito fácil, sem precisar se preocupar com problemas de compatibilidade.\n",
    "\n",
    "tabela Unicode, uma tabela de codificação de caracteres, que associa códigos numéricos a caracteres específicos. \n",
    "\n",
    "[Podemos ver as estatísticas de cada versão e a quantidade de caracteres por versão nesse](https://www.unicode.org/versions/stats/)\n",
    "\n",
    "ela é muito importante, já que permite a representação de caracteres de diferentes idiomas (como o ç no Portugês, o ñ no Espanhol, ou o П em russo) e scripts de forma consistente e independentemente do dispositivo ou plataforma, o que é fundamental para a globalização e representação correta de textos em diferentes línguas.\n",
    "\n",
    "[Você pode acompanhar as atualizações](https://home.unicode.org/)\n",
    "\n",
    "Podemos imprimir um elemento da tabela Unicode em nosso notebook através da função chr, que é uma função que retorna uma string com o caractere especificado. Sua sintaxe de uso é dada da seguinte forma: chr(numero_do_caractere)\n",
    "\n",
    "\n",
    "\n",
    "\n"
   ]
  },
  {
   "cell_type": "code",
   "execution_count": 38,
   "metadata": {},
   "outputs": [
    {
     "data": {
      "text/plain": [
       "'@'"
      ]
     },
     "execution_count": 38,
     "metadata": {},
     "output_type": "execute_result"
    }
   ],
   "source": [
    "#vamos imprimir o caractere “@” com chr().\n",
    "chr(64)"
   ]
  },
  {
   "cell_type": "markdown",
   "metadata": {},
   "source": [
    "Também é possível concatenar strings com o operador +. Sabendo disso, se nós unimos vários caracteres, conseguimos obter uma palavra. Como exemplo, vamos construir a palavra Olá ('O' + 'l' + 'á'):"
   ]
  },
  {
   "cell_type": "code",
   "execution_count": 39,
   "metadata": {},
   "outputs": [
    {
     "data": {
      "text/plain": [
       "'Olá'"
      ]
     },
     "execution_count": 39,
     "metadata": {},
     "output_type": "execute_result"
    }
   ],
   "source": [
    "chr(79) + chr(108) + chr(225)"
   ]
  },
  {
   "cell_type": "markdown",
   "metadata": {},
   "source": [
    "### Coletando dados"
   ]
  },
  {
   "cell_type": "markdown",
   "metadata": {},
   "source": [
    "A coleta de dados pode ser realizada por uma função Python chamada input(). Ela é responsável por coletar e retornar todo o que foi coletado de quem estiver usando o projeto ou código."
   ]
  },
  {
   "cell_type": "markdown",
   "metadata": {},
   "source": [
    "Nós escreveremos nome, variável que receberá o nome. Ela será igual à função input()."
   ]
  },
  {
   "cell_type": "code",
   "execution_count": 3,
   "metadata": {},
   "outputs": [],
   "source": [
    "nome7 = input('Escreva seu nome:')"
   ]
  },
  {
   "cell_type": "markdown",
   "metadata": {},
   "source": [
    "Ela é como uma chave que diz ao código: escrevemos tudo que era para ter sido escrito e agora você pode salvar e atribuir esse resultado à variável."
   ]
  },
  {
   "cell_type": "code",
   "execution_count": 4,
   "metadata": {},
   "outputs": [
    {
     "data": {
      "text/plain": [
       "'João Vitor'"
      ]
     },
     "execution_count": 4,
     "metadata": {},
     "output_type": "execute_result"
    }
   ],
   "source": [
    "nome7"
   ]
  },
  {
   "cell_type": "markdown",
   "metadata": {},
   "source": [
    "Existem quatro tipos básicos de dados que já conhecemos: inteiro, float, string e booleano. Cada uma dessas classes têm uma função de conversão. Vamos conferir as funções de conversão de valores:\n",
    "\n",
    "Inteiros: int(dado_para_conversao)\n",
    "Float: float(dado_para_conversao)\n",
    "String: str(dado_para_conversao)\n",
    "Booleano: bool(dado_para_conversao)"
   ]
  },
  {
   "cell_type": "markdown",
   "metadata": {},
   "source": [
    "Vamos aplicar esses conhecimentos ao exemplo da instituição de ensino."
   ]
  },
  {
   "cell_type": "code",
   "execution_count": 5,
   "metadata": {},
   "outputs": [],
   "source": [
    "ano_entrada = input('Escreva o ano de ingresso do(a) estudante:  ')"
   ]
  },
  {
   "cell_type": "code",
   "execution_count": 6,
   "metadata": {},
   "outputs": [
    {
     "data": {
      "text/plain": [
       "str"
      ]
     },
     "execution_count": 6,
     "metadata": {},
     "output_type": "execute_result"
    }
   ],
   "source": [
    "type(ano_entrada)"
   ]
  },
  {
   "cell_type": "markdown",
   "metadata": {},
   "source": [
    "Precisamos converter a saída desse input() para o tipo inteiro. Vamos copiar toda a primeira linha do ano de entrada e colar em outra célula. Em seguida, colocaremos a função input() dentro dos parênteses da função int(), afinal, 2023 é um ano inteiro."
   ]
  },
  {
   "cell_type": "code",
   "execution_count": 7,
   "metadata": {},
   "outputs": [],
   "source": [
    "ano_entrada = int(input('Escreva o ano de ingresso do(a) estudante:  '))"
   ]
  },
  {
   "cell_type": "code",
   "execution_count": 8,
   "metadata": {},
   "outputs": [
    {
     "data": {
      "text/plain": [
       "int"
      ]
     },
     "execution_count": 8,
     "metadata": {},
     "output_type": "execute_result"
    }
   ],
   "source": [
    "type(ano_entrada)\n",
    "#mudou para inteiro"
   ]
  },
  {
   "cell_type": "markdown",
   "metadata": {},
   "source": [
    "Supondo que precisamos coletar a nota de entrada de uma prova para ingressar na instituição de ensino, podemos colocar, na próxima célula, nota_entrada igual a float() e, dentro dos parênteses da função float(), passamos a função input() com o texto: 'Digite a nota do teste de ingresso: "
   ]
  },
  {
   "cell_type": "code",
   "execution_count": 9,
   "metadata": {},
   "outputs": [],
   "source": [
    "nota_entrada = float(input('Digite a nota do teste de ingresso: '))"
   ]
  },
  {
   "cell_type": "code",
   "execution_count": 14,
   "metadata": {},
   "outputs": [
    {
     "name": "stdout",
     "output_type": "stream",
     "text": [
      "Ano de entrada 2024 - nota do teste de ingresso 2024.0 \n"
     ]
    }
   ],
   "source": [
    "nota_entrada = float(input('Digite a nota do teste de ingresso: 8,8 '))\n",
    "print(f'Ano de entrada {ano_entrada} - nota do teste de ingresso {nota_entrada} ')"
   ]
  },
  {
   "cell_type": "markdown",
   "metadata": {},
   "source": [
    "### formatações do print()"
   ]
  },
  {
   "cell_type": "markdown",
   "metadata": {},
   "source": [
    "o uso do operador de formatação de string ou da função .format()."
   ]
  },
  {
   "cell_type": "markdown",
   "metadata": {},
   "source": [
    "Esse operador de formatação permite a inserção de variáveis em pontos específicos na string com o operador %. Esse operador funciona como um marcador, informando onde o valor da variável vai ser exposto na string.\n",
    "\n",
    "O % precisa ser acompanhado de uma palavra-chave para cada tipo de variável que se deseja adicionar. Seguindo a tabela abaixo:\n",
    "\n",
    "string = %s;\n",
    "\n",
    "int =  %d\n",
    "\n",
    "floot = %4\n",
    "\n",
    "caractere = %c"
   ]
  },
  {
   "cell_type": "code",
   "execution_count": 15,
   "metadata": {},
   "outputs": [
    {
     "name": "stdout",
     "output_type": "stream",
     "text": [
      "Nome do aluno: Fabricio Daniel\n"
     ]
    }
   ],
   "source": [
    "nome_aluno = 'Fabricio Daniel'\n",
    "\n",
    "print('Nome do aluno: %s' %(nome_aluno))"
   ]
  },
  {
   "cell_type": "markdown",
   "metadata": {},
   "source": [
    "Caso tenha mais de uma variável, devemos ordená-las conforme seu surgimento no texto e separá-las por vírgula."
   ]
  },
  {
   "cell_type": "code",
   "execution_count": 16,
   "metadata": {},
   "outputs": [
    {
     "name": "stdout",
     "output_type": "stream",
     "text": [
      "Nome do aluno é Fabricio Daniel, ele tem 15 anos e sua média é 8.450000.\n"
     ]
    }
   ],
   "source": [
    "nome_aluno = 'Fabricio Daniel'\n",
    "idade_aluno = 15\n",
    "media_aluno = 8.45\n",
    "\n",
    "print('Nome do aluno é %s, ele tem %d anos e sua média é %f.' %(nome_aluno, idade_aluno, media_aluno))"
   ]
  },
  {
   "cell_type": "markdown",
   "metadata": {},
   "source": [
    "Quando trabalhamos com pontos flutuantes (float), podemos determinar a quantidade de casas decimais após a vírgula usando a sintaxe %.xf, na qual x é o número de casas desejadas. Utilizando as mesmas variáveis do exemplo anterior, o código com %.xf fica da seguinte maneira:"
   ]
  },
  {
   "cell_type": "code",
   "execution_count": 17,
   "metadata": {},
   "outputs": [
    {
     "name": "stdout",
     "output_type": "stream",
     "text": [
      "Nome do aluno é Fabricio Daniel, ele tem 15 anos e sua média é 8.45.\n"
     ]
    }
   ],
   "source": [
    "print('Nome do aluno é %s, ele tem %d anos e sua média é %.2f.' %(nome_aluno, idade_aluno, media_aluno))"
   ]
  },
  {
   "cell_type": "markdown",
   "metadata": {},
   "source": [
    "Uma observação: os operadores de formatação de strings com % não funcionam diretamente com valores booleanos. Uma maneira de lidar com isso é convertendo o valor booleano para uma string antes de usá-lo na formatação com a função str(). Por exemplo:"
   ]
  },
  {
   "cell_type": "code",
   "execution_count": 18,
   "metadata": {},
   "outputs": [
    {
     "name": "stdout",
     "output_type": "stream",
     "text": [
      "Valor de x: True\n"
     ]
    }
   ],
   "source": [
    "x = True\n",
    "print(\"Valor de x: %s\" % str(x))"
   ]
  },
  {
   "cell_type": "markdown",
   "metadata": {},
   "source": [
    "Isso não acontece com a formatação f-string ou .format.\n",
    "\n",
    "format\n",
    "É possível também usar o método format() para fazer a formatação de strings. Ele é mais flexível e permite passar as variáveis diretamente dentro da string, sem a necessidade dos operadores %. Seus marcadores são apenas as {}. Exemplo:"
   ]
  },
  {
   "cell_type": "code",
   "execution_count": 19,
   "metadata": {},
   "outputs": [
    {
     "name": "stdout",
     "output_type": "stream",
     "text": [
      "Nome do aluno: Fabricio Daniel\n"
     ]
    }
   ],
   "source": [
    "nome_aluno = 'Fabricio Daniel'\n",
    "\n",
    "print('Nome do aluno: {}'.format(nome_aluno))"
   ]
  },
  {
   "cell_type": "markdown",
   "metadata": {},
   "source": [
    "Do mesmo modo que é feito com o operador, conseguimos aplicar com mais variáveis:"
   ]
  },
  {
   "cell_type": "code",
   "execution_count": 20,
   "metadata": {},
   "outputs": [
    {
     "name": "stdout",
     "output_type": "stream",
     "text": [
      "Nome do aluno é Fabricio Daniel, ele tem 15 anos e sua média é 8.45.\n"
     ]
    }
   ],
   "source": [
    "nome_aluno = 'Fabricio Daniel'\n",
    "idade_aluno = 15\n",
    "media_aluno = 8.45\n",
    "\n",
    "print('Nome do aluno é {}, ele tem {} anos e sua média é {}.' .format(nome_aluno, idade_aluno, media_aluno))"
   ]
  },
  {
   "cell_type": "markdown",
   "metadata": {},
   "source": [
    "com o format, não temos o problema das casas decimais do ponto flutuante. Esse problema também não é presente no formato f-string.\n",
    "\n",
    "Em resumo, cada uma dessas formas tem suas vantagens e desvantagens. Indico utilizar a forma f-string, pois é mais legível e fácil de usar. Mesmo assim, cada pessoa desenvolvedora pode escolher a forma que achar mais apropriada."
   ]
  },
  {
   "cell_type": "markdown",
   "metadata": {},
   "source": [
    "Além da formatação de inserção de variáveis dentro de uma string, também existem os caracteres especiais. Eles são usados para representar ações especiais ou caracteres que não podem ser digitados diretamente, como o Enter e a tabulação. Vamos conhecer alguns deles? Busque reproduzir todos os exemplos e visualizar o resultado final.\n",
    "\n",
    "    \\n é o caractere de nova linha e é usado para pular uma linha no texto (função do Enter). Exemplo:\n"
   ]
  },
  {
   "cell_type": "code",
   "execution_count": 21,
   "metadata": {},
   "outputs": [
    {
     "name": "stdout",
     "output_type": "stream",
     "text": [
      "Estudar é um esforço constante,\n",
      "É como cultivar uma planta,\n",
      "Precisamos de dedicação e paciência,\n",
      "Para ver o fruto amadurecer.\n"
     ]
    }
   ],
   "source": [
    "print(\"Estudar é um esforço constante,\\nÉ como cultivar uma planta,\\nPrecisamos de dedicação e paciência,\\nPara ver o fruto amadurecer.\")"
   ]
  },
  {
   "cell_type": "markdown",
   "metadata": {},
   "source": [
    "\\t é o caractere de tabulação usado para adicionar um espaço de tabulação no texto. Exemplo:"
   ]
  },
  {
   "cell_type": "code",
   "execution_count": null,
   "metadata": {},
   "outputs": [],
   "source": [
    "print('Quantidade\\tQualidade\\n5 amostras\\tAlta\\n3 amostras\\tBaixa')"
   ]
  },
  {
   "cell_type": "markdown",
   "metadata": {},
   "source": [
    "\\\\ é usado para imprimir uma única barra invertida. Caso não seja usada a dupla barra invertida, o código poderá resultar em erro ou em um resultado inesperado, pois o Python considera a \\ um chamado para um caractere especial. Usamos esta sintaxe para garantir que não ocorram erros. Exemplo:"
   ]
  },
  {
   "cell_type": "code",
   "execution_count": null,
   "metadata": {},
   "outputs": [],
   "source": [
    "print(\"Caminho do arquivo: C:\\\\arquivos\\\\documento.csv\")"
   ]
  },
  {
   "cell_type": "markdown",
   "metadata": {},
   "source": [
    "\\\" é usado para imprimir aspas duplas quando estamos trabalhando com uma string criada a partir de aspas duplas \". Porém, isso não é necessário caso seja uma string criada por aspas simples '. Como exemplo, temos:"
   ]
  },
  {
   "cell_type": "code",
   "execution_count": null,
   "metadata": {},
   "outputs": [],
   "source": [
    "print(\"Ouvi uma vez \\\"Os frutos do conhecimento são os mais doces e duradouros de todos.\\\"\")"
   ]
  },
  {
   "cell_type": "markdown",
   "metadata": {},
   "source": [
    "\\' é usado para imprimir aspas simples quando estamos trabalhando com uma string criada a partir de aspas simples '. Caso seja uma string criada por aspas duplas \", isso não é necessário. Exemplo:"
   ]
  },
  {
   "cell_type": "code",
   "execution_count": null,
   "metadata": {},
   "outputs": [],
   "source": [
    "print('Minha professora uma vez disse \\'Estudar é a chave do sucesso.\\' ')"
   ]
  },
  {
   "cell_type": "markdown",
   "metadata": {},
   "source": [
    "Nossa equipe de dados nos passou uma tarefa: categorizar, conforme a média que receberemos de determinado estudante, se ele está em condição de aprovação ou reprovação. Vamos pensar um pouco sobre esse problema.\n",
    "\n",
    "Nós teremos uma média. Ela é um valor de 0.0 a 10.0. A partir disso, temos algumas condições:\n",
    "\n",
    "Aprovação - se a média estiver entre 6.0 e 10.0\n",
    "Reprovação - se a média estiver entre 0.0 e 6.0\n",
    "Como definir se ele está aprovado ou reprovado? Conseguimos solucionar essa questão por estruturas condicionais."
   ]
  },
  {
   "cell_type": "markdown",
   "metadata": {},
   "source": [
    "### Hora da pratica "
   ]
  },
  {
   "cell_type": "markdown",
   "metadata": {},
   "source": [
    "Crie um programa que solicite à pessoa usuária digitar seu nome, e imprima “Olá, [nome]!”."
   ]
  },
  {
   "cell_type": "code",
   "execution_count": 28,
   "metadata": {},
   "outputs": [
    {
     "name": "stdout",
     "output_type": "stream",
     "text": [
      "Olá, João.\n"
     ]
    }
   ],
   "source": [
    "nome = input('Digite seu nome: ')\n",
    "print(f'Olá, {nome}.')"
   ]
  },
  {
   "cell_type": "markdown",
   "metadata": {},
   "source": [
    "Crie um programa que solicite à pessoa usuária digitar seu nome e idade, e imprima “Olá, [nome], você tem [idade] anos.”."
   ]
  },
  {
   "cell_type": "code",
   "execution_count": 32,
   "metadata": {},
   "outputs": [
    {
     "name": "stdout",
     "output_type": "stream",
     "text": [
      "Olá {'João'} você tem 22 anos\n"
     ]
    }
   ],
   "source": [
    "nome = input(\"Digite seu nome\")\n",
    "idade = input('Digite sua idade')\n",
    "print(f'Olá',{nome}, f'você tem {idade}', f'anos')"
   ]
  },
  {
   "cell_type": "code",
   "execution_count": 33,
   "metadata": {},
   "outputs": [
    {
     "name": "stdout",
     "output_type": "stream",
     "text": [
      "Olá joao, você tem 22 anos.\n"
     ]
    }
   ],
   "source": [
    "#correto\n",
    "nome = input('Digite seu nome: ')\n",
    "idade = int(input('Digite sua idade: '))\n",
    "print(f'Olá {nome}, você tem {idade} anos.')"
   ]
  },
  {
   "cell_type": "markdown",
   "metadata": {},
   "source": [
    "### Estruturas condicionais"
   ]
  },
  {
   "cell_type": "markdown",
   "metadata": {},
   "source": [
    "As estruturas condicionais permitem a execução de instruções por uma condição: se ela for verdadeira, alguma instrução definida será rodada. Se for falsa, outra instrução será rodada. Sendo que as instruções são diferentes e executadas a partir de determinada condição."
   ]
  },
  {
   "cell_type": "markdown",
   "metadata": {},
   "source": [
    "Sempre estará carregada de uma icognita\n",
    "SE condição:\n",
    "  - instruções caso a condição seja **VERDADEIRA**\n",
    "Senão:\n",
    "  - instruções caso a condição seja **FALSA**\n",
    "\n",
    "SE media > 6.0\n",
    "   - instrução: estudante aprovado(a)\n",
    "Senão:\n",
    "   - instrução: estudante reprovado(a)\n",
    "\n",
    "No Python, é possível reproduzir essa mesma estrutura, com pequenas mudanças. A ideia da estruturação da condicional é exatamente essa. Acompanharemos a aplicação no Python no próximo vídeo.\n",
    "\n",
    "\n"
   ]
  },
  {
   "cell_type": "markdown",
   "metadata": {},
   "source": [
    "#### Conhecendo if e o else"
   ]
  },
  {
   "cell_type": "markdown",
   "metadata": {},
   "source": [
    "O if é uma estrutura condicional. Ele permite que todo o conjunto, isto é, o bloco de instruções, seja executado, caso a condição especificada nele seja verdadeira. Do contrário, no else, caso a instrução seja falsa, o bloco de instruções será executado."
   ]
  },
  {
   "cell_type": "markdown",
   "metadata": {},
   "source": [
    "o if. Brevemente, podemos considerar que ele é uma palavra-chave para \"se\" e permitirá avaliar se uma condição é dada como verdadeira ou falsa. Se for dada como verdadeira, o bloco de instruções será executado.\n",
    "\n",
    "Sua sintaxe é bem parecida com a que estudamos na aula passada, das estruturas condicionais. Temos o \"se\", palavra-chave para \"if\", seguido de espaço, a condição e \"dois pontos (:)\". Abaixo, precisamos lembrar de identar nosso bloco, adicionando espaço igual a uma tabulação, a partir da linha do if."
   ]
  },
  {
   "cell_type": "markdown",
   "metadata": {},
   "source": [
    "if condição: \n",
    "\n",
    "   # faça algo \n",
    "     "
   ]
  },
  {
   "cell_type": "code",
   "execution_count": 36,
   "metadata": {},
   "outputs": [
    {
     "name": "stdout",
     "output_type": "stream",
     "text": [
      "condição verdadeira\n"
     ]
    }
   ],
   "source": [
    "if 2<7:\n",
    "    print('condição verdadeira')"
   ]
  },
  {
   "cell_type": "code",
   "execution_count": 37,
   "metadata": {},
   "outputs": [],
   "source": [
    "if 2>7:\n",
    "   print('condição verdadeira')\n",
    "# Não vai accontecer nada\n"
   ]
  },
  {
   "cell_type": "markdown",
   "metadata": {},
   "source": [
    "Lembrando que, se adicionarmos outro print() no if, ele também só será executado caso a condição seja verdadeira."
   ]
  },
  {
   "cell_type": "markdown",
   "metadata": {},
   "source": [
    "se adicionamos algo fora da tabulação, isto é, do bloco de comando, este código será executado, independentemente de a condição ser falsa ou verdadeira, pois não faz parte do grupo de instruções do if. Vamos conferir apertando \"Shift + Enter\"."
   ]
  },
  {
   "cell_type": "code",
   "execution_count": 38,
   "metadata": {},
   "outputs": [
    {
     "name": "stdout",
     "output_type": "stream",
     "text": [
      "fora do bloco\n"
     ]
    }
   ],
   "source": [
    "if 2>7:\n",
    "   print('condição verdadeira')\n",
    "   print()\n",
    "print('fora do bloco')\n"
   ]
  },
  {
   "cell_type": "markdown",
   "metadata": {},
   "source": [
    "Apenas o print('fora do bloco') foi executado. Sabendo disso, podemos seguir para a estrutura do else. Ele realiza o papel da palavra-chave \"senão\", que rodará o bloco de instruções quando a condição atrelada ao if for falsa. Sua sintaxe é parecida com a do if."
   ]
  },
  {
   "cell_type": "markdown",
   "metadata": {},
   "source": [
    "if condição:\n",
    "\n",
    "\n",
    "  código caso seja verdade \n",
    "\n",
    "\n",
    "else:\n",
    "\n",
    "  código caso seja falso\n",
    "    "
   ]
  },
  {
   "cell_type": "markdown",
   "metadata": {},
   "source": [
    "### Operadores relacionais "
   ]
  },
  {
   "cell_type": "markdown",
   "metadata": {},
   "source": [
    "Uma condição nada mais é que uma comparação entre dados, a partir da qual nós podemos obter o resultado verdadeiro ou falso de uma condicional. A comparação pode ser feita por operadores relacionais que tem a missão de comparar valores e determinar se uma expressão é verdadeira ou falsa. Vamos conhecer os comparadores lógicos e como podemos usá-los.\n",
    "\n",
    "Maior que (>)\n",
    "Retorna verdadeiro se o valor à esquerda do símbolo for maior que o da direita. Sua sintaxe, valor_1 > valor_2, representa uma comparação que só retornará verdadeiro se valor_1 for maior que valor_2. Com esse comparador lógico, podemos verificar se uma pessoa é mais velha que outra ao comparar suas idades como mostrado no exemplo a seguir:"
   ]
  },
  {
   "cell_type": "code",
   "execution_count": null,
   "metadata": {},
   "outputs": [],
   "source": [
    "idade_maria = int(input('Digite a idade da Maria: '))\n",
    "idade_beatriz = int(input('Digite a idade da Beatriz: '))\n",
    "\n",
    "if idade_maria > idade_beatriz:\n",
    "  print('Maria é mais velha que Beatriz.')"
   ]
  },
  {
   "cell_type": "markdown",
   "metadata": {},
   "source": [
    "O comparador maior que (>) retorna um valor falso caso os valores comparados sejam iguais ou se o valor à esquerda do símbolo for inferior ao da direita.\n",
    "\n",
    "Menor que (<)\n",
    "Retorna verdadeiro se o valor à esquerda do símbolo for menor que o da direita e sua sintaxe é a seguinte: valor_1 < valor_2. Essa comparação só retornará verdadeiro se valor_1 for menor que valor_2. Com esse operador relacional, também podemos verificar se uma pessoa é mais velha que outra comparando suas idades:"
   ]
  },
  {
   "cell_type": "code",
   "execution_count": null,
   "metadata": {},
   "outputs": [],
   "source": [
    "idade_maria = int(input('Digite a idade da Maria: '))\n",
    "idade_beatriz = int(input('Digite a idade da Beatriz: '))\n",
    "\n",
    "if idade_maria < idade_beatriz:\n",
    "  print('Maria é mais nova que Beatriz.')"
   ]
  },
  {
   "cell_type": "markdown",
   "metadata": {},
   "source": [
    "Esse comparador também retorna um valor falso caso os valores comparados sejam iguais ou se o valor à esquerda do símbolo for superior ao da direita.\n",
    "\n",
    "Maior ou igual a (>=)\n",
    "Retorna verdadeiro se o valor à esquerda do símbolo for maior ou igual ao valor à direita. Sua sintaxe é a seguinte: valor_1 >= valor_2. Essa comparação só retornará verdadeiro se valor_1 for maior ou igual ao valor_2. Com esse operador relacional podemos, por exemplo, verificar se uma empresa tem uma quantidade maior ou igual à outra:"
   ]
  },
  {
   "cell_type": "code",
   "execution_count": null,
   "metadata": {},
   "outputs": [],
   "source": [
    "empregados_empresa_1 = int(input('Digite a quantidade de empregados da empresa 1: '))\n",
    "empregados_empresa_2 = int(input('Digite a quantidade de empregados da empresa 2: '))\n",
    "\n",
    "if empregados_empresa_1 >= empregados_empresa_2:\n",
    "  print('Empresa 1 tem uma quantidade de empregados maior ou igual à empresa 2.')"
   ]
  },
  {
   "cell_type": "markdown",
   "metadata": {},
   "source": [
    "Menor ou igual a (<=)\n",
    "Retorna verdadeiro se o valor à esquerda do símbolo for menor ou igual ao valor à direita. Sua sintaxe é a seguinte: valor_1 <= valor_2. Essa comparação só retornará verdadeiro se valor_1 for menor ou igual ao valor_2. Com esse operador relacional, verificamos se uma empresa tem uma quantidade menor ou igual à outra, como mostrado a seguir:"
   ]
  },
  {
   "cell_type": "code",
   "execution_count": null,
   "metadata": {},
   "outputs": [],
   "source": [
    "empregados_empresa_1 = int(input('Digite a quantidade de empregados da empresa 1: '))\n",
    "empregados_empresa_2 = int(input('Digite a quantidade de empregados da empresa 2: '))\n",
    "\n",
    "if empregados_empresa_1 <= empregados_empresa_2:\n",
    "  print('Empresa 1 tem uma quantidade de empregados menor ou igual à empresa 2.')"
   ]
  },
  {
   "cell_type": "markdown",
   "metadata": {},
   "source": [
    "Igual a (==)\n",
    "Retorna verdadeiro se o valor à esquerda do símbolo for igual ao valor à direita. Sua sintaxe, valor_1 == valor_2, representa uma comparação que só retornará verdadeiro se valor_1 for igual ao valor_2. Com esse operador relacional, podemos verificar, por exemplo, se dois livros têm o mesmo nome através de uma comparação de strings"
   ]
  },
  {
   "cell_type": "code",
   "execution_count": null,
   "metadata": {},
   "outputs": [],
   "source": [
    "livro_1 = input('Digite o título do 1° livro: ')\n",
    "livro_2 = input('Digite o título do 2° livro: ')\n",
    "\n",
    "if livro_1 == livro_2:\n",
    "  print('Os livros têm o mesmo título')"
   ]
  },
  {
   "cell_type": "markdown",
   "metadata": {},
   "source": [
    "Também é possível fazer essa comparação com valores numéricos.\n",
    "\n",
    "Diferente de (!=)\n",
    "Retorna verdadeiro se o valor à esquerda do símbolo for diferente do valor à direita. Sua sintaxe, valor_1 != valor_2, representa uma comparação que só retornará verdadeiro se valor_1 for diferente do valor_2. Esse operador é o inverso do ==. Com ele, podemos verificar se dois livros têm o títulos diferentes através de uma comparação de strings:"
   ]
  },
  {
   "cell_type": "code",
   "execution_count": null,
   "metadata": {},
   "outputs": [],
   "source": [
    "livro_1 = input('Digite o título do 1° livro: ')\n",
    "livro_2 = input('Digite o título do 2° livro: ')\n",
    "\n",
    "if livro_1 != livro_2:\n",
    "  print('Os livros têm títulos diferentes')"
   ]
  },
  {
   "cell_type": "markdown",
   "metadata": {},
   "source": [
    "Também é possível fazer essa comparação com valores numéricos."
   ]
  },
  {
   "cell_type": "markdown",
   "metadata": {},
   "source": [
    "### Utilizando if e else"
   ]
  },
  {
   "cell_type": "markdown",
   "metadata": {},
   "source": [
    "Situação: Receberemos a média de estudantes e precisamos de um algoritmo que execute a análise e decida se esse estudante está Aprovado ou Reprovado, mostrando uma mensagem do resultado. Para ser aprovado, a média precisa ser igual ou superior à 6.0.\n",
    "Ou seja, vamos coletar um valor qualquer de média a verificar se, a depender desse valor, a pessoa estudante está aprovada ou reprovada. Lembrando que, para que ela seja aprovada, a média precisa ser igual ou maior a 6.\n",
    "\n",
    "A célula de captura dessa média, é:"
   ]
  },
  {
   "cell_type": "code",
   "execution_count": 40,
   "metadata": {},
   "outputs": [
    {
     "name": "stdout",
     "output_type": "stream",
     "text": [
      "Aprovado(a)\n"
     ]
    }
   ],
   "source": [
    "media = float(input('Digite a média: '))\n",
    "\n",
    "if media > 6.0:\n",
    "  print('Aprovado(a)')\n",
    "else:\n",
    "  print('Reprovado(a)')"
   ]
  },
  {
   "cell_type": "code",
   "execution_count": 41,
   "metadata": {},
   "outputs": [
    {
     "name": "stdout",
     "output_type": "stream",
     "text": [
      "Reprovado(a)\n"
     ]
    }
   ],
   "source": [
    "media = float(input('Digite a média: '))\n",
    "\n",
    "if media >= 6.0:\n",
    "  print('Aprovado(a)')\n",
    "else:\n",
    "  print('Reprovado(a)')"
   ]
  },
  {
   "cell_type": "markdown",
   "metadata": {},
   "source": [
    "Também podemos fazer conjuntos de ifs, trabalhando com situações que exijam mais de duas condições. Vamos acompanhar um caso em que isso acontece, envolvendo a nossa instituição de ensino."
   ]
  },
  {
   "cell_type": "markdown",
   "metadata": {},
   "source": [
    "Situação: A nossa instituição de ensino lançou uma nota oficial: pessoas com média entre 4.0 e 6.0 podem fazer os cursos de Recuperação nas férias e tentar recuperar a nota.\n",
    "\n",
    "Vamos fazer um conjunto de ifs, estruturando essa nova condição.\n",
    "Neste caso, temos as condições:\n",
    "\n",
    "Se a média for igual ou superior a 6, a pessoa está aprovada.\n",
    "\n",
    "Se a média estiver entre 4 e 6, a pessoa está de recuperação.\n",
    "\n",
    "Se a média for inferior a 4, a pessoa está reprovada.\n",
    "\n",
    "Podemos fazer um conjunto de ifs em cascata para estruturarmos essa nova condição. Para isso, vamos selecionaremos o código de coleta de média e, a partir dessa coleta, podemos criar um conjunto de ifs."
   ]
  },
  {
   "cell_type": "code",
   "execution_count": 42,
   "metadata": {},
   "outputs": [
    {
     "name": "stdout",
     "output_type": "stream",
     "text": [
      "Aprovado(a)\n"
     ]
    }
   ],
   "source": [
    "media = float(input('Digite a média: '))\n",
    "\n",
    "if media >= 6.0:\n",
    "  print('Aprovado(a)')\n",
    "if 6.0 > media >= 4.0:\n",
    "  print('Recuperação')\n",
    "if media < 4.0:\n",
    "  print('Reprovado(a)')"
   ]
  },
  {
   "cell_type": "code",
   "execution_count": 43,
   "metadata": {},
   "outputs": [
    {
     "name": "stdout",
     "output_type": "stream",
     "text": [
      "Reprovado(a)\n"
     ]
    }
   ],
   "source": [
    "media = float(input('Digite a média: '))\n",
    "\n",
    "if media >= 6.0:\n",
    "  print('Aprovado(a)')\n",
    "if 6.0 > media >= 4.0:\n",
    "  print('Recuperação')\n",
    "if media < 4.0:\n",
    "  print('Reprovado(a)')"
   ]
  },
  {
   "cell_type": "code",
   "execution_count": 44,
   "metadata": {},
   "outputs": [
    {
     "name": "stdout",
     "output_type": "stream",
     "text": [
      "Recuperação\n"
     ]
    }
   ],
   "source": [
    "media = float(input('Digite a média: '))\n",
    "\n",
    "if media >= 6.0:\n",
    "  print('Aprovado(a)')\n",
    "if 6.0 > media >= 4.0:\n",
    "  print('Recuperação')\n",
    "if media < 4.0:\n",
    "  print('Reprovado(a)')"
   ]
  },
  {
   "cell_type": "markdown",
   "metadata": {},
   "source": [
    "temos tantos ifs em cascata, porque não adicionar um else? A resposta é que isso poderia nos gerar um erro.\n",
    "O else é uma estrutura que se associa apenas ao último if associado"
   ]
  },
  {
   "cell_type": "code",
   "execution_count": 46,
   "metadata": {},
   "outputs": [
    {
     "name": "stdout",
     "output_type": "stream",
     "text": [
      "Aprovado(a)\n"
     ]
    }
   ],
   "source": [
    "media = float(input('Digite a média: '))\n",
    "\n",
    "if media >= 6.0:\n",
    "  print('Aprovado(a)')\n",
    "if 6.0 > media >= 4.0:\n",
    "  print('Recuperação')\n",
    "if media < 4.0:\n",
    "  print('Reprovado(a)')"
   ]
  },
  {
   "cell_type": "markdown",
   "metadata": {},
   "source": [
    "O else é uma estrutura condicional opcional atrelada ao if. Ele é executado quando a condição especificada na estrutura condicional anterior não é verdadeira. A sintaxe de sua estrutura pode ser exemplificada através de uma condicional simples. Para verificar se a 1° nota de um estudante é maior ou igual a sua 2° nota na mesma matéria, fazemos:\n",
    "\n",
    "if nota_1 >= nota_2:\n",
    "  print('A 2° nota é menor ou igual a 1°.')\n",
    "else:\n",
    "  print('A 2° nota é maior que a 1°.')\n",
    "\n",
    "Caso a condição no if (nota_1 >= nota_2) seja falsa, o código dentro do bloco if será ignorado e o programa executará o código dentro do bloco else. Assim, ele é utilizado de forma que, caso a condição não seja verdadeira, uma ação alternativa seja tomada, garantindo um controle sobre todos os processos do código."
   ]
  },
  {
   "cell_type": "markdown",
   "metadata": {},
   "source": [
    "### Elif"
   ]
  },
  {
   "cell_type": "markdown",
   "metadata": {},
   "source": [
    "O elif é uma palavra-chave em Python que significa \"senão, se\" e pode ser considerado uma união do else com um if. Ela é usada em conjunto com a palavra-chave if para formar uma estrutura condicional encadeada."
   ]
  },
  {
   "cell_type": "markdown",
   "metadata": {},
   "source": [
    "Essa estrutura será executada se a condição superior a ela for falsa. O código de execução será executado se a condição inserida nela for verdadeira. Vamos analisar a sintaxe do elif:\n",
    "\n",
    "if condição1:\n",
    "\n",
    "faça algo\n",
    "\n",
    "elif condição2:\n",
    "\n",
    "faça outra coisa\n",
    "\n",
    "elif condição3:\n",
    "\n",
    "faça mais alguma coisa\n",
    "\n",
    "else:\n",
    "\n",
    "faça algo diferente\n"
   ]
  },
  {
   "cell_type": "code",
   "execution_count": 48,
   "metadata": {},
   "outputs": [
    {
     "name": "stdout",
     "output_type": "stream",
     "text": [
      "Aprovado(a)\n"
     ]
    }
   ],
   "source": [
    "if media >= 6.0:\n",
    "  print('Aprovado(a)')\n",
    "if 6.0 > media >= 4.0:\n",
    "  print('Recuperação')\n",
    "if media < 4.0:\n",
    "  print('Reprovado(a)')"
   ]
  },
  {
   "cell_type": "code",
   "execution_count": 49,
   "metadata": {},
   "outputs": [
    {
     "name": "stdout",
     "output_type": "stream",
     "text": [
      "Aprovado(a)\n"
     ]
    }
   ],
   "source": [
    "if media >= 6.0:\n",
    "  print('Aprovado(a)')\n",
    "elif 6.0 > media >= 4.0:\n",
    "  print('Recuperação')\n",
    "else:\n",
    "  print('Reprovado(a)')"
   ]
  },
  {
   "cell_type": "code",
   "execution_count": 51,
   "metadata": {},
   "outputs": [
    {
     "name": "stdout",
     "output_type": "stream",
     "text": [
      "Reprovado(a)\n"
     ]
    }
   ],
   "source": [
    "if media >= 9.0:\n",
    "  print('Aprovado(a)')\n",
    "elif 6.0 > media >= 4.0:\n",
    "  print('Recuperação')\n",
    "else:\n",
    "  print('Reprovado(a)')"
   ]
  },
  {
   "cell_type": "markdown",
   "metadata": {},
   "source": [
    "não é boa prática fazer milhões de condicionais em cadeia. Podemos buscar outras alternativas. Vamos usar a nossa aplicação de ifs em cadeia e remodelá-la com ifs e elses."
   ]
  },
  {
   "cell_type": "code",
   "execution_count": 53,
   "metadata": {},
   "outputs": [
    {
     "name": "stdout",
     "output_type": "stream",
     "text": [
      "Aprovado(a)\n"
     ]
    }
   ],
   "source": [
    "media = float(input('Digite a média: '))\n",
    "if media >= 6.0:\n",
    "  print('Aprovado(a)')\n",
    "if 6.0 > media >= 4.0:\n",
    "  print('Recuperação')\n",
    "if media < 4.0:\n",
    "  print('Reprovado(a)')"
   ]
  },
  {
   "cell_type": "markdown",
   "metadata": {},
   "source": [
    "O elif é uma estrutura condicional opcional atrelada ao if. Ele permite que seja possível realizar a verificação de várias condições de maneira encadeada, de modo que ele só será executado se a condição anterior não for atendida. Podemos exemplificar através de uma condicional ao classificar os preços de um imóvel vendido no mercado imobiliário, como no código a seguir:\n",
    "\n",
    "if valor_imovel < 100000:\n",
    "    print('Imóvel de entrada')\n",
    "elif valor_imovel >= 100000 and valor_imovel < 500000:\n",
    "    print('Imóvel de médio valor')\n",
    "elif valor_imovel >= 500000:\n",
    "    print('Imóvel de alto valor')\n",
    "\n",
    "O elif permite adicionar múltiplas condições a um código e é executado somente se as condições do if ou de todos os elifs anteriores forem falsas. Assim, o elif fornece uma maneira de verificar várias condições diferentes sem precisar usar vários comandos if. No exemplo, o elif é usado para verificar se o valor do imóvel está entre 100000 e 500000 e também se o valor é igual ou superior a 500000, mas essa verificação só é feita caso a condição anterior seja falsa."
   ]
  },
  {
   "cell_type": "markdown",
   "metadata": {},
   "source": [
    "### Operadores lógicos "
   ]
  },
  {
   "cell_type": "markdown",
   "metadata": {},
   "source": [
    "Operandos e operadores lógicos\n",
    "As expressões lógicas são compostas de operandos e operadores lógicos. Os operandos lógicos são elementos comparados ou avaliados em uma expressão lógica e vão retornar True ou False.\n",
    "\n",
    "Vamos recordar o código da aula passada."
   ]
  },
  {
   "cell_type": "code",
   "execution_count": null,
   "metadata": {},
   "outputs": [],
   "source": [
    "if media >= 6.0:\n",
    "  print('Aprovado(a)')\n",
    "elif 6.0 > media >= 4.0:\n",
    "  print('Recuperação')\n",
    "else:\n",
    "  print('Reprovado(a)')"
   ]
  },
  {
   "cell_type": "markdown",
   "metadata": {},
   "source": [
    "Os operadores lógicos são caracteres, símbolos ou palavras-chave usadas para combinar operandos em uma única expressão. Os três operadores do Python são: and, or e not. Estudaremos mais a fundo esses operadores neste vídeo."
   ]
  },
  {
   "cell_type": "markdown",
   "metadata": {},
   "source": [
    " múltipla atribuição de início. Mas, o que é uma múltipla atribuição? É quando temos determinado valor/dado e ligamos diversas variáveis a esse mesmo valor."
   ]
  },
  {
   "cell_type": "code",
   "execution_count": 55,
   "metadata": {},
   "outputs": [],
   "source": [
    "t1 = t2 = True\n",
    "f1 = f2 = False"
   ]
  },
  {
   "cell_type": "code",
   "execution_count": null,
   "metadata": {},
   "outputs": [],
   "source": [
    "if :\n",
    "  print('expressão verdadeira')\n",
    "else:\n",
    "  print('expressão falsa')"
   ]
  },
  {
   "cell_type": "markdown",
   "metadata": {},
   "source": [
    "A estrutura do and só retornará um resultado verdadeiro se os dois operandos lógicos que o compõe também forem verdadeiros. Isso faz parte da tabela verdade do and."
   ]
  },
  {
   "cell_type": "markdown",
   "metadata": {},
   "source": [
    "Na primeira parte do and, vamos determinar que ele deve funcionar quando tiver dois valores True: t1 and t2. Significa o operador and vai comparar True e outro True, t1 e t2. Vamos rodar a célula com \"Shift + Enter\"."
   ]
  },
  {
   "cell_type": "code",
   "execution_count": 56,
   "metadata": {},
   "outputs": [
    {
     "name": "stdout",
     "output_type": "stream",
     "text": [
      "expressão verdadeira\n"
     ]
    }
   ],
   "source": [
    "if t1 and t2:\n",
    "  print('expressão verdadeira')\n",
    "else:\n",
    "  print('expressão falsa')"
   ]
  },
  {
   "cell_type": "code",
   "execution_count": 57,
   "metadata": {},
   "outputs": [
    {
     "name": "stdout",
     "output_type": "stream",
     "text": [
      "expressão falsa\n"
     ]
    }
   ],
   "source": [
    "#Se, ao invés de t2, colocarmos f2 e rodarmos, o retorno será expressão falsa.\n",
    "\n",
    "if t1 and f2:\n",
    "  print('expressão verdadeira')\n",
    "else:\n",
    "  print('expressão falsa')"
   ]
  },
  {
   "cell_type": "markdown",
   "metadata": {},
   "source": [
    "O or é a condição \"ou\". Ela será dada como falsa apenas quando as duas entradas forem falsas. No caso de uma ou duas condições verdadeiras, ela também será dada como verdadeira."
   ]
  },
  {
   "cell_type": "code",
   "execution_count": 58,
   "metadata": {},
   "outputs": [
    {
     "name": "stdout",
     "output_type": "stream",
     "text": [
      "expressão falsa\n"
     ]
    }
   ],
   "source": [
    "#Vamos colocar f1, espaço, or, que é o nosso operador, espaço, f2. Agora, apertaremos \"Shift + Enter\".\n",
    "if f1 or f2:\n",
    "  print('expressão verdadeira')\n",
    "else:\n",
    "  print('expressão falsa')"
   ]
  },
  {
   "cell_type": "code",
   "execution_count": null,
   "metadata": {},
   "outputs": [],
   "source": [
    "#se ao invés de f1, adicionarmos t1, a expressão será verdadeira, por o resultado ser positivo e verdadeiro.\n",
    "if t1 or f2:\n",
    "  print('expressão verdadeira')\n",
    "else:\n",
    "  print('expressão falsa')"
   ]
  },
  {
   "cell_type": "markdown",
   "metadata": {},
   "source": [
    "O operador not inverte o resultado booleano. Então, se colocamos um not e o True, esse True se transformará em False. Da mesma maneira, um not e um False, será transformado em True."
   ]
  },
  {
   "cell_type": "code",
   "execution_count": null,
   "metadata": {},
   "outputs": [],
   "source": [
    "if not t1:\n",
    "  print('expressão verdadeira')\n",
    "else:\n",
    "  print('expressão falsa')"
   ]
  },
  {
   "cell_type": "code",
   "execution_count": 59,
   "metadata": {},
   "outputs": [
    {
     "name": "stdout",
     "output_type": "stream",
     "text": [
      "expressão falsa\n"
     ]
    }
   ],
   "source": [
    "#Esse resultado será falso, porque a \"verdade\" será invertida. Para testar, basta apertar \"Shift + Enter\".\n",
    "if not t1:\n",
    "  print('expressão verdadeira')\n",
    "else:\n",
    "  print('expressão falsa')"
   ]
  },
  {
   "cell_type": "code",
   "execution_count": 60,
   "metadata": {},
   "outputs": [
    {
     "name": "stdout",
     "output_type": "stream",
     "text": [
      "expressão verdadeira\n"
     ]
    }
   ],
   "source": [
    "#Se colocarmos f1, que é o falso, no lugar de t1, True, e apertarmos \"Shift + Enter\" outra vez, o resultado será verdadeiro.\n",
    "if not f1:\n",
    "  print('expressão verdadeira')\n",
    "else:\n",
    "  print('expressão falsa')"
   ]
  },
  {
   "cell_type": "markdown",
   "metadata": {},
   "source": [
    "O operador in funciona de maneira diferente do or, and e not. Sua missão é verificar se determinado elemento está contido em um conjunto de elementos.\n",
    "\n",
    "Podemos usá-lo para verificar se uma palavra está contida em um texto, por exemplo. Caso ela esteja, o resultado será True, e caso não esteja, False. Vamos acompanhar uma situação que envolve nosso trabalho na escola."
   ]
  },
  {
   "cell_type": "markdown",
   "metadata": {},
   "source": [
    "### Tabela verdade"
   ]
  },
  {
   "attachments": {
    "image-2.png": {
     "image/png": "[encoded data removed]"
    },
    "image-3.png": {
     "image/png": "[encoded data removed]"
    },
    "image.png": {
     "image/png": "[encoded data removed]"
    }
   },
   "cell_type": "markdown",
   "metadata": {},
   "source": [
    "Quando desejamos criar uma expressão lógica com operadores lógicos, precisamos saber como funciona a tabela verdade de cada um deles para conseguirmos construir um código que resulte no que esperamos. Essas tabelas ajudam a entender e a analisar expressões lógicas, como as encontradas em algoritmos de programação e para verificar a validade de uma dada expressão lógica. A tabela auxilia na verificação dos resultados para todas as possíveis combinações de valores lógicos de uma dada expressão lógica.\n",
    "\n",
    "Vamos conhecer a tabela verdade dos operadores lógicos and, or e not.\n",
    "\n",
    "Operador and\n",
    "A tabela verdade do operador and nos mostra que a saída somente retorna Verdade (True) se ambos os operandos são Verdade. Caso contrário, retorna Falso (False), como mostrado na tabela abaixo:\n",
    "\n",
    "![image.png](attachment:image.png)\n",
    "\n",
    "Operador or\n",
    "A tabela verdade do operador or nos mostra que a saída somente retorna Falso (False) se ambos os operandos são Falsos, caso contrário, retorna Verdade (True). Ou seja, será retornado True se pelo menos um dos operandos for True, como mostrado abaixo:\n",
    "\n",
    "![image-2.png](attachment:image-2.png)\n",
    "\n",
    "O operador not tem uma tabela verdade menor, uma vez que ele apenas inverte o valor do operando. Se o operando for Verdadeiro, retorna Falso; se for Falso, retorna Verdadeiro.\n",
    "\n",
    "Operador not\n",
    "\n",
    "![image-3.png](attachment:image-3.png)"
   ]
  },
  {
   "cell_type": "markdown",
   "metadata": {},
   "source": [
    "ok"
   ]
  },
  {
   "cell_type": "markdown",
   "metadata": {},
   "source": []
  },
  {
   "cell_type": "markdown",
   "metadata": {},
   "source": []
  }
 ],
 "metadata": {
  "kernelspec": {
   "display_name": ".venv",
   "language": "python",
   "name": "python3"
  },
  "language_info": {
   "codemirror_mode": {
    "name": "ipython",
    "version": 3
   },
   "file_extension": ".py",
   "mimetype": "text/x-python",
   "name": "python",
   "nbconvert_exporter": "python",
   "pygments_lexer": "ipython3",
   "version": "3.12.4"
  }
 },
 "nbformat": 4,
 "nbformat_minor": 2
}
