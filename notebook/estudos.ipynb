{
 "cells": [
  {
   "cell_type": "markdown",
   "metadata": {},
   "source": [
    "# Introdução a python"
   ]
  },
  {
   "cell_type": "markdown",
   "metadata": {},
   "source": [
    "### O que é python"
   ]
  },
  {
   "cell_type": "markdown",
   "metadata": {},
   "source": [
    "Python é uma linguagem de programação de alto nível, foi criada em 89 e é  usada em vários tipos de aplicação,desde de machine learning.\n",
    "A sintaxe é simples e fáccil para iniciante e possui uma grande comunidade."
   ]
  },
  {
   "cell_type": "markdown",
   "metadata": {},
   "source": [
    "### O que é um notebook"
   ]
  },
  {
   "cell_type": "markdown",
   "metadata": {},
   "source": [
    "O notebook é um ambiente interativo que combina várias informações, como código, texto, equações matemáticas e visualizações de dados. Tudo reunido em um único documento.\n",
    "Utilizado para documentar o código em ciência de dados"
   ]
  },
  {
   "cell_type": "markdown",
   "metadata": {},
   "source": [
    "Sempre que criamos um notebook, ele terá a terminação .ipynb"
   ]
  },
  {
   "cell_type": "markdown",
   "metadata": {},
   "source": [
    "O notebook executa em tempo real de código. "
   ]
  },
  {
   "cell_type": "code",
   "execution_count": 2,
   "metadata": {},
   "outputs": [
    {
     "data": {
      "text/plain": [
       "20"
      ]
     },
     "execution_count": 2,
     "metadata": {},
     "output_type": "execute_result"
    }
   ],
   "source": [
    "10 + 10\n",
    "# Foi em tempo real e o ressultado da conta"
   ]
  },
  {
   "cell_type": "markdown",
   "metadata": {},
   "source": [
    "### Uma alternativa ao VScode chamada Google colab"
   ]
  },
  {
   "cell_type": "markdown",
   "metadata": {},
   "source": [
    "- Permite escrever e executar códigos em Python através de um navegador, sem precisar instalar nenhum software adicional;\n",
    "- Funciona usando uma máquina virtual, que é basicamente um sistema virtual que simula um computador;\n",
    "- Essa máquina virtual é temporária, ou seja, ela é criada quando abrimos o Colab e encerrada quando fechamos ele ou quando o tempo de execução da máquina expira;\n",
    "- Isso significa que qualquer dado que carreguarmos na máquina virtual será perdido quando ela for encerrada"
   ]
  },
  {
   "cell_type": "markdown",
   "metadata": {},
   "source": [
    "### Primeiro código"
   ]
  },
  {
   "cell_type": "markdown",
   "metadata": {},
   "source": [
    "A máquina não faz nada além do que é comandada a fazer;\n",
    "\n",
    "\n",
    "Comando:\n",
    "- Em linguagem de programação, se trata de um código que especifica para a máquina a função a ser executada. Ele precisa ser organizado passo a passo, com tudo bem definido."
   ]
  },
  {
   "cell_type": "markdown",
   "metadata": {},
   "source": [
    "#### Função print()"
   ]
  },
  {
   "cell_type": "markdown",
   "metadata": {},
   "source": [
    "print() = Exibe uma informação específica insirida dentro dos parentesess"
   ]
  },
  {
   "cell_type": "code",
   "execution_count": 3,
   "metadata": {},
   "outputs": [
    {
     "name": "stdout",
     "output_type": "stream",
     "text": [
      "Olá mundo!\n"
     ]
    }
   ],
   "source": [
    "print('Olá mundo!');"
   ]
  },
  {
   "cell_type": "markdown",
   "metadata": {},
   "source": [
    "Quando trabalhamos com números não precisamos usar \"\""
   ]
  },
  {
   "cell_type": "code",
   "execution_count": 4,
   "metadata": {},
   "outputs": [
    {
     "name": "stdout",
     "output_type": "stream",
     "text": [
      "10\n"
     ]
    }
   ],
   "source": [
    "print(10);"
   ]
  },
  {
   "cell_type": "code",
   "execution_count": 5,
   "metadata": {},
   "outputs": [
    {
     "name": "stdout",
     "output_type": "stream",
     "text": [
      "João Vitor 22 anos\n"
     ]
    }
   ],
   "source": [
    "print('João Vitor', 22, \"anos\")\n",
    "# Precisamos usar , para exibir um novo ressltado"
   ]
  },
  {
   "cell_type": "markdown",
   "metadata": {},
   "source": [
    "#### Desafio \n"
   ]
  },
  {
   "cell_type": "code",
   "execution_count": 6,
   "metadata": {},
   "outputs": [
    {
     "name": "stdout",
     "output_type": "stream",
     "text": [
      "Escola de Dados da Alura!.\n"
     ]
    }
   ],
   "source": [
    "#mprima a frase Escola de Dados da Alura!.\n",
    "print(\"Escola de Dados da Alura!.\")"
   ]
  },
  {
   "cell_type": "code",
   "execution_count": 7,
   "metadata": {},
   "outputs": [
    {
     "name": "stdout",
     "output_type": "stream",
     "text": [
      "nome: João Vitor\n",
      "Sobrenome: De MElo Gomes\n"
     ]
    }
   ],
   "source": [
    "#Imprima seu nome e seu sobrenome seguindo a estrutura abaixo:\n",
    "# #Nome: [seu nome]\n",
    "#Sobrenome: [seu sobrenome]\n",
    "\n",
    "print('nome:', 'João Vitor')\n",
    "print ('Sobrenome:', 'De MElo Gomes')"
   ]
  },
  {
   "cell_type": "code",
   "execution_count": 8,
   "metadata": {},
   "outputs": [
    {
     "name": "stdout",
     "output_type": "stream",
     "text": [
      "J O Ã O\n"
     ]
    }
   ],
   "source": [
    "#Imprima o seu primeiro nome letra a letra. Por exemplo, meu nome é Mirla, então eu obtenho a seguinte saída:\n",
    "\n",
    "print('J','O', 'Ã', 'O')"
   ]
  },
  {
   "cell_type": "code",
   "execution_count": 9,
   "metadata": {},
   "outputs": [
    {
     "name": "stdout",
     "output_type": "stream",
     "text": [
      "9 de Julho 2002\n"
     ]
    }
   ],
   "source": [
    "#Imprima o dia do seu nascimento em formato dia mês ano. Lembrando que os valores de dia e ano não podem estar entre aspas. Supondo uma data de aniversário dia 28 de fevereiro de 2003, o formato deve estar como no exemplo abaixo:\n",
    "\n",
    "print(9, 'de', 'Julho', 2002);"
   ]
  },
  {
   "cell_type": "code",
   "execution_count": 10,
   "metadata": {},
   "outputs": [
    {
     "name": "stdout",
     "output_type": "stream",
     "text": [
      "Ano atual: 2024\n"
     ]
    }
   ],
   "source": [
    "#Imprima, em um único print, o atual ano que você está fazendo esse curso. O valor do ano deve ser um dado numérico e a saída do print deve ser a seguinte:\n",
    "\n",
    "print('Ano atual:', 2024)\n"
   ]
  },
  {
   "cell_type": "markdown",
   "metadata": {},
   "source": [
    "### Comentários "
   ]
  },
  {
   "cell_type": "markdown",
   "metadata": {},
   "source": [
    "quando estamos programando, precisamos descrever alguma etapa, função ou estrutura dentro do próprio código. Essa descrição precisa ser dada como uma anotação e, por isso, não pode ser considerada um código para ser interpretado dentro do ambiente. Para essas situações, existem os comentários.\n",
    "\n",
    "- Os comentários são linhas de texto que podem ser colocadas dentro do código e que são ignoradas pelo interpretador. Por conta disso, servem para explicar o funcionamento do código para outras pessoas ou mesmo para a pessoa que programa;\n",
    "-  Eles são importantes para documentar o código, descrevendo o que cada função, estrutura ou método faz e para que servem. Isso pode tornar o código mais legível e fácil de entender.\n",
    "\n",
    "Temos dois tipos de comentários:\n",
    "\n",
    "\n"
   ]
  },
  {
   "cell_type": "code",
   "execution_count": 11,
   "metadata": {},
   "outputs": [
    {
     "name": "stdout",
     "output_type": "stream",
     "text": [
      "10\n"
     ]
    }
   ],
   "source": [
    "# # Esse é um comeentário de uma linha\n",
    "print(10) # Podemos colocar outro comentário em uma linha após um código"
   ]
  },
  {
   "cell_type": "markdown",
   "metadata": {},
   "source": [
    "E comentários de várias linhas\n",
    "\n",
    "- Podem ser aspas triplas: ''' ou \"\"\""
   ]
  },
  {
   "cell_type": "code",
   "execution_count": 12,
   "metadata": {},
   "outputs": [
    {
     "name": "stdout",
     "output_type": "stream",
     "text": [
      "20\n"
     ]
    }
   ],
   "source": [
    "'''\n",
    "Esse é um comentário\n",
    "de várias linhas.\n",
    "'''\n",
    "\n",
    "print(20)"
   ]
  },
  {
   "cell_type": "markdown",
   "metadata": {},
   "source": [
    "### markdown"
   ]
  },
  {
   "cell_type": "markdown",
   "metadata": {},
   "source": [
    "Formatação de texto por marcação (markup) que permite escrever de forma simples e fácil de ler. Ele permite adicionar formatação ao texto sem precisar escrever um código em HTML ou outra linguagem de formatação mais complexa.\n",
    "Conseguimos formatar o texto para adicionar negrito, itálico, listas, cabeçalhos, etc. Além de termos uma ótima opção para documentar o código descrevendo o que fizemos, analisando os resultados e até informando os próximos passos. \n",
    "\n",
    "**Texto em negrito**\n",
    "\n",
    "*Texto em itálico*\n",
    "\n",
    "***Texto em negrito e itálico***\n",
    "\n",
    "* Item 1\n",
    "* Item 2\n",
    "* Item 3\n",
    "\n",
    "1. Item 1\n",
    "2. Item 2\n",
    "3. Item 3\n",
    "\n",
    "Para construir links, usamos a seguinte sintaxe: [texto do link](link).\n",
    "\n",
    "[online Markdown Editor](https://onlinemarkdowneditor.dev)\n",
    "\n",
    "- John Graber criou o markdown\n",
    "\n",
    "\n",
    "\n",
    "\n",
    "\n",
    "\n",
    "\n"
   ]
  },
  {
   "cell_type": "markdown",
   "metadata": {},
   "source": [
    "### Variáveis"
   ]
  },
  {
   "cell_type": "markdown",
   "metadata": {},
   "source": [
    "Em data science trabalhamos com variás informações de varios tipo\n",
    "\n",
    "As variáveis é um nome  que está asssociado a um valor.\n"
   ]
  },
  {
   "cell_type": "markdown",
   "metadata": {},
   "source": [
    "criando uma variavel:"
   ]
  },
  {
   "cell_type": "code",
   "execution_count": 13,
   "metadata": {},
   "outputs": [
    {
     "name": "stdout",
     "output_type": "stream",
     "text": [
      "5\n"
     ]
    }
   ],
   "source": [
    "idade = 5\n",
    "# para vere a variável:\n",
    "print(idade)\n",
    "# Variáveis não precisam de aspas"
   ]
  },
  {
   "cell_type": "code",
   "execution_count": 14,
   "metadata": {},
   "outputs": [
    {
     "name": "stdout",
     "output_type": "stream",
     "text": [
      "10\n"
     ]
    }
   ],
   "source": [
    "# trocando o valor da variável:\n",
    "idade = 10\n",
    "print(idade)"
   ]
  },
  {
   "cell_type": "code",
   "execution_count": 15,
   "metadata": {},
   "outputs": [
    {
     "data": {
      "text/plain": [
       "10"
      ]
     },
     "execution_count": 15,
     "metadata": {},
     "output_type": "execute_result"
    }
   ],
   "source": [
    "# Podemos também chamar a variável sem print:\n",
    "idade\n",
    "# só funciona quando a variável estiver na últimma linha"
   ]
  },
  {
   "cell_type": "code",
   "execution_count": 16,
   "metadata": {},
   "outputs": [],
   "source": [
    "# Armazenado texto:\n",
    "nome = 'gabriel'"
   ]
  },
  {
   "cell_type": "code",
   "execution_count": 17,
   "metadata": {},
   "outputs": [
    {
     "data": {
      "text/plain": [
       "'gabriel'"
      ]
     },
     "execution_count": 17,
     "metadata": {},
     "output_type": "execute_result"
    }
   ],
   "source": [
    "nome"
   ]
  },
  {
   "cell_type": "markdown",
   "metadata": {},
   "source": [
    "Nomes que não podemos definir para variáveis:\n",
    "\n",
    "- Nomes que começam com números. Exemplos: 10_notas, 2_nomes_casa;\n",
    "\n",
    "-Palavras separadas por espaço. Exemplos: Nome escola, notas estudantes;\n",
    "\n",
    "-Nomes de funções do Python. Exemplos: print, type."
   ]
  },
  {
   "cell_type": "markdown",
   "metadata": {},
   "source": [
    "Letras maiúsculas e minúsculas vão gerar diferentes variáveis. A variável idadeé diferente de Idade, que por sua vez, também é diferente de IDADE."
   ]
  },
  {
   "cell_type": "markdown",
   "metadata": {},
   "source": [
    "### Tipos de variáveis "
   ]
  },
  {
   "cell_type": "markdown",
   "metadata": {},
   "source": [
    "Existem vários tipos de variáveis como números inteiros, flutuantes (reais e fracionados), textos, informações lógicas, dentre muitos outros. Em Python existem várias classificações de dados/variáveis. Conheceremos essas classes agora.\n",
    "\n",
    "Temos 4 principais tipos:\n",
    "\n",
    "*int* = Armazena números inteiros\n",
    "\n",
    "ex: 3,100 ou -5\n",
    "\n",
    "*float* = Armazena númeors que possuem umaa parte fracionária ou reais\n",
    "\n",
    "ex: 3.14. 100.0 ou -0.5\n",
    "\n",
    "*str* = AArmazena texto ou seqências de caracteres. Geralmnete usadas para armazenar texto e são delimitadas por aspas ''/\"\" \n",
    "\n",
    "ex: 'Olá, mundo', \"Alura\" ou \"12345'\n",
    "\n",
    "*bool* = Valorees lógicos -> Verdadeiro ou falso\n",
    "\n",
    "ex: true e false\n",
    "\n"
   ]
  },
  {
   "cell_type": "markdown",
   "metadata": {},
   "source": [
    "Para saber a classe de cada elemento, usamos a função type()\n"
   ]
  },
  {
   "cell_type": "code",
   "execution_count": 18,
   "metadata": {},
   "outputs": [
    {
     "data": {
      "text/plain": [
       "int"
      ]
     },
     "execution_count": 18,
     "metadata": {},
     "output_type": "execute_result"
    }
   ],
   "source": [
    "type(idade)\n",
    "# Indicou que é int\n",
    "# Dentro dos paretese insira a variável"
   ]
  },
  {
   "cell_type": "code",
   "execution_count": 19,
   "metadata": {},
   "outputs": [
    {
     "data": {
      "text/plain": [
       "int"
      ]
     },
     "execution_count": 19,
     "metadata": {},
     "output_type": "execute_result"
    }
   ],
   "source": [
    "i = 5\n",
    "type(i)"
   ]
  },
  {
   "cell_type": "code",
   "execution_count": 20,
   "metadata": {},
   "outputs": [
    {
     "data": {
      "text/plain": [
       "float"
      ]
     },
     "execution_count": 20,
     "metadata": {},
     "output_type": "execute_result"
    }
   ],
   "source": [
    "nota = 9.8\n",
    "type(nota)\n"
   ]
  },
  {
   "cell_type": "markdown",
   "metadata": {},
   "source": [
    "variáveis que armazenem os dados da ficha desse aluno. São eles:\n",
    "\n",
    "Nome: Fabricio Daniel\n",
    "Idade: 15 anos\n",
    "Media do semestre: 8,45\n",
    "Situaçao de aprovação: Verdadeira (aprovado)\n",
    "Na célula abaixo, conseguimos criar esses valores."
   ]
  },
  {
   "cell_type": "code",
   "execution_count": 21,
   "metadata": {},
   "outputs": [],
   "source": [
    "nome_aluno = 'Fabricio Daniel'\n",
    "idade_aluno = 15\n",
    "media_aluno = 8.45\n",
    "situacao_aprovado = True"
   ]
  },
  {
   "cell_type": "code",
   "execution_count": 22,
   "metadata": {},
   "outputs": [
    {
     "name": "stdout",
     "output_type": "stream",
     "text": [
      "Fabricio Daniel 15 8.45 True\n"
     ]
    }
   ],
   "source": [
    "print(nome_aluno, idade_aluno, media_aluno, situacao_aprovado)"
   ]
  },
  {
   "cell_type": "markdown",
   "metadata": {},
   "source": [
    "### O que é documentação"
   ]
  },
  {
   "cell_type": "markdown",
   "metadata": {},
   "source": [
    "A documentação de qualquer linguagem funciona como um conjunto de guias escritos para ajudar pessoas desenvolvedoras a entender e usar uma linguagem de programação. Podemos encontrá-las em sites criados pela equipe que construiu essa linguagem. Como abordado em aula, encontramos a documentação do Python em\n",
    "\n",
    "[python.org](https://www.python.org/doc/)"
   ]
  },
  {
   "cell_type": "markdown",
   "metadata": {},
   "source": [
    "Essas documentações geralmente incluem informações sobre sintaxe e estruturas, bibliotecas e ferramentas disponíveis, funções, exemplos de código e outros pontos úteis para ajudar a escrever códigos eficientes e corretos."
   ]
  },
  {
   "cell_type": "markdown",
   "metadata": {},
   "source": [
    "Um detalhe é que a maioria das documentações está escrita em inglês, o que pode dificultar para uma pessoa que não tem tanto conhecimento desse idioma. Porém, normalmente há suporte para tradução para português através do tradutor do navegador."
   ]
  },
  {
   "cell_type": "markdown",
   "metadata": {},
   "source": [
    "### Variáveis numéricas "
   ]
  },
  {
   "cell_type": "markdown",
   "metadata": {},
   "source": [
    "podemos limitar nossa análise aos tipos inteiro e float. Podemos manipulá-las para realizar cálculos aritméticos."
   ]
  },
  {
   "cell_type": "markdown",
   "metadata": {},
   "source": [
    "Cinco pessoas trabalham como seguranças e recebem um salário de 3 mil reais. Dezesseis pessoas trabalham como docentes e recebem um salário de 6 mil reais. Por fim, temos uma pessoa que trabalha na diretoria e seu salário é de 12 mil e 500 reais.\n",
    "\n",
    "Precisamos trabalhar com esses dados fornecendo:\n",
    "\n",
    "A quantidade total de empregados;\n",
    "A diferença entre o salário mais baixo e mais alto;\n",
    "A média ponderada da faixa salarial da escola.\n",
    "É possível fazer esses cálculos matemáticos com Python. O primeiro passo, no entanto, é declarar todas essas informações, armazená-las em variáveis, assim poderemos manipulá-las.\n",
    "\n",
    "Já existe um código salvo na célula do notebook, que serve para criar a variável e armazenar o valor:"
   ]
  },
  {
   "cell_type": "code",
   "execution_count": 23,
   "metadata": {},
   "outputs": [],
   "source": [
    "q_seguranca = 5\n",
    "s_seguranca = 3000\n",
    "\n",
    "q_docente = 16\n",
    "s_docente = 6000\n",
    "\n",
    "q_diretoria = 1\n",
    "s_diretoria = 12500"
   ]
  },
  {
   "cell_type": "code",
   "execution_count": 24,
   "metadata": {},
   "outputs": [],
   "source": [
    "# quantidade total de empregados:\n",
    "total_empregados = q_seguranca + q_docente + q_diretoria"
   ]
  },
  {
   "cell_type": "code",
   "execution_count": 25,
   "metadata": {},
   "outputs": [
    {
     "data": {
      "text/plain": [
       "22"
      ]
     },
     "execution_count": 25,
     "metadata": {},
     "output_type": "execute_result"
    }
   ],
   "source": [
    "#quantidade total de empregados:\n",
    "total_empregados = q_seguranca + q_docente + q_diretoria\n",
    "total_empregados"
   ]
  },
  {
   "cell_type": "code",
   "execution_count": 26,
   "metadata": {},
   "outputs": [
    {
     "data": {
      "text/plain": [
       "9500"
      ]
     },
     "execution_count": 26,
     "metadata": {},
     "output_type": "execute_result"
    }
   ],
   "source": [
    "# variável que armazenará a subtração, igual ao salário da diretoria menos o salário da segurança.\n",
    "diferenca_salario = s_diretoria - s_seguranca\n",
    "diferenca_salario"
   ]
  },
  {
   "cell_type": "code",
   "execution_count": 27,
   "metadata": {},
   "outputs": [],
   "source": [
    "#média ponderada da faixa salarial da escola.\n",
    "media = (q_seguranca*s_seguranca + q_docente*s_docente + q_diretoria*s_diretoria) / (total_empregados)"
   ]
  },
  {
   "cell_type": "code",
   "execution_count": 28,
   "metadata": {},
   "outputs": [
    {
     "data": {
      "text/plain": [
       "123500"
      ]
     },
     "execution_count": 28,
     "metadata": {},
     "output_type": "execute_result"
    }
   ],
   "source": [
    "#  numerador para o cálculo da média ponderada:\n",
    "q_seguranca*s_seguranca + q_docente*s_docente + q_diretoria*s_diretoria"
   ]
  },
  {
   "cell_type": "code",
   "execution_count": 29,
   "metadata": {},
   "outputs": [
    {
     "data": {
      "text/plain": [
       "5613.636363636364"
      ]
     },
     "execution_count": 29,
     "metadata": {},
     "output_type": "execute_result"
    }
   ],
   "source": [
    "# média salarial que é:\n",
    "media = (q_seguranca*s_seguranca + q_docente*s_docente + q_diretoria*s_diretoria) / (total_empregados)\n",
    "media"
   ]
  },
  {
   "cell_type": "markdown",
   "metadata": {},
   "source": [
    "### Outros operadores "
   ]
  },
  {
   "cell_type": "markdown",
   "metadata": {},
   "source": [
    "Exponenciação (**)"
   ]
  },
  {
   "cell_type": "code",
   "execution_count": 30,
   "metadata": {},
   "outputs": [
    {
     "data": {
      "text/plain": [
       "8"
      ]
     },
     "execution_count": 30,
     "metadata": {},
     "output_type": "execute_result"
    }
   ],
   "source": [
    "2**3"
   ]
  },
  {
   "cell_type": "code",
   "execution_count": 31,
   "metadata": {},
   "outputs": [
    {
     "data": {
      "text/plain": [
       "8"
      ]
     },
     "execution_count": 31,
     "metadata": {},
     "output_type": "execute_result"
    }
   ],
   "source": [
    "operador = 2\n",
    "potencia = 3\n",
    "operador ** potencia"
   ]
  },
  {
   "cell_type": "markdown",
   "metadata": {},
   "source": [
    "Módulo (%)\n",
    "O operador de módulo pode retornar o resto da divisão inteira entre dois números. Lembrando que o resto de uma divisão é o número que sobra quando uma divisão não é exata."
   ]
  },
  {
   "cell_type": "code",
   "execution_count": 32,
   "metadata": {},
   "outputs": [
    {
     "data": {
      "text/plain": [
       "1"
      ]
     },
     "execution_count": 32,
     "metadata": {},
     "output_type": "execute_result"
    }
   ],
   "source": [
    "7%3\n"
   ]
  },
  {
   "cell_type": "code",
   "execution_count": 33,
   "metadata": {},
   "outputs": [
    {
     "data": {
      "text/plain": [
       "1"
      ]
     },
     "execution_count": 33,
     "metadata": {},
     "output_type": "execute_result"
    }
   ],
   "source": [
    "dividendo = 7\n",
    "divisor = 3\n",
    "dividendo % divisor"
   ]
  },
  {
   "cell_type": "markdown",
   "metadata": {},
   "source": [
    "Divisão inteira (//)\n",
    "\n",
    "Essa operação retorna o resultado da divisão inteira entre dois números, ou seja, retorna apenas a parte inteira de uma divisão. Por exemplo, sabemos que a divisão exata de 7 por 3 (7/3) resulta no valor 2.333333…. Caso essa fosse uma divisão inteira, o resultado dela seria apenas 2. Sua sintaxe consiste em colocar o valor do numerador, o operador // e depois o denominador, como consta a seguir:"
   ]
  },
  {
   "cell_type": "code",
   "execution_count": 34,
   "metadata": {},
   "outputs": [
    {
     "data": {
      "text/plain": [
       "2"
      ]
     },
     "execution_count": 34,
     "metadata": {},
     "output_type": "execute_result"
    }
   ],
   "source": [
    "7 // 3"
   ]
  },
  {
   "cell_type": "code",
   "execution_count": 35,
   "metadata": {},
   "outputs": [
    {
     "data": {
      "text/plain": [
       "2"
      ]
     },
     "execution_count": 35,
     "metadata": {},
     "output_type": "execute_result"
    }
   ],
   "source": [
    "numerador = 7\n",
    "denominador = 3\n",
    "numerador // denominador"
   ]
  },
  {
   "cell_type": "markdown",
   "metadata": {},
   "source": [
    "### String"
   ]
  },
  {
   "cell_type": "markdown",
   "metadata": {},
   "source": [
    "os textos também podem ser manipulados no Python. Conseguimos fazer isso através das strings, variáveis de texto."
   ]
  },
  {
   "cell_type": "code",
   "execution_count": 36,
   "metadata": {},
   "outputs": [
    {
     "name": "stdout",
     "output_type": "stream",
     "text": [
      "Alura Alura\n"
     ]
    }
   ],
   "source": [
    "s1 = 'Alura'\n",
    "s2 = \"Alura\"\n",
    "print(s1, s2)"
   ]
  },
  {
   "cell_type": "code",
   "execution_count": 37,
   "metadata": {},
   "outputs": [
    {
     "name": "stdout",
     "output_type": "stream",
     "text": [
      "<class 'str'> <class 'str'>\n"
     ]
    }
   ],
   "source": [
    "print(type(s1),type(s2))"
   ]
  },
  {
   "cell_type": "markdown",
   "metadata": {},
   "source": [
    "Os métodos são funções associadas a objetos em Python. A partir das funções, podemos realizar ações e operações relacionadas aos objetos.\n",
    "\n",
    "objeto = Variável"
   ]
  },
  {
   "cell_type": "markdown",
   "metadata": {},
   "source": [
    "Para usar o metódo:\n",
    "objeto.metodo()"
   ]
  },
  {
   "cell_type": "markdown",
   "metadata": {},
   "source": [
    "Em alguns métodos, não será necessário usar parênteses. Isso depende da documentação. Consultando a documentação, encontraremos uma descrição com vários exemplos de como se utiliza determinada função ou método. "
   ]
  },
  {
   "cell_type": "markdown",
   "metadata": {},
   "source": [
    "Situação: Recebemos uma variável com o nome de uma professora da escola para inserirmos no cadastro. No entanto, precisamos tratar esse texto antes de inserirmos no sistema.\n",
    "\n",
    "texto = '  Geovana Alessandra dias Sanyos '\n",
    "\n",
    "Temos o texto, que se refere ao nome da professora e a string, com dois espaços antes do nome dela e outro espaço após. Vamos rodar essa célula e objetivo é que, ao final, o nome esteja da seguinte forma:\n",
    "\n",
    "'GEOVANA ALESSANDRA DIAS SANTOS'"
   ]
  },
  {
   "cell_type": "code",
   "execution_count": 38,
   "metadata": {},
   "outputs": [],
   "source": [
    "texto = '  Geovana Alessandra dias Sanyos '"
   ]
  },
  {
   "cell_type": "code",
   "execution_count": 39,
   "metadata": {},
   "outputs": [
    {
     "data": {
      "text/plain": [
       "'  GEOVANA ALESSANDRA DIAS SANYOS '"
      ]
     },
     "execution_count": 39,
     "metadata": {},
     "output_type": "execute_result"
    }
   ],
   "source": [
    " #str.upper(), método que converte a string e retorna um texto com todos os caracteres em letras maiúsculas. Colocamos o nome da nossa variável, texto, ponto, e escreveremos o método upper().\n",
    "texto.upper()"
   ]
  },
  {
   "cell_type": "code",
   "execution_count": 40,
   "metadata": {},
   "outputs": [
    {
     "data": {
      "text/plain": [
       "'  geovana alessandra dias sanyos '"
      ]
     },
     "execution_count": 40,
     "metadata": {},
     "output_type": "execute_result"
    }
   ],
   "source": [
    "# também existe um que retorne todas as letras em minúsculas, esse método é o str.lower(). O procedimento é o mesmo: string, seguida de ponto e método lower().\n",
    "texto.lower()\n"
   ]
  },
  {
   "cell_type": "code",
   "execution_count": 41,
   "metadata": {},
   "outputs": [
    {
     "data": {
      "text/plain": [
       "'  Geovana Alessandra dias Santos '"
      ]
     },
     "execution_count": 41,
     "metadata": {},
     "output_type": "execute_result"
    }
   ],
   "source": [
    "# str.replace. Ele vai substituir um caractere antigo por um novo, conforme o que determinarmos no nosso comando.\n",
    "texto.replace('y','t')"
   ]
  },
  {
   "cell_type": "code",
   "execution_count": 42,
   "metadata": {},
   "outputs": [
    {
     "data": {
      "text/plain": [
       "'GEOVANA ALESSANDRA DIAS SANTOS'"
      ]
     },
     "execution_count": 42,
     "metadata": {},
     "output_type": "execute_result"
    }
   ],
   "source": [
    "# Salvando ás alterações:\n",
    "texto = texto.strip().replace('y', 't').upper()\n",
    "texto"
   ]
  },
  {
   "cell_type": "markdown",
   "metadata": {},
   "source": [
    "### Tabela Unicode"
   ]
  },
  {
   "cell_type": "markdown",
   "metadata": {},
   "source": [
    "Esse padrão permite que pessoas desenvolvedoras de todo o mundo consigam trabalhar com textos e caracteres em diferentes idiomas de forma muito fácil, sem precisar se preocupar com problemas de compatibilidade.\n",
    "\n",
    "tabela Unicode, uma tabela de codificação de caracteres, que associa códigos numéricos a caracteres específicos. \n",
    "\n",
    "[Podemos ver as estatísticas de cada versão e a quantidade de caracteres por versão nesse](https://www.unicode.org/versions/stats/)\n",
    "\n",
    "ela é muito importante, já que permite a representação de caracteres de diferentes idiomas (como o ç no Portugês, o ñ no Espanhol, ou o П em russo) e scripts de forma consistente e independentemente do dispositivo ou plataforma, o que é fundamental para a globalização e representação correta de textos em diferentes línguas.\n",
    "\n",
    "[Você pode acompanhar as atualizações](https://home.unicode.org/)\n",
    "\n",
    "Podemos imprimir um elemento da tabela Unicode em nosso notebook através da função chr, que é uma função que retorna uma string com o caractere especificado. Sua sintaxe de uso é dada da seguinte forma: chr(numero_do_caractere)\n",
    "\n",
    "\n",
    "\n",
    "\n"
   ]
  },
  {
   "cell_type": "code",
   "execution_count": 43,
   "metadata": {},
   "outputs": [
    {
     "data": {
      "text/plain": [
       "'@'"
      ]
     },
     "execution_count": 43,
     "metadata": {},
     "output_type": "execute_result"
    }
   ],
   "source": [
    "#vamos imprimir o caractere “@” com chr().\n",
    "chr(64)"
   ]
  },
  {
   "cell_type": "markdown",
   "metadata": {},
   "source": [
    "Também é possível concatenar strings com o operador +. Sabendo disso, se nós unimos vários caracteres, conseguimos obter uma palavra. Como exemplo, vamos construir a palavra Olá ('O' + 'l' + 'á'):"
   ]
  },
  {
   "cell_type": "code",
   "execution_count": 44,
   "metadata": {},
   "outputs": [
    {
     "data": {
      "text/plain": [
       "'Olá'"
      ]
     },
     "execution_count": 44,
     "metadata": {},
     "output_type": "execute_result"
    }
   ],
   "source": [
    "chr(79) + chr(108) + chr(225)"
   ]
  },
  {
   "cell_type": "markdown",
   "metadata": {},
   "source": [
    "### Coletando dados"
   ]
  },
  {
   "cell_type": "markdown",
   "metadata": {},
   "source": [
    "A coleta de dados pode ser realizada por uma função Python chamada input(). Ela é responsável por coletar e retornar todo o que foi coletado de quem estiver usando o projeto ou código."
   ]
  },
  {
   "cell_type": "markdown",
   "metadata": {},
   "source": [
    "Nós escreveremos nome, variável que receberá o nome. Ela será igual à função input()."
   ]
  },
  {
   "cell_type": "code",
   "execution_count": 45,
   "metadata": {},
   "outputs": [],
   "source": [
    "nome7 = input('Escreva seu nome:')"
   ]
  },
  {
   "cell_type": "markdown",
   "metadata": {},
   "source": [
    "Ela é como uma chave que diz ao código: escrevemos tudo que era para ter sido escrito e agora você pode salvar e atribuir esse resultado à variável."
   ]
  },
  {
   "cell_type": "code",
   "execution_count": 46,
   "metadata": {},
   "outputs": [
    {
     "data": {
      "text/plain": [
       "''"
      ]
     },
     "execution_count": 46,
     "metadata": {},
     "output_type": "execute_result"
    }
   ],
   "source": [
    "nome7"
   ]
  },
  {
   "cell_type": "markdown",
   "metadata": {},
   "source": [
    "Existem quatro tipos básicos de dados que já conhecemos: inteiro, float, string e booleano. Cada uma dessas classes têm uma função de conversão. Vamos conferir as funções de conversão de valores:\n",
    "\n",
    "Inteiros: int(dado_para_conversao)\n",
    "Float: float(dado_para_conversao)\n",
    "String: str(dado_para_conversao)\n",
    "Booleano: bool(dado_para_conversao)"
   ]
  },
  {
   "cell_type": "markdown",
   "metadata": {},
   "source": [
    "Vamos aplicar esses conhecimentos ao exemplo da instituição de ensino."
   ]
  },
  {
   "cell_type": "code",
   "execution_count": 47,
   "metadata": {},
   "outputs": [],
   "source": [
    "ano_entrada = input('Escreva o ano de ingresso do(a) estudante:  ')"
   ]
  },
  {
   "cell_type": "code",
   "execution_count": null,
   "metadata": {},
   "outputs": [
    {
     "data": {
      "text/plain": [
       "str"
      ]
     },
     "execution_count": 6,
     "metadata": {},
     "output_type": "execute_result"
    }
   ],
   "source": [
    "type(ano_entrada)"
   ]
  },
  {
   "cell_type": "markdown",
   "metadata": {},
   "source": [
    "Precisamos converter a saída desse input() para o tipo inteiro. Vamos copiar toda a primeira linha do ano de entrada e colar em outra célula. Em seguida, colocaremos a função input() dentro dos parênteses da função int(), afinal, 2023 é um ano inteiro."
   ]
  },
  {
   "cell_type": "code",
   "execution_count": null,
   "metadata": {},
   "outputs": [],
   "source": [
    "ano_entrada = int(input('Escreva o ano de ingresso do(a) estudante:  '))"
   ]
  },
  {
   "cell_type": "code",
   "execution_count": null,
   "metadata": {},
   "outputs": [
    {
     "data": {
      "text/plain": [
       "int"
      ]
     },
     "execution_count": 8,
     "metadata": {},
     "output_type": "execute_result"
    }
   ],
   "source": [
    "type(ano_entrada)\n",
    "#mudou para inteiro"
   ]
  },
  {
   "cell_type": "markdown",
   "metadata": {},
   "source": [
    "Supondo que precisamos coletar a nota de entrada de uma prova para ingressar na instituição de ensino, podemos colocar, na próxima célula, nota_entrada igual a float() e, dentro dos parênteses da função float(), passamos a função input() com o texto: 'Digite a nota do teste de ingresso: "
   ]
  },
  {
   "cell_type": "code",
   "execution_count": null,
   "metadata": {},
   "outputs": [],
   "source": [
    "nota_entrada = float(input('Digite a nota do teste de ingresso: '))"
   ]
  },
  {
   "cell_type": "code",
   "execution_count": null,
   "metadata": {},
   "outputs": [
    {
     "name": "stdout",
     "output_type": "stream",
     "text": [
      "Ano de entrada 2024 - nota do teste de ingresso 2024.0 \n"
     ]
    }
   ],
   "source": [
    "nota_entrada = float(input('Digite a nota do teste de ingresso: 8,8 '))\n",
    "print(f'Ano de entrada {ano_entrada} - nota do teste de ingresso {nota_entrada} ')"
   ]
  },
  {
   "cell_type": "markdown",
   "metadata": {},
   "source": [
    "### formatações do print()"
   ]
  },
  {
   "cell_type": "markdown",
   "metadata": {},
   "source": [
    "o uso do operador de formatação de string ou da função .format()."
   ]
  },
  {
   "cell_type": "markdown",
   "metadata": {},
   "source": [
    "Esse operador de formatação permite a inserção de variáveis em pontos específicos na string com o operador %. Esse operador funciona como um marcador, informando onde o valor da variável vai ser exposto na string.\n",
    "\n",
    "O % precisa ser acompanhado de uma palavra-chave para cada tipo de variável que se deseja adicionar. Seguindo a tabela abaixo:\n",
    "\n",
    "string = %s;\n",
    "\n",
    "int =  %d\n",
    "\n",
    "floot = %4\n",
    "\n",
    "caractere = %c"
   ]
  },
  {
   "cell_type": "code",
   "execution_count": null,
   "metadata": {},
   "outputs": [
    {
     "name": "stdout",
     "output_type": "stream",
     "text": [
      "Nome do aluno: Fabricio Daniel\n"
     ]
    }
   ],
   "source": [
    "nome_aluno = 'Fabricio Daniel'\n",
    "\n",
    "print('Nome do aluno: %s' %(nome_aluno))"
   ]
  },
  {
   "cell_type": "markdown",
   "metadata": {},
   "source": [
    "Caso tenha mais de uma variável, devemos ordená-las conforme seu surgimento no texto e separá-las por vírgula."
   ]
  },
  {
   "cell_type": "code",
   "execution_count": null,
   "metadata": {},
   "outputs": [
    {
     "name": "stdout",
     "output_type": "stream",
     "text": [
      "Nome do aluno é Fabricio Daniel, ele tem 15 anos e sua média é 8.450000.\n"
     ]
    }
   ],
   "source": [
    "nome_aluno = 'Fabricio Daniel'\n",
    "idade_aluno = 15\n",
    "media_aluno = 8.45\n",
    "\n",
    "print('Nome do aluno é %s, ele tem %d anos e sua média é %f.' %(nome_aluno, idade_aluno, media_aluno))"
   ]
  },
  {
   "cell_type": "markdown",
   "metadata": {},
   "source": [
    "Quando trabalhamos com pontos flutuantes (float), podemos determinar a quantidade de casas decimais após a vírgula usando a sintaxe %.xf, na qual x é o número de casas desejadas. Utilizando as mesmas variáveis do exemplo anterior, o código com %.xf fica da seguinte maneira:"
   ]
  },
  {
   "cell_type": "code",
   "execution_count": null,
   "metadata": {},
   "outputs": [
    {
     "name": "stdout",
     "output_type": "stream",
     "text": [
      "Nome do aluno é Fabricio Daniel, ele tem 15 anos e sua média é 8.45.\n"
     ]
    }
   ],
   "source": [
    "print('Nome do aluno é %s, ele tem %d anos e sua média é %.2f.' %(nome_aluno, idade_aluno, media_aluno))"
   ]
  },
  {
   "cell_type": "markdown",
   "metadata": {},
   "source": [
    "Uma observação: os operadores de formatação de strings com % não funcionam diretamente com valores booleanos. Uma maneira de lidar com isso é convertendo o valor booleano para uma string antes de usá-lo na formatação com a função str(). Por exemplo:"
   ]
  },
  {
   "cell_type": "code",
   "execution_count": null,
   "metadata": {},
   "outputs": [
    {
     "name": "stdout",
     "output_type": "stream",
     "text": [
      "Valor de x: True\n"
     ]
    }
   ],
   "source": [
    "x = True\n",
    "print(\"Valor de x: %s\" % str(x))"
   ]
  },
  {
   "cell_type": "markdown",
   "metadata": {},
   "source": [
    "Isso não acontece com a formatação f-string ou .format.\n",
    "\n",
    "format\n",
    "É possível também usar o método format() para fazer a formatação de strings. Ele é mais flexível e permite passar as variáveis diretamente dentro da string, sem a necessidade dos operadores %. Seus marcadores são apenas as {}. Exemplo:"
   ]
  },
  {
   "cell_type": "code",
   "execution_count": null,
   "metadata": {},
   "outputs": [
    {
     "name": "stdout",
     "output_type": "stream",
     "text": [
      "Nome do aluno: Fabricio Daniel\n"
     ]
    }
   ],
   "source": [
    "nome_aluno = 'Fabricio Daniel'\n",
    "\n",
    "print('Nome do aluno: {}'.format(nome_aluno))"
   ]
  },
  {
   "cell_type": "markdown",
   "metadata": {},
   "source": [
    "Do mesmo modo que é feito com o operador, conseguimos aplicar com mais variáveis:"
   ]
  },
  {
   "cell_type": "code",
   "execution_count": null,
   "metadata": {},
   "outputs": [
    {
     "name": "stdout",
     "output_type": "stream",
     "text": [
      "Nome do aluno é Fabricio Daniel, ele tem 15 anos e sua média é 8.45.\n"
     ]
    }
   ],
   "source": [
    "nome_aluno = 'Fabricio Daniel'\n",
    "idade_aluno = 15\n",
    "media_aluno = 8.45\n",
    "\n",
    "print('Nome do aluno é {}, ele tem {} anos e sua média é {}.' .format(nome_aluno, idade_aluno, media_aluno))"
   ]
  },
  {
   "cell_type": "markdown",
   "metadata": {},
   "source": [
    "com o format, não temos o problema das casas decimais do ponto flutuante. Esse problema também não é presente no formato f-string.\n",
    "\n",
    "Em resumo, cada uma dessas formas tem suas vantagens e desvantagens. Indico utilizar a forma f-string, pois é mais legível e fácil de usar. Mesmo assim, cada pessoa desenvolvedora pode escolher a forma que achar mais apropriada."
   ]
  },
  {
   "cell_type": "markdown",
   "metadata": {},
   "source": [
    "Além da formatação de inserção de variáveis dentro de uma string, também existem os caracteres especiais. Eles são usados para representar ações especiais ou caracteres que não podem ser digitados diretamente, como o Enter e a tabulação. Vamos conhecer alguns deles? Busque reproduzir todos os exemplos e visualizar o resultado final.\n",
    "\n",
    "    \\n é o caractere de nova linha e é usado para pular uma linha no texto (função do Enter). Exemplo:\n"
   ]
  },
  {
   "cell_type": "code",
   "execution_count": null,
   "metadata": {},
   "outputs": [
    {
     "name": "stdout",
     "output_type": "stream",
     "text": [
      "Estudar é um esforço constante,\n",
      "É como cultivar uma planta,\n",
      "Precisamos de dedicação e paciência,\n",
      "Para ver o fruto amadurecer.\n"
     ]
    }
   ],
   "source": [
    "print(\"Estudar é um esforço constante,\\nÉ como cultivar uma planta,\\nPrecisamos de dedicação e paciência,\\nPara ver o fruto amadurecer.\")"
   ]
  },
  {
   "cell_type": "markdown",
   "metadata": {},
   "source": [
    "\\t é o caractere de tabulação usado para adicionar um espaço de tabulação no texto. Exemplo:"
   ]
  },
  {
   "cell_type": "code",
   "execution_count": null,
   "metadata": {},
   "outputs": [],
   "source": [
    "print('Quantidade\\tQualidade\\n5 amostras\\tAlta\\n3 amostras\\tBaixa')"
   ]
  },
  {
   "cell_type": "markdown",
   "metadata": {},
   "source": [
    "\\\\ é usado para imprimir uma única barra invertida. Caso não seja usada a dupla barra invertida, o código poderá resultar em erro ou em um resultado inesperado, pois o Python considera a \\ um chamado para um caractere especial. Usamos esta sintaxe para garantir que não ocorram erros. Exemplo:"
   ]
  },
  {
   "cell_type": "code",
   "execution_count": null,
   "metadata": {},
   "outputs": [],
   "source": [
    "print(\"Caminho do arquivo: C:\\\\arquivos\\\\documento.csv\")"
   ]
  },
  {
   "cell_type": "markdown",
   "metadata": {},
   "source": [
    "\\\" é usado para imprimir aspas duplas quando estamos trabalhando com uma string criada a partir de aspas duplas \". Porém, isso não é necessário caso seja uma string criada por aspas simples '. Como exemplo, temos:"
   ]
  },
  {
   "cell_type": "code",
   "execution_count": null,
   "metadata": {},
   "outputs": [],
   "source": [
    "print(\"Ouvi uma vez \\\"Os frutos do conhecimento são os mais doces e duradouros de todos.\\\"\")"
   ]
  },
  {
   "cell_type": "markdown",
   "metadata": {},
   "source": [
    "\\' é usado para imprimir aspas simples quando estamos trabalhando com uma string criada a partir de aspas simples '. Caso seja uma string criada por aspas duplas \", isso não é necessário. Exemplo:"
   ]
  },
  {
   "cell_type": "code",
   "execution_count": null,
   "metadata": {},
   "outputs": [],
   "source": [
    "print('Minha professora uma vez disse \\'Estudar é a chave do sucesso.\\' ')"
   ]
  },
  {
   "cell_type": "markdown",
   "metadata": {},
   "source": [
    "Nossa equipe de dados nos passou uma tarefa: categorizar, conforme a média que receberemos de determinado estudante, se ele está em condição de aprovação ou reprovação. Vamos pensar um pouco sobre esse problema.\n",
    "\n",
    "Nós teremos uma média. Ela é um valor de 0.0 a 10.0. A partir disso, temos algumas condições:\n",
    "\n",
    "Aprovação - se a média estiver entre 6.0 e 10.0\n",
    "Reprovação - se a média estiver entre 0.0 e 6.0\n",
    "Como definir se ele está aprovado ou reprovado? Conseguimos solucionar essa questão por estruturas condicionais."
   ]
  },
  {
   "cell_type": "markdown",
   "metadata": {},
   "source": [
    "### Hora da pratica "
   ]
  },
  {
   "cell_type": "markdown",
   "metadata": {},
   "source": [
    "Crie um programa que solicite à pessoa usuária digitar seu nome, e imprima “Olá, [nome]!”."
   ]
  },
  {
   "cell_type": "code",
   "execution_count": null,
   "metadata": {},
   "outputs": [
    {
     "name": "stdout",
     "output_type": "stream",
     "text": [
      "Olá, João.\n"
     ]
    }
   ],
   "source": [
    "nome = input('Digite seu nome: ')\n",
    "print(f'Olá, {nome}.')"
   ]
  },
  {
   "cell_type": "markdown",
   "metadata": {},
   "source": [
    "Crie um programa que solicite à pessoa usuária digitar seu nome e idade, e imprima “Olá, [nome], você tem [idade] anos.”."
   ]
  },
  {
   "cell_type": "code",
   "execution_count": null,
   "metadata": {},
   "outputs": [
    {
     "name": "stdout",
     "output_type": "stream",
     "text": [
      "Olá {'João'} você tem 22 anos\n"
     ]
    }
   ],
   "source": [
    "nome = input(\"Digite seu nome\")\n",
    "idade = input('Digite sua idade')\n",
    "print(f'Olá',{nome}, f'você tem {idade}', f'anos')"
   ]
  },
  {
   "cell_type": "code",
   "execution_count": null,
   "metadata": {},
   "outputs": [
    {
     "name": "stdout",
     "output_type": "stream",
     "text": [
      "Olá joao, você tem 22 anos.\n"
     ]
    }
   ],
   "source": [
    "#correto\n",
    "nome = input('Digite seu nome: ')\n",
    "idade = int(input('Digite sua idade: '))\n",
    "print(f'Olá {nome}, você tem {idade} anos.')"
   ]
  },
  {
   "cell_type": "markdown",
   "metadata": {},
   "source": [
    "### Estruturas condicionais"
   ]
  },
  {
   "cell_type": "markdown",
   "metadata": {},
   "source": [
    "As estruturas condicionais permitem a execução de instruções por uma condição: se ela for verdadeira, alguma instrução definida será rodada. Se for falsa, outra instrução será rodada. Sendo que as instruções são diferentes e executadas a partir de determinada condição."
   ]
  },
  {
   "cell_type": "markdown",
   "metadata": {},
   "source": [
    "Sempre estará carregada de uma icognita\n",
    "SE condição:\n",
    "  - instruções caso a condição seja **VERDADEIRA**\n",
    "Senão:\n",
    "  - instruções caso a condição seja **FALSA**\n",
    "\n",
    "SE media > 6.0\n",
    "   - instrução: estudante aprovado(a)\n",
    "Senão:\n",
    "   - instrução: estudante reprovado(a)\n",
    "\n",
    "No Python, é possível reproduzir essa mesma estrutura, com pequenas mudanças. A ideia da estruturação da condicional é exatamente essa. Acompanharemos a aplicação no Python no próximo vídeo.\n",
    "\n",
    "\n"
   ]
  },
  {
   "cell_type": "markdown",
   "metadata": {},
   "source": [
    "#### Conhecendo if e o else"
   ]
  },
  {
   "cell_type": "markdown",
   "metadata": {},
   "source": [
    "O if é uma estrutura condicional. Ele permite que todo o conjunto, isto é, o bloco de instruções, seja executado, caso a condição especificada nele seja verdadeira. Do contrário, no else, caso a instrução seja falsa, o bloco de instruções será executado."
   ]
  },
  {
   "cell_type": "markdown",
   "metadata": {},
   "source": [
    "o if. Brevemente, podemos considerar que ele é uma palavra-chave para \"se\" e permitirá avaliar se uma condição é dada como verdadeira ou falsa. Se for dada como verdadeira, o bloco de instruções será executado.\n",
    "\n",
    "Sua sintaxe é bem parecida com a que estudamos na aula passada, das estruturas condicionais. Temos o \"se\", palavra-chave para \"if\", seguido de espaço, a condição e \"dois pontos (:)\". Abaixo, precisamos lembrar de identar nosso bloco, adicionando espaço igual a uma tabulação, a partir da linha do if."
   ]
  },
  {
   "cell_type": "markdown",
   "metadata": {},
   "source": [
    "if condição: \n",
    "\n",
    "    faça algo \n",
    "     "
   ]
  },
  {
   "cell_type": "code",
   "execution_count": null,
   "metadata": {},
   "outputs": [
    {
     "name": "stdout",
     "output_type": "stream",
     "text": [
      "condição verdadeira\n"
     ]
    }
   ],
   "source": [
    "if 2<7:\n",
    "    print('condição verdadeira')"
   ]
  },
  {
   "cell_type": "code",
   "execution_count": null,
   "metadata": {},
   "outputs": [],
   "source": [
    "if 2>7:\n",
    "   print('condição verdadeira')\n",
    "# Não vai accontecer nada\n"
   ]
  },
  {
   "cell_type": "markdown",
   "metadata": {},
   "source": [
    "Lembrando que, se adicionarmos outro print() no if, ele também só será executado caso a condição seja verdadeira."
   ]
  },
  {
   "cell_type": "markdown",
   "metadata": {},
   "source": [
    "se adicionamos algo fora da tabulação, isto é, do bloco de comando, este código será executado, independentemente de a condição ser falsa ou verdadeira, pois não faz parte do grupo de instruções do if. Vamos conferir apertando \"Shift + Enter\"."
   ]
  },
  {
   "cell_type": "code",
   "execution_count": null,
   "metadata": {},
   "outputs": [
    {
     "name": "stdout",
     "output_type": "stream",
     "text": [
      "fora do bloco\n"
     ]
    }
   ],
   "source": [
    "if 2>7:\n",
    "   print('condição verdadeira')\n",
    "   print()\n",
    "print('fora do bloco')\n"
   ]
  },
  {
   "cell_type": "markdown",
   "metadata": {},
   "source": [
    "Apenas o print('fora do bloco') foi executado. Sabendo disso, podemos seguir para a estrutura do else. Ele realiza o papel da palavra-chave \"senão\", que rodará o bloco de instruções quando a condição atrelada ao if for falsa. Sua sintaxe é parecida com a do if."
   ]
  },
  {
   "cell_type": "markdown",
   "metadata": {},
   "source": [
    "if condição:\n",
    "\n",
    "\n",
    "  código caso seja verdade \n",
    "\n",
    "\n",
    "else:\n",
    "\n",
    "  código caso seja falso\n",
    "    "
   ]
  },
  {
   "cell_type": "markdown",
   "metadata": {},
   "source": [
    "### Operadores relacionais "
   ]
  },
  {
   "cell_type": "markdown",
   "metadata": {},
   "source": [
    "Uma condição nada mais é que uma comparação entre dados, a partir da qual nós podemos obter o resultado verdadeiro ou falso de uma condicional. A comparação pode ser feita por operadores relacionais que tem a missão de comparar valores e determinar se uma expressão é verdadeira ou falsa. Vamos conhecer os comparadores lógicos e como podemos usá-los.\n",
    "\n",
    "Maior que (>)\n",
    "Retorna verdadeiro se o valor à esquerda do símbolo for maior que o da direita. Sua sintaxe, valor_1 > valor_2, representa uma comparação que só retornará verdadeiro se valor_1 for maior que valor_2. Com esse comparador lógico, podemos verificar se uma pessoa é mais velha que outra ao comparar suas idades como mostrado no exemplo a seguir:"
   ]
  },
  {
   "cell_type": "code",
   "execution_count": null,
   "metadata": {},
   "outputs": [],
   "source": [
    "idade_maria = int(input('Digite a idade da Maria: '))\n",
    "idade_beatriz = int(input('Digite a idade da Beatriz: '))\n",
    "\n",
    "if idade_maria > idade_beatriz:\n",
    "  print('Maria é mais velha que Beatriz.')"
   ]
  },
  {
   "cell_type": "markdown",
   "metadata": {},
   "source": [
    "O comparador maior que (>) retorna um valor falso caso os valores comparados sejam iguais ou se o valor à esquerda do símbolo for inferior ao da direita.\n",
    "\n",
    "Menor que (<)\n",
    "Retorna verdadeiro se o valor à esquerda do símbolo for menor que o da direita e sua sintaxe é a seguinte: valor_1 < valor_2. Essa comparação só retornará verdadeiro se valor_1 for menor que valor_2. Com esse operador relacional, também podemos verificar se uma pessoa é mais velha que outra comparando suas idades:"
   ]
  },
  {
   "cell_type": "code",
   "execution_count": null,
   "metadata": {},
   "outputs": [],
   "source": [
    "idade_maria = int(input('Digite a idade da Maria: '))\n",
    "idade_beatriz = int(input('Digite a idade da Beatriz: '))\n",
    "\n",
    "if idade_maria < idade_beatriz:\n",
    "  print('Maria é mais nova que Beatriz.')"
   ]
  },
  {
   "cell_type": "markdown",
   "metadata": {},
   "source": [
    "Esse comparador também retorna um valor falso caso os valores comparados sejam iguais ou se o valor à esquerda do símbolo for superior ao da direita.\n",
    "\n",
    "Maior ou igual a (>=)\n",
    "Retorna verdadeiro se o valor à esquerda do símbolo for maior ou igual ao valor à direita. Sua sintaxe é a seguinte: valor_1 >= valor_2. Essa comparação só retornará verdadeiro se valor_1 for maior ou igual ao valor_2. Com esse operador relacional podemos, por exemplo, verificar se uma empresa tem uma quantidade maior ou igual à outra:"
   ]
  },
  {
   "cell_type": "code",
   "execution_count": null,
   "metadata": {},
   "outputs": [],
   "source": [
    "empregados_empresa_1 = int(input('Digite a quantidade de empregados da empresa 1: '))\n",
    "empregados_empresa_2 = int(input('Digite a quantidade de empregados da empresa 2: '))\n",
    "\n",
    "if empregados_empresa_1 >= empregados_empresa_2:\n",
    "  print('Empresa 1 tem uma quantidade de empregados maior ou igual à empresa 2.')"
   ]
  },
  {
   "cell_type": "markdown",
   "metadata": {},
   "source": [
    "Menor ou igual a (<=)\n",
    "Retorna verdadeiro se o valor à esquerda do símbolo for menor ou igual ao valor à direita. Sua sintaxe é a seguinte: valor_1 <= valor_2. Essa comparação só retornará verdadeiro se valor_1 for menor ou igual ao valor_2. Com esse operador relacional, verificamos se uma empresa tem uma quantidade menor ou igual à outra, como mostrado a seguir:"
   ]
  },
  {
   "cell_type": "code",
   "execution_count": null,
   "metadata": {},
   "outputs": [],
   "source": [
    "empregados_empresa_1 = int(input('Digite a quantidade de empregados da empresa 1: '))\n",
    "empregados_empresa_2 = int(input('Digite a quantidade de empregados da empresa 2: '))\n",
    "\n",
    "if empregados_empresa_1 <= empregados_empresa_2:\n",
    "  print('Empresa 1 tem uma quantidade de empregados menor ou igual à empresa 2.')"
   ]
  },
  {
   "cell_type": "markdown",
   "metadata": {},
   "source": [
    "Igual a (==)\n",
    "Retorna verdadeiro se o valor à esquerda do símbolo for igual ao valor à direita. Sua sintaxe, valor_1 == valor_2, representa uma comparação que só retornará verdadeiro se valor_1 for igual ao valor_2. Com esse operador relacional, podemos verificar, por exemplo, se dois livros têm o mesmo nome através de uma comparação de strings"
   ]
  },
  {
   "cell_type": "code",
   "execution_count": null,
   "metadata": {},
   "outputs": [],
   "source": [
    "livro_1 = input('Digite o título do 1° livro: ')\n",
    "livro_2 = input('Digite o título do 2° livro: ')\n",
    "\n",
    "if livro_1 == livro_2:\n",
    "  print('Os livros têm o mesmo título')"
   ]
  },
  {
   "cell_type": "markdown",
   "metadata": {},
   "source": [
    "Também é possível fazer essa comparação com valores numéricos.\n",
    "\n",
    "Diferente de (!=)\n",
    "Retorna verdadeiro se o valor à esquerda do símbolo for diferente do valor à direita. Sua sintaxe, valor_1 != valor_2, representa uma comparação que só retornará verdadeiro se valor_1 for diferente do valor_2. Esse operador é o inverso do ==. Com ele, podemos verificar se dois livros têm o títulos diferentes através de uma comparação de strings:"
   ]
  },
  {
   "cell_type": "code",
   "execution_count": null,
   "metadata": {},
   "outputs": [],
   "source": [
    "livro_1 = input('Digite o título do 1° livro: ')\n",
    "livro_2 = input('Digite o título do 2° livro: ')\n",
    "\n",
    "if livro_1 != livro_2:\n",
    "  print('Os livros têm títulos diferentes')"
   ]
  },
  {
   "cell_type": "markdown",
   "metadata": {},
   "source": [
    "Também é possível fazer essa comparação com valores numéricos."
   ]
  },
  {
   "cell_type": "markdown",
   "metadata": {},
   "source": [
    "### Utilizando if e else"
   ]
  },
  {
   "cell_type": "markdown",
   "metadata": {},
   "source": [
    "Situação: Receberemos a média de estudantes e precisamos de um algoritmo que execute a análise e decida se esse estudante está Aprovado ou Reprovado, mostrando uma mensagem do resultado. Para ser aprovado, a média precisa ser igual ou superior à 6.0.\n",
    "Ou seja, vamos coletar um valor qualquer de média a verificar se, a depender desse valor, a pessoa estudante está aprovada ou reprovada. Lembrando que, para que ela seja aprovada, a média precisa ser igual ou maior a 6.\n",
    "\n",
    "A célula de captura dessa média, é:"
   ]
  },
  {
   "cell_type": "code",
   "execution_count": null,
   "metadata": {},
   "outputs": [
    {
     "name": "stdout",
     "output_type": "stream",
     "text": [
      "Aprovado(a)\n"
     ]
    }
   ],
   "source": [
    "media = float(input('Digite a média: '))\n",
    "\n",
    "if media > 6.0:\n",
    "  print('Aprovado(a)')\n",
    "else:\n",
    "  print('Reprovado(a)')"
   ]
  },
  {
   "cell_type": "code",
   "execution_count": null,
   "metadata": {},
   "outputs": [
    {
     "name": "stdout",
     "output_type": "stream",
     "text": [
      "Reprovado(a)\n"
     ]
    }
   ],
   "source": [
    "media = float(input('Digite a média: '))\n",
    "\n",
    "if media >= 6.0:\n",
    "  print('Aprovado(a)')\n",
    "else:\n",
    "  print('Reprovado(a)')"
   ]
  },
  {
   "cell_type": "markdown",
   "metadata": {},
   "source": [
    "Também podemos fazer conjuntos de ifs, trabalhando com situações que exijam mais de duas condições. Vamos acompanhar um caso em que isso acontece, envolvendo a nossa instituição de ensino."
   ]
  },
  {
   "cell_type": "markdown",
   "metadata": {},
   "source": [
    "Situação: A nossa instituição de ensino lançou uma nota oficial: pessoas com média entre 4.0 e 6.0 podem fazer os cursos de Recuperação nas férias e tentar recuperar a nota.\n",
    "\n",
    "Vamos fazer um conjunto de ifs, estruturando essa nova condição.\n",
    "Neste caso, temos as condições:\n",
    "\n",
    "Se a média for igual ou superior a 6, a pessoa está aprovada.\n",
    "\n",
    "Se a média estiver entre 4 e 6, a pessoa está de recuperação.\n",
    "\n",
    "Se a média for inferior a 4, a pessoa está reprovada.\n",
    "\n",
    "Podemos fazer um conjunto de ifs em cascata para estruturarmos essa nova condição. Para isso, vamos selecionaremos o código de coleta de média e, a partir dessa coleta, podemos criar um conjunto de ifs."
   ]
  },
  {
   "cell_type": "code",
   "execution_count": null,
   "metadata": {},
   "outputs": [
    {
     "name": "stdout",
     "output_type": "stream",
     "text": [
      "Aprovado(a)\n"
     ]
    }
   ],
   "source": [
    "media = float(input('Digite a média: '))\n",
    "\n",
    "if media >= 6.0:\n",
    "  print('Aprovado(a)')\n",
    "if 6.0 > media >= 4.0:\n",
    "  print('Recuperação')\n",
    "if media < 4.0:\n",
    "  print('Reprovado(a)')"
   ]
  },
  {
   "cell_type": "code",
   "execution_count": null,
   "metadata": {},
   "outputs": [
    {
     "name": "stdout",
     "output_type": "stream",
     "text": [
      "Reprovado(a)\n"
     ]
    }
   ],
   "source": [
    "media = float(input('Digite a média: '))\n",
    "\n",
    "if media >= 6.0:\n",
    "  print('Aprovado(a)')\n",
    "if 6.0 > media >= 4.0:\n",
    "  print('Recuperação')\n",
    "if media < 4.0:\n",
    "  print('Reprovado(a)')"
   ]
  },
  {
   "cell_type": "code",
   "execution_count": null,
   "metadata": {},
   "outputs": [
    {
     "name": "stdout",
     "output_type": "stream",
     "text": [
      "Recuperação\n"
     ]
    }
   ],
   "source": [
    "media = float(input('Digite a média: '))\n",
    "\n",
    "if media >= 6.0:\n",
    "  print('Aprovado(a)')\n",
    "if 6.0 > media >= 4.0:\n",
    "  print('Recuperação')\n",
    "if media < 4.0:\n",
    "  print('Reprovado(a)')"
   ]
  },
  {
   "cell_type": "markdown",
   "metadata": {},
   "source": [
    "temos tantos ifs em cascata, porque não adicionar um else? A resposta é que isso poderia nos gerar um erro.\n",
    "O else é uma estrutura que se associa apenas ao último if associado"
   ]
  },
  {
   "cell_type": "code",
   "execution_count": null,
   "metadata": {},
   "outputs": [
    {
     "name": "stdout",
     "output_type": "stream",
     "text": [
      "Aprovado(a)\n"
     ]
    }
   ],
   "source": [
    "media = float(input('Digite a média: '))\n",
    "\n",
    "if media >= 6.0:\n",
    "  print('Aprovado(a)')\n",
    "if 6.0 > media >= 4.0:\n",
    "  print('Recuperação')\n",
    "if media < 4.0:\n",
    "  print('Reprovado(a)')"
   ]
  },
  {
   "cell_type": "markdown",
   "metadata": {},
   "source": [
    "O else é uma estrutura condicional opcional atrelada ao if. Ele é executado quando a condição especificada na estrutura condicional anterior não é verdadeira. A sintaxe de sua estrutura pode ser exemplificada através de uma condicional simples. Para verificar se a 1° nota de um estudante é maior ou igual a sua 2° nota na mesma matéria, fazemos:\n",
    "\n",
    "if nota_1 >= nota_2:\n",
    "  print('A 2° nota é menor ou igual a 1°.')\n",
    "else:\n",
    "  print('A 2° nota é maior que a 1°.')\n",
    "\n",
    "Caso a condição no if (nota_1 >= nota_2) seja falsa, o código dentro do bloco if será ignorado e o programa executará o código dentro do bloco else. Assim, ele é utilizado de forma que, caso a condição não seja verdadeira, uma ação alternativa seja tomada, garantindo um controle sobre todos os processos do código."
   ]
  },
  {
   "cell_type": "markdown",
   "metadata": {},
   "source": [
    "### Elif"
   ]
  },
  {
   "cell_type": "markdown",
   "metadata": {},
   "source": [
    "O elif é uma palavra-chave em Python que significa \"senão, se\" e pode ser considerado uma união do else com um if. Ela é usada em conjunto com a palavra-chave if para formar uma estrutura condicional encadeada."
   ]
  },
  {
   "cell_type": "markdown",
   "metadata": {},
   "source": [
    "Essa estrutura será executada se a condição superior a ela for falsa. O código de execução será executado se a condição inserida nela for verdadeira. Vamos analisar a sintaxe do elif:\n",
    "\n",
    "if condição1:\n",
    "\n",
    "faça algo\n",
    "\n",
    "elif condição2:\n",
    "\n",
    "faça outra coisa\n",
    "\n",
    "elif condição3:\n",
    "\n",
    "faça mais alguma coisa\n",
    "\n",
    "else:\n",
    "\n",
    "faça algo diferente\n"
   ]
  },
  {
   "cell_type": "code",
   "execution_count": null,
   "metadata": {},
   "outputs": [
    {
     "name": "stdout",
     "output_type": "stream",
     "text": [
      "Aprovado(a)\n"
     ]
    }
   ],
   "source": [
    "if media >= 6.0:\n",
    "  print('Aprovado(a)')\n",
    "if 6.0 > media >= 4.0:\n",
    "  print('Recuperação')\n",
    "if media < 4.0:\n",
    "  print('Reprovado(a)')"
   ]
  },
  {
   "cell_type": "code",
   "execution_count": null,
   "metadata": {},
   "outputs": [
    {
     "name": "stdout",
     "output_type": "stream",
     "text": [
      "Aprovado(a)\n"
     ]
    }
   ],
   "source": [
    "if media >= 6.0:\n",
    "  print('Aprovado(a)')\n",
    "elif 6.0 > media >= 4.0:\n",
    "  print('Recuperação')\n",
    "else:\n",
    "  print('Reprovado(a)')"
   ]
  },
  {
   "cell_type": "code",
   "execution_count": null,
   "metadata": {},
   "outputs": [
    {
     "name": "stdout",
     "output_type": "stream",
     "text": [
      "Reprovado(a)\n"
     ]
    }
   ],
   "source": [
    "if media >= 9.0:\n",
    "  print('Aprovado(a)')\n",
    "elif 6.0 > media >= 4.0:\n",
    "  print('Recuperação')\n",
    "else:\n",
    "  print('Reprovado(a)')"
   ]
  },
  {
   "cell_type": "markdown",
   "metadata": {},
   "source": [
    "não é boa prática fazer milhões de condicionais em cadeia. Podemos buscar outras alternativas. Vamos usar a nossa aplicação de ifs em cadeia e remodelá-la com ifs e elses."
   ]
  },
  {
   "cell_type": "code",
   "execution_count": null,
   "metadata": {},
   "outputs": [
    {
     "name": "stdout",
     "output_type": "stream",
     "text": [
      "Aprovado(a)\n"
     ]
    }
   ],
   "source": [
    "media = float(input('Digite a média: '))\n",
    "if media >= 6.0:\n",
    "  print('Aprovado(a)')\n",
    "if 6.0 > media >= 4.0:\n",
    "  print('Recuperação')\n",
    "if media < 4.0:\n",
    "  print('Reprovado(a)')"
   ]
  },
  {
   "cell_type": "markdown",
   "metadata": {},
   "source": [
    "O elif é uma estrutura condicional opcional atrelada ao if. Ele permite que seja possível realizar a verificação de várias condições de maneira encadeada, de modo que ele só será executado se a condição anterior não for atendida. Podemos exemplificar através de uma condicional ao classificar os preços de um imóvel vendido no mercado imobiliário, como no código a seguir:\n",
    "\n",
    "if valor_imovel < 100000:\n",
    "    print('Imóvel de entrada')\n",
    "elif valor_imovel >= 100000 and valor_imovel < 500000:\n",
    "    print('Imóvel de médio valor')\n",
    "elif valor_imovel >= 500000:\n",
    "    print('Imóvel de alto valor')\n",
    "\n",
    "O elif permite adicionar múltiplas condições a um código e é executado somente se as condições do if ou de todos os elifs anteriores forem falsas. Assim, o elif fornece uma maneira de verificar várias condições diferentes sem precisar usar vários comandos if. No exemplo, o elif é usado para verificar se o valor do imóvel está entre 100000 e 500000 e também se o valor é igual ou superior a 500000, mas essa verificação só é feita caso a condição anterior seja falsa."
   ]
  },
  {
   "cell_type": "markdown",
   "metadata": {},
   "source": [
    "### Operadores lógicos "
   ]
  },
  {
   "cell_type": "markdown",
   "metadata": {},
   "source": [
    "Operandos e operadores lógicos\n",
    "As expressões lógicas são compostas de operandos e operadores lógicos. Os operandos lógicos são elementos comparados ou avaliados em uma expressão lógica e vão retornar True ou False.\n",
    "\n",
    "Vamos recordar o código da aula passada."
   ]
  },
  {
   "cell_type": "code",
   "execution_count": 3,
   "metadata": {},
   "outputs": [
    {
     "ename": "NameError",
     "evalue": "name 'media' is not defined",
     "output_type": "error",
     "traceback": [
      "\u001b[1;31m---------------------------------------------------------------------------\u001b[0m",
      "\u001b[1;31mNameError\u001b[0m                                 Traceback (most recent call last)",
      "Cell \u001b[1;32mIn[3], line 1\u001b[0m\n\u001b[1;32m----> 1\u001b[0m \u001b[38;5;28;01mif\u001b[39;00m \u001b[43mmedia\u001b[49m \u001b[38;5;241m>\u001b[39m\u001b[38;5;241m=\u001b[39m \u001b[38;5;241m6.0\u001b[39m:\n\u001b[0;32m      2\u001b[0m   \u001b[38;5;28mprint\u001b[39m(\u001b[38;5;124m'\u001b[39m\u001b[38;5;124mAprovado(a)\u001b[39m\u001b[38;5;124m'\u001b[39m)\n\u001b[0;32m      3\u001b[0m \u001b[38;5;28;01melif\u001b[39;00m \u001b[38;5;241m6.0\u001b[39m \u001b[38;5;241m>\u001b[39m media \u001b[38;5;241m>\u001b[39m\u001b[38;5;241m=\u001b[39m \u001b[38;5;241m4.0\u001b[39m:\n",
      "\u001b[1;31mNameError\u001b[0m: name 'media' is not defined"
     ]
    }
   ],
   "source": [
    "if media >= 6.0:\n",
    "  print('Aprovado(a)')\n",
    "elif 6.0 > media >= 4.0:\n",
    "  print('Recuperação')\n",
    "else:\n",
    "  print('Reprovado(a)')"
   ]
  },
  {
   "cell_type": "markdown",
   "metadata": {},
   "source": [
    "Os operadores lógicos são caracteres, símbolos ou palavras-chave usadas para combinar operandos em uma única expressão. Os três operadores do Python são: and, or e not. Estudaremos mais a fundo esses operadores neste vídeo."
   ]
  },
  {
   "cell_type": "markdown",
   "metadata": {},
   "source": [
    " múltipla atribuição de início. Mas, o que é uma múltipla atribuição? É quando temos determinado valor/dado e ligamos diversas variáveis a esse mesmo valor."
   ]
  },
  {
   "cell_type": "code",
   "execution_count": null,
   "metadata": {},
   "outputs": [],
   "source": [
    "t1 = t2 = True\n",
    "f1 = f2 = False"
   ]
  },
  {
   "cell_type": "code",
   "execution_count": null,
   "metadata": {},
   "outputs": [],
   "source": [
    "if :\n",
    "  print('expressão verdadeira')\n",
    "else:\n",
    "  print('expressão falsa')"
   ]
  },
  {
   "cell_type": "markdown",
   "metadata": {},
   "source": [
    "A estrutura do and só retornará um resultado verdadeiro se os dois operandos lógicos que o compõe também forem verdadeiros. Isso faz parte da tabela verdade do and."
   ]
  },
  {
   "cell_type": "markdown",
   "metadata": {},
   "source": [
    "Na primeira parte do and, vamos determinar que ele deve funcionar quando tiver dois valores True: t1 and t2. Significa o operador and vai comparar True e outro True, t1 e t2. Vamos rodar a célula com \"Shift + Enter\"."
   ]
  },
  {
   "cell_type": "code",
   "execution_count": null,
   "metadata": {},
   "outputs": [
    {
     "name": "stdout",
     "output_type": "stream",
     "text": [
      "expressão verdadeira\n"
     ]
    }
   ],
   "source": [
    "if t1 and t2:\n",
    "  print('expressão verdadeira')\n",
    "else:\n",
    "  print('expressão falsa')"
   ]
  },
  {
   "cell_type": "code",
   "execution_count": null,
   "metadata": {},
   "outputs": [
    {
     "name": "stdout",
     "output_type": "stream",
     "text": [
      "expressão falsa\n"
     ]
    }
   ],
   "source": [
    "#Se, ao invés de t2, colocarmos f2 e rodarmos, o retorno será expressão falsa.\n",
    "\n",
    "if t1 and f2:\n",
    "  print('expressão verdadeira')\n",
    "else:\n",
    "  print('expressão falsa')"
   ]
  },
  {
   "cell_type": "markdown",
   "metadata": {},
   "source": [
    "O or é a condição \"ou\". Ela será dada como falsa apenas quando as duas entradas forem falsas. No caso de uma ou duas condições verdadeiras, ela também será dada como verdadeira."
   ]
  },
  {
   "cell_type": "code",
   "execution_count": null,
   "metadata": {},
   "outputs": [
    {
     "name": "stdout",
     "output_type": "stream",
     "text": [
      "expressão falsa\n"
     ]
    }
   ],
   "source": [
    "#Vamos colocar f1, espaço, or, que é o nosso operador, espaço, f2. Agora, apertaremos \"Shift + Enter\".\n",
    "if f1 or f2:\n",
    "  print('expressão verdadeira')\n",
    "else:\n",
    "  print('expressão falsa')"
   ]
  },
  {
   "cell_type": "code",
   "execution_count": null,
   "metadata": {},
   "outputs": [],
   "source": [
    "#se ao invés de f1, adicionarmos t1, a expressão será verdadeira, por o resultado ser positivo e verdadeiro.\n",
    "if t1 or f2:\n",
    "  print('expressão verdadeira')\n",
    "else:\n",
    "  print('expressão falsa')"
   ]
  },
  {
   "cell_type": "markdown",
   "metadata": {},
   "source": [
    "O operador not inverte o resultado booleano. Então, se colocamos um not e o True, esse True se transformará em False. Da mesma maneira, um not e um False, será transformado em True."
   ]
  },
  {
   "cell_type": "code",
   "execution_count": null,
   "metadata": {},
   "outputs": [],
   "source": [
    "if not t1:\n",
    "  print('expressão verdadeira')\n",
    "else:\n",
    "  print('expressão falsa')"
   ]
  },
  {
   "cell_type": "code",
   "execution_count": null,
   "metadata": {},
   "outputs": [
    {
     "name": "stdout",
     "output_type": "stream",
     "text": [
      "expressão falsa\n"
     ]
    }
   ],
   "source": [
    "#Esse resultado será falso, porque a \"verdade\" será invertida. Para testar, basta apertar \"Shift + Enter\".\n",
    "if not t1:\n",
    "  print('expressão verdadeira')\n",
    "else:\n",
    "  print('expressão falsa')"
   ]
  },
  {
   "cell_type": "code",
   "execution_count": null,
   "metadata": {},
   "outputs": [
    {
     "name": "stdout",
     "output_type": "stream",
     "text": [
      "expressão verdadeira\n"
     ]
    }
   ],
   "source": [
    "#Se colocarmos f1, que é o falso, no lugar de t1, True, e apertarmos \"Shift + Enter\" outra vez, o resultado será verdadeiro.\n",
    "if not f1:\n",
    "  print('expressão verdadeira')\n",
    "else:\n",
    "  print('expressão falsa')"
   ]
  },
  {
   "cell_type": "markdown",
   "metadata": {},
   "source": [
    "O operador in funciona de maneira diferente do or, and e not. Sua missão é verificar se determinado elemento está contido em um conjunto de elementos.\n",
    "\n",
    "Podemos usá-lo para verificar se uma palavra está contida em um texto, por exemplo. Caso ela esteja, o resultado será True, e caso não esteja, False. Vamos acompanhar uma situação que envolve nosso trabalho na escola."
   ]
  },
  {
   "cell_type": "markdown",
   "metadata": {},
   "source": [
    "### Tabela verdade"
   ]
  },
  {
   "attachments": {
    "image-2.png": {
     "image/png": "[encoded data removed]"
    },
    "image-3.png": {
     "image/png": "[encoded data removed]"
    },
    "image.png": {
     "image/png": "[encoded data removed]"
    }
   },
   "cell_type": "markdown",
   "metadata": {},
   "source": [
    "Quando desejamos criar uma expressão lógica com operadores lógicos, precisamos saber como funciona a tabela verdade de cada um deles para conseguirmos construir um código que resulte no que esperamos. Essas tabelas ajudam a entender e a analisar expressões lógicas, como as encontradas em algoritmos de programação e para verificar a validade de uma dada expressão lógica. A tabela auxilia na verificação dos resultados para todas as possíveis combinações de valores lógicos de uma dada expressão lógica.\n",
    "\n",
    "Vamos conhecer a tabela verdade dos operadores lógicos and, or e not.\n",
    "\n",
    "Operador and\n",
    "A tabela verdade do operador and nos mostra que a saída somente retorna Verdade (True) se ambos os operandos são Verdade. Caso contrário, retorna Falso (False), como mostrado na tabela abaixo:\n",
    "\n",
    "![image.png](attachment:image.png)\n",
    "\n",
    "Operador or\n",
    "A tabela verdade do operador or nos mostra que a saída somente retorna Falso (False) se ambos os operandos são Falsos, caso contrário, retorna Verdade (True). Ou seja, será retornado True se pelo menos um dos operandos for True, como mostrado abaixo:\n",
    "\n",
    "![image-2.png](attachment:image-2.png)\n",
    "\n",
    "O operador not tem uma tabela verdade menor, uma vez que ele apenas inverte o valor do operando. Se o operando for Verdadeiro, retorna Falso; se for Falso, retorna Verdadeiro.\n",
    "\n",
    "Operador not\n",
    "\n",
    "![image-3.png](attachment:image-3.png)"
   ]
  },
  {
   "cell_type": "markdown",
   "metadata": {},
   "source": [
    "### Estrututura de repetição "
   ]
  },
  {
   "cell_type": "markdown",
   "metadata": {},
   "source": [
    "Estruturas ou laços de repetição são capazes de repetir um mesmo bloco de comandos quantas vezes forem definidas.\n",
    "\n",
    "Palavra chave é while e for "
   ]
  },
  {
   "cell_type": "markdown",
   "metadata": {},
   "source": [
    "### O laço while "
   ]
  },
  {
   "cell_type": "markdown",
   "metadata": {},
   "source": [
    "O laço while é conhecido por repetir o mesmo bloco de código desde que uma determinada condição seja verdadeira.\n",
    "\n",
    "Sintaxe do while\n",
    "while condição:\n",
    "    bloco de código\n"
   ]
  },
  {
   "cell_type": "markdown",
   "metadata": {},
   "source": [
    "construir um contador de 1 até 10. "
   ]
  },
  {
   "cell_type": "code",
   "execution_count": null,
   "metadata": {},
   "outputs": [
    {
     "name": "stdout",
     "output_type": "stream",
     "text": [
      "1\n",
      "2\n",
      "3\n",
      "4\n",
      "5\n",
      "6\n",
      "7\n",
      "8\n",
      "9\n",
      "10\n"
     ]
    }
   ],
   "source": [
    "contador = 1\n",
    "while contador <= 10:\n",
    "  print(contador)\n",
    "  contador += 1"
   ]
  },
  {
   "cell_type": "markdown",
   "metadata": {},
   "source": [
    "fazer o cadastro das notas de três alunos, bem como o cálculo da média dessas notas."
   ]
  },
  {
   "cell_type": "code",
   "execution_count": null,
   "metadata": {},
   "outputs": [],
   "source": [
    "contador = 1\n",
    "while contador <= 3:\n",
    "  nota_1 = float(input('Digite a 1° nota: '))\n",
    "  nota_2 = float(input('Digite a 2° nota: '))\n",
    "\n",
    "  print(f'Média: {(nota_1+nota_2)/2}')\n",
    "  contador += 1"
   ]
  },
  {
   "cell_type": "markdown",
   "metadata": {},
   "source": [
    "### Operadores de atribuição "
   ]
  },
  {
   "cell_type": "markdown",
   "metadata": {},
   "source": [
    "Operadores de atribuição permitem atribuir um dado a uma variável. Já trabalhamos bastante com o principal deles no Python, o =, que faz uma atribuição literal de um valor a uma dada variável, como idade = 20, escolaridade = 'superior', etc.\n",
    "\n",
    "Também conhecemos o operador de soma += que adiciona um valor especificado na variável, como consta no exemplo a seguir:"
   ]
  },
  {
   "cell_type": "code",
   "execution_count": null,
   "metadata": {},
   "outputs": [
    {
     "name": "stdout",
     "output_type": "stream",
     "text": [
      "5.0\n"
     ]
    }
   ],
   "source": [
    "preco = 2.00\n",
    "preco += 3\n",
    "print(preco)"
   ]
  },
  {
   "attachments": {
    "image.png": {
     "image/png": "[encoded data removed]"
    }
   },
   "cell_type": "markdown",
   "metadata": {},
   "source": [
    "Além desses, existem outros operadores de atribuição que permitem alterar os valores das variáveis. As informações de operadores, descrição e exemplo podem ser encontradas na tabela abaixo.\n",
    "\n",
    "![Tabela de operadores](attachment:image.png)\n"
   ]
  },
  {
   "cell_type": "markdown",
   "metadata": {},
   "source": [
    "### Laço for "
   ]
  },
  {
   "cell_type": "markdown",
   "metadata": {},
   "source": [
    "O laço for não funciona sob uma condição. Na verdade, ele fica repetindo a execução de um determinado bloco a partir de uma iteração de elementos contido dentro de um conjunto de elementos.\n",
    "\n",
    "Um conjunto de elementos é uma estrutura de dados onde se armazena dados em um só conjunto."
   ]
  },
  {
   "cell_type": "markdown",
   "metadata": {},
   "source": [
    "O for vai ler os elementos desse conjunto de dados e executar a repetição do bloco de código cada vez que ler um novo elemento, rodando elemento por elemento do conjunto.\n",
    "\n",
    "Sintaxe do for\n",
    "\n",
    "for elemento in conjunto:\n",
    "    código a ser executado para cada elemento\n",
    "\n",
    "O for pode ser traduzido ao português como \"para\". Sua sintaxe expõe que \"para um determinado elemento contido dentro de um conjunto de dados, execute determinado comando\".\n",
    "O for vai iterar sobre cada elemento do conjunto especificado."
   ]
  },
  {
   "cell_type": "markdown",
   "metadata": {},
   "source": [
    "#### Função range()"
   ]
  },
  {
   "cell_type": "markdown",
   "metadata": {},
   "source": [
    "A função range() é responsável por criar uma sequência de números inteiros por meio da especificação do início e o fim da sequência. Também podemos identificar o passo dessa sequência, por exemplo, de dois em dois números."
   ]
  },
  {
   "cell_type": "code",
   "execution_count": null,
   "metadata": {},
   "outputs": [],
   "source": [
    "# A sintaxe de criação dessa função é:\n",
    "range(inicio, fim, passo)\n",
    "\n",
    "# Ressaltamos que se o passo não for especificado, seu valor padrão é 1."
   ]
  },
  {
   "cell_type": "markdown",
   "metadata": {},
   "source": [
    "laço de repetição com contador de 1 a 10."
   ]
  },
  {
   "cell_type": "code",
   "execution_count": 2,
   "metadata": {},
   "outputs": [
    {
     "name": "stdout",
     "output_type": "stream",
     "text": [
      "1\n",
      "2\n",
      "3\n",
      "4\n",
      "5\n",
      "6\n",
      "7\n",
      "8\n",
      "9\n",
      "10\n"
     ]
    }
   ],
   "source": [
    "for contador in range(1,11):\n",
    "  print(contador)\n",
    "# O contador tá em range"
   ]
  },
  {
   "cell_type": "code",
   "execution_count": null,
   "metadata": {},
   "outputs": [
    {
     "name": "stdout",
     "output_type": "stream",
     "text": [
      "Média: 8.0\n"
     ]
    }
   ],
   "source": [
    "for  contador in range(1,4):\n",
    "  nota_1 = float(input('Digite a 1° nota: '))\n",
    "  nota_2 = float(input('Digite a 2° nota: '))\n",
    "\n",
    "  print(f'Média: {(nota_1+nota_2)/2}')"
   ]
  },
  {
   "cell_type": "markdown",
   "metadata": {},
   "source": [
    "### Comandos de controle "
   ]
  },
  {
   "cell_type": "markdown",
   "metadata": {},
   "source": [
    "Ao trabalharmos com laços, conseguimos controlar o fluxo de execuções dentro do bloco de código, permitindo manipular a execução dos laços. O continue e o break são os comandos de controle que podemos executar com for e while.\n",
    "\n",
    "O continue interrompe a iteração atual do laço e salta para a próxima, ou seja, retorna ao início do código. Como exemplo, temos um código de contagem de 1 a 5 com for:"
   ]
  },
  {
   "cell_type": "code",
   "execution_count": null,
   "metadata": {},
   "outputs": [],
   "source": [
    "for i in range(1,6):\n",
    "    if i == 4:\n",
    "        continue\n",
    "    print(i)"
   ]
  },
  {
   "cell_type": "markdown",
   "metadata": {},
   "source": [
    "Esse código imprime todos os números de 1 a 5, exceto o 4. Quando o valor de i for 4, o continue salta para a próxima iteração, ignorando o comando print abaixo da condicional na iteração atual.\n",
    "\n",
    "Já o break interrompe a execução do laço completamente, saindo do bloco de código. Vamos usar o mesmo exemplo de contagem, mas agora colocaremos o break:"
   ]
  },
  {
   "cell_type": "code",
   "execution_count": 1,
   "metadata": {},
   "outputs": [
    {
     "name": "stdout",
     "output_type": "stream",
     "text": [
      "1\n",
      "2\n",
      "3\n"
     ]
    }
   ],
   "source": [
    "for i in range(1,6):\n",
    "    if i == 4:\n",
    "        break\n",
    "    print(i)"
   ]
  },
  {
   "attachments": {
    "image.png": {
     "image/png": "[encoded data removed]"
    }
   },
   "cell_type": "markdown",
   "metadata": {},
   "source": [
    "Nesse caso, o código imprime todos os números de 1 a 3. Quando o valor de i for 4, o break interrompe a execução do laço e sai dele, ignorando qualquer outra iteração que esteja dentro da estrutura.\n",
    "\n",
    "Em resumo, o continue permite pular uma iteração específica do laço, enquanto o break permite finalizar o laço e continuar a execução dos comandos fora dele, como mostrado abaixo:\n",
    "\n",
    "![Exercusão de comandos.png](attachment:image.png)"
   ]
  },
  {
   "cell_type": "markdown",
   "metadata": {},
   "source": [
    "### Listas "
   ]
  },
  {
   "cell_type": "markdown",
   "metadata": {},
   "source": [
    "Existe um tipo de variável capaz de armazenar e agrupar vários itens dentro deles, funcionando como um conjunto de elementos.\n",
    "\n",
    "Esse tipo de variável é conhecido como dado estruturado, já que é capaz de estruturar e armazenar vários tipos de dados.\n",
    "\n",
    "Os dados estruturados mais famosos em Pyhton são as listas e os dicionários.\n",
    "\n",
    "As listas conseguem armazenar vários elementos em ordem.\n",
    "\n",
    "Podem ser quaisquer tipos de dados - seja inteiros, booleanos, floats ou strings. Inclusive, conseguem armazenar até mesmo outras listas dentro delas. Uma lista não precisa se resumir a apenas um tipo de dado. É possível armazenar diferentes tipos de dados em mesma lista.\n",
    "\n",
    "Uma lista não precisa se resumir a apenas um tipo de dado. É possível armazenar diferentes tipos de dados em mesma lista.\n"
   ]
  },
  {
   "cell_type": "code",
   "execution_count": 1,
   "metadata": {},
   "outputs": [
    {
     "data": {
      "text/plain": [
       "['Fabricio Daniel', 9.5, 9.0, 8.0, True]"
      ]
     },
     "execution_count": 1,
     "metadata": {},
     "output_type": "execute_result"
    }
   ],
   "source": [
    "# Ex de Listas:\n",
    "lista = ['Fabricio Daniel',9.5,9.0,8.0,True]\n",
    "lista\n",
    "\n",
    "# O retorno da lista também está entre colchetes e separados por vírgulas, assim como criamos."
   ]
  },
  {
   "attachments": {
    "image.png": {
     "image/png": "[encoded data removed]"
    }
   },
   "cell_type": "markdown",
   "metadata": {},
   "source": [
    "Sempre que adicionamos um novo item, existe uma chave (índice) que se conecta a esse elemento.\n",
    "Esses índices podem ser organizados tanto do primeiro elemento até o final, quanto do final até o primeiro elemento.\n",
    "Isto é, os índices desses 5 elementos contando do primeiro até o final vão se organizar de 0 a 4:\n",
    "\n",
    "![Listas.png](attachment:image.png)\n",
    "\n",
    "Sempre começa como 0 e vai até o valor total dos elementos da lista menos 1.\n",
    "\n"
   ]
  },
  {
   "cell_type": "code",
   "execution_count": 2,
   "metadata": {},
   "outputs": [
    {
     "data": {
      "text/plain": [
       "'Fabricio Daniel'"
      ]
     },
     "execution_count": 2,
     "metadata": {},
     "output_type": "execute_result"
    }
   ],
   "source": [
    " # Coletar os dados através dos índices\n",
    "lista[0]"
   ]
  },
  {
   "cell_type": "code",
   "execution_count": 3,
   "metadata": {},
   "outputs": [
    {
     "data": {
      "text/plain": [
       "9.5"
      ]
     },
     "execution_count": 3,
     "metadata": {},
     "output_type": "execute_result"
    }
   ],
   "source": [
    "lista[1]"
   ]
  },
  {
   "cell_type": "markdown",
   "metadata": {},
   "source": [
    "#### Leitura dinâmica com for"
   ]
  },
  {
   "cell_type": "markdown",
   "metadata": {},
   "source": [
    "O laço for lê um conjunto de elementos que são iteráveis. Por ser um dado estruturado, a lista é um item iterável, ou seja, capaz de ser lido elemento a elemento."
   ]
  },
  {
   "cell_type": "code",
   "execution_count": 4,
   "metadata": {},
   "outputs": [
    {
     "name": "stdout",
     "output_type": "stream",
     "text": [
      "Fabricio Daniel\n",
      "9.5\n",
      "9.0\n",
      "8.0\n",
      "True\n"
     ]
    }
   ],
   "source": [
    "# digitamos o for e especificamos um elemento que vai ler todos os dados da lista. Em seguida, colocamos o in, digitamos o nome lista e dois-pontos.\n",
    "for elemento in lista:\n",
    "# vamos pedir para imprimir o elemento com o print(). Entre os parênteses, digitamos elemento.\n",
    "    print(elemento)\n",
    "# a variável elemento vai ser atribuída a cada dado que foi armazenada dentro da nossa lista."
   ]
  },
  {
   "cell_type": "markdown",
   "metadata": {},
   "source": [
    "#### Média da lista"
   ]
  },
  {
   "cell_type": "markdown",
   "metadata": {},
   "source": [
    "Suponha que precisamos calcular a média do Fabrício. Com o índice, conseguimos coletar cada nota e fazer a média como de costume."
   ]
  },
  {
   "cell_type": "markdown",
   "metadata": {},
   "source": [
    "Vamos colocar uma variável media igual ao numerador delimitado por parênteses. No numerador, especificamos: lista[1] mais a lista[2] mais a lista[3]. Assim, pegamos os valores 9.5, 9.0 e 10.0.\n",
    "Como são três itens, vamos dividi-los por três. Para isso, colocamos a barra e o número 3 como denominador."
   ]
  },
  {
   "cell_type": "code",
   "execution_count": 5,
   "metadata": {},
   "outputs": [
    {
     "data": {
      "text/plain": [
       "8.833333333333334"
      ]
     },
     "execution_count": 5,
     "metadata": {},
     "output_type": "execute_result"
    }
   ],
   "source": [
    "media = (lista[1] + lista[2] + lista[3])/3\n",
    "# pedimos para mostrar o valor do cálculo ao digitar media.\n",
    "media"
   ]
  },
  {
   "cell_type": "markdown",
   "metadata": {},
   "source": [
    "#### Uma sequência de caracteres "
   ]
  },
  {
   "cell_type": "markdown",
   "metadata": {},
   "source": [
    "string é um tipo de dado que corresponde a um dado textual. Quando criamos uma string, estamos agrupando vários caracteres (números, letras e até símbolos) e cada um deles tem seus índices. Como exemplo, vamos criar uma string com o nome Python:"
   ]
  },
  {
   "cell_type": "code",
   "execution_count": 7,
   "metadata": {},
   "outputs": [],
   "source": [
    "linguagem = 'Python'"
   ]
  },
  {
   "cell_type": "markdown",
   "metadata": {},
   "source": [
    "Cada caractere da string linguagem pode ser acessado através de seu índice que inicia em 0 e vai até a quantidade de caracteres da string menos 1, incluindo os índices negativos. Conseguimos acessar eles do mesmo modo que fazemos nas listas:"
   ]
  },
  {
   "cell_type": "code",
   "execution_count": 8,
   "metadata": {},
   "outputs": [
    {
     "name": "stdout",
     "output_type": "stream",
     "text": [
      "P y t h o n\n"
     ]
    }
   ],
   "source": [
    "print(linguagem[0], linguagem[1], linguagem[2], linguagem[-3], linguagem[-2], linguagem[-1])"
   ]
  },
  {
   "cell_type": "markdown",
   "metadata": {},
   "source": [
    "No entanto, os índices servem apenas para acessar os dados, não sendo possível alterar o caractere presente em um índice definido através de uma simples atribuição, como nas listas. Por exemplo, o código linguagem[0] = 'p' gera um erro na compilação.\n",
    "\n",
    "Com isso, podemos pensar que a string é uma estrutura de dados da mesma forma que as listas, certo? Na verdade, não. A string é uma sequência de caracteres (letras, números, símbolos, etc.) representada por uma única variável. Já uma estrutura de dados armazena uma coleção de itens (podendo ser de tipos diferentes) em uma única variável.\n",
    "\n",
    "Mesmo assim, é possível transformar uma string em uma lista através do método split(). Esse método separa a string em uma lista de strings, usando um delimitador especificado entre parênteses. Esse delimitador precisa ser uma string. Como exemplo, vamos transformar a string em lista separando-a cada vez que aparece o ponto de interrogação ?:"
   ]
  },
  {
   "cell_type": "code",
   "execution_count": 9,
   "metadata": {},
   "outputs": [
    {
     "name": "stdout",
     "output_type": "stream",
     "text": [
      "['Quem veio antes', ' O ovo', ' Ou foi a serpente', '']\n"
     ]
    }
   ],
   "source": [
    "duvida = 'Quem veio antes? O ovo? Ou foi a serpente?'\n",
    "lista_palavras = duvida.split('?')\n",
    "print(lista_palavras)"
   ]
  },
  {
   "cell_type": "markdown",
   "metadata": {},
   "source": [
    "O delimitador não aparece na separação. Caso ele não seja definido, a string será segregada por todos os espaços em branco no texto."
   ]
  },
  {
   "cell_type": "code",
   "execution_count": 10,
   "metadata": {},
   "outputs": [
    {
     "name": "stdout",
     "output_type": "stream",
     "text": [
      "['Quem', 'veio', 'antes?', 'O', 'ovo?', 'Ou', 'foi', 'a', 'serpente?']\n"
     ]
    }
   ],
   "source": [
    "duvida = 'Quem veio antes? O ovo? Ou foi a serpente?'\n",
    "lista_palavras = duvida.split()\n",
    "print(lista_palavras)"
   ]
  },
  {
   "cell_type": "markdown",
   "metadata": {},
   "source": [
    "O contrário também acontece, pois podemos transformar uma lista em uma string através do método join(). Para usar a função, precisamos definir o caractere unificador que será utilizado para unir os elementos da lista, formando a string. Em seguida, usamos o método join passando a lista como argumento. Vamos fazer um exemplo com uma lista contendo o resultado de algumas misturas de cores primárias em tintas:"
   ]
  },
  {
   "cell_type": "code",
   "execution_count": 11,
   "metadata": {},
   "outputs": [
    {
     "name": "stdout",
     "output_type": "stream",
     "text": [
      "Tintas: vermelho, azul e amarelo. Verde: mistura de azul e amarelo. Laranja: mistura de vermelho e amarelo. Roxo: mistura de vermelho e azul\n"
     ]
    }
   ],
   "source": [
    "misturas = ['Tintas: vermelho, azul e amarelo',\n",
    "            'Verde: mistura de azul e amarelo',\n",
    "            'Laranja: mistura de vermelho e amarelo',\n",
    "            'Roxo: mistura de vermelho e azul']\n",
    "unificador = '. '\n",
    "string_misturas = unificador.join(misturas)\n",
    "print(string_misturas)"
   ]
  },
  {
   "cell_type": "markdown",
   "metadata": {},
   "source": [
    "### Manipulação de listas "
   ]
  },
  {
   "cell_type": "markdown",
   "metadata": {},
   "source": [
    "#### Quantidade de elementos"
   ]
  },
  {
   "cell_type": "markdown",
   "metadata": {},
   "source": [
    "Para isso, vamos utilizar funções que nos retornam informações sobre esse conjunto de dados. No caso das listas, existe a função len() que retorna a quantidade de elementos de um conjunto."
   ]
  },
  {
   "cell_type": "code",
   "execution_count": null,
   "metadata": {},
   "outputs": [],
   "source": [
    "# Podemos digitar o nome da nossa função, que será len. Em seguida, vamos abrir e fechar parênteses.\n",
    "len(lista)\n",
    "# Dentro desses parênteses, informamos o dado cuja quantidade de elementos queremos saber. Em outras palavras, qual objeto é o iterador que terá os elementos contados. Nesse caso, vamos digitar a lista de cadastro do Fabrício."
   ]
  },
  {
   "cell_type": "markdown",
   "metadata": {},
   "source": [
    "#### Participação "
   ]
  },
  {
   "cell_type": "markdown",
   "metadata": {},
   "source": [
    "A partição funciona para separar as listas trabalhadas, o que pode ser útil em ciência de dados. Por exemplo, quando queremos uma determinada quantidade de dados ou precisamos dividir nosso banco de dados em partes específicas.\n",
    "\n",
    "lista[inicio:fim]\n",
    "\n",
    "especificamos o nome da lista que queremos dividir e abrimos e fechamos colchetes. Dentro dos colchetes, vamos precisar indicar o índice de inicio e fim para delimitar a partição. Ou seja, a partir de qual índice queremos começar a partir e até qual índice queremos finalizar.\n",
    "\n"
   ]
  },
  {
   "cell_type": "code",
   "execution_count": 12,
   "metadata": {},
   "outputs": [
    {
     "data": {
      "text/plain": [
       "[9.5, 9.0, 8.0]"
      ]
     },
     "execution_count": 12,
     "metadata": {},
     "output_type": "execute_result"
    }
   ],
   "source": [
    "lista[1:4]"
   ]
  },
  {
   "cell_type": "code",
   "execution_count": 13,
   "metadata": {},
   "outputs": [
    {
     "data": {
      "text/plain": [
       "[9.5, 9.0]"
      ]
     },
     "execution_count": 13,
     "metadata": {},
     "output_type": "execute_result"
    }
   ],
   "source": [
    "lista[1:3]"
   ]
  },
  {
   "cell_type": "markdown",
   "metadata": {},
   "source": [
    " nem sempre precisamos especificar o primeiro e último elemento da partição.\n",
    "\n",
    " Se não especificamos o inicio e colocamos primeiro apenas os dois-pontos, entende-se que estamos selecionando o primeiro elemento da lista."
   ]
  },
  {
   "cell_type": "code",
   "execution_count": 14,
   "metadata": {},
   "outputs": [
    {
     "data": {
      "text/plain": [
       "['Fabricio Daniel', 9.5, 9.0]"
      ]
     },
     "execution_count": 14,
     "metadata": {},
     "output_type": "execute_result"
    }
   ],
   "source": [
    "lista[:3]\n",
    "# Apareceu o primeiro elemento da lista e o terceiro elemento da lista"
   ]
  },
  {
   "cell_type": "markdown",
   "metadata": {},
   "source": [
    "Também é possível acontecer o inverso. Podemos especificar apenas o primeiro elemento, colocamos dois-pontos e não especicamos o último elemento. Isso faz a lista ser partida desde o elemento especificado até o último da lista."
   ]
  },
  {
   "cell_type": "code",
   "execution_count": 15,
   "metadata": {},
   "outputs": [
    {
     "data": {
      "text/plain": [
       "[8.0, True]"
      ]
     },
     "execution_count": 15,
     "metadata": {},
     "output_type": "execute_result"
    }
   ],
   "source": [
    "lista[3:]"
   ]
  },
  {
   "cell_type": "markdown",
   "metadata": {},
   "source": [
    "Por fim, se não especificamos nenhum elemento, vão ser coletados todos os dados da lista - desde o primeiro até o último."
   ]
  },
  {
   "cell_type": "code",
   "execution_count": 16,
   "metadata": {},
   "outputs": [
    {
     "data": {
      "text/plain": [
       "['Fabricio Daniel', 9.5, 9.0, 8.0, True]"
      ]
     },
     "execution_count": 16,
     "metadata": {},
     "output_type": "execute_result"
    }
   ],
   "source": [
    "lista[:]"
   ]
  },
  {
   "cell_type": "markdown",
   "metadata": {},
   "source": [
    "#### append()"
   ]
  },
  {
   "cell_type": "markdown",
   "metadata": {},
   "source": [
    "append(), o qual permite adição de um elemento ao final da lista.\n",
    "especificamos o nome do objeto ou variável, seguido de um ponto, depois o nome do método e os parênteses.\n"
   ]
  },
  {
   "cell_type": "code",
   "execution_count": 17,
   "metadata": {},
   "outputs": [
    {
     "data": {
      "text/plain": [
       "['Fabricio Daniel', 9.5, 9.0, 8.0, True, 8.833333333333334]"
      ]
     },
     "execution_count": 17,
     "metadata": {},
     "output_type": "execute_result"
    }
   ],
   "source": [
    "lista.append(media)\n",
    "lista"
   ]
  },
  {
   "cell_type": "markdown",
   "metadata": {},
   "source": [
    "#### extend()\n"
   ]
  },
  {
   "cell_type": "markdown",
   "metadata": {},
   "source": [
    "funciona de uma forma similar ao append(), pois também adiciona elementos ao final da lista.\n",
    "Porém, o extend() pode adicionar vários elementos, os quais devem estar contidos dentro de uma variável iterável, como uma lista. Com isso, os elementos dessa lista se tornam parte da lista extendida."
   ]
  },
  {
   "cell_type": "markdown",
   "metadata": {},
   "source": [
    "Para utilizar o método extend(), vamos digitar o nome da lista, um ponto e depois escrevemos extend()."
   ]
  },
  {
   "cell_type": "code",
   "execution_count": null,
   "metadata": {},
   "outputs": [],
   "source": [
    "lista.extend([10.0,8.0,9.0])\n",
    "lista\n",
    "# Foram adicionados os três novos elementos ao final da lista do Fabrício Daniel."
   ]
  },
  {
   "cell_type": "markdown",
   "metadata": {},
   "source": [
    "Cada um está como um elemento separado. Esse é o diferencial do extend(), pois o append() cria um novo elemento único.\n",
    "Para fazer essa comparação, vamos adicionar a nova lista de notas novamente, mas com o método append()."
   ]
  },
  {
   "cell_type": "code",
   "execution_count": 18,
   "metadata": {},
   "outputs": [
    {
     "data": {
      "text/plain": [
       "['Fabricio Daniel', 9.5, 9.0, 8.0, True, 8.833333333333334, [10.0, 8.0, 9.0]]"
      ]
     },
     "execution_count": 18,
     "metadata": {},
     "output_type": "execute_result"
    }
   ],
   "source": [
    "lista.append([10.0,8.0,9.0])\n",
    "lista\n",
    "# Toda a nova lista de notas foi adicionado como um elemento único, ao invés de vários elementos segregados."
   ]
  },
  {
   "cell_type": "markdown",
   "metadata": {},
   "source": [
    "#### remove()"
   ]
  },
  {
   "cell_type": "markdown",
   "metadata": {},
   "source": [
    "o método remove(), o qual permite remover um elemento específico dentro de uma lista.\n",
    "\n",
    "Para utilizá-lo, faremos a mesma estrutura de utilização de objeto e método. Colocamos o nome lista, ponto e digitamos remove()."
   ]
  },
  {
   "cell_type": "code",
   "execution_count": 19,
   "metadata": {},
   "outputs": [
    {
     "data": {
      "text/plain": [
       "['Fabricio Daniel', 9.5, 9.0, 8.0, True, 8.833333333333334]"
      ]
     },
     "execution_count": 19,
     "metadata": {},
     "output_type": "execute_result"
    }
   ],
   "source": [
    "lista.remove([10.0,8.0,9.0])\n",
    "lista\n",
    "# Temos o valor removido da nossa lista de cadastro do Fabrício Daniel."
   ]
  },
  {
   "cell_type": "markdown",
   "metadata": {},
   "source": [
    "### outras manipulações para listas"
   ]
  },
  {
   "cell_type": "markdown",
   "metadata": {},
   "source": [
    "Para todos os casos usaremos a lista raca_caes a seguir:"
   ]
  },
  {
   "cell_type": "code",
   "execution_count": 21,
   "metadata": {},
   "outputs": [],
   "source": [
    "raca_caes = ['Labrador Retriever',\n",
    "             'Bulldog Francês',\n",
    "             'Pastor Alemão',\n",
    "             'Poodle']"
   ]
  },
  {
   "cell_type": "markdown",
   "metadata": {},
   "source": [
    "O primeiro método é o insert() que insere o elemento em uma determinada posição da lista. Para isso, seguimos a sintaxe lista.insert(indice, elemento), na qual lista é a lista que vai receber o novo elemento, indice é o índice onde será inserido o novo elemento e elemento é o novo elemento a ser inserido."
   ]
  },
  {
   "cell_type": "code",
   "execution_count": 22,
   "metadata": {},
   "outputs": [
    {
     "data": {
      "text/plain": [
       "['Labrador Retriever',\n",
       " 'Golden Retriever',\n",
       " 'Bulldog Francês',\n",
       " 'Pastor Alemão',\n",
       " 'Poodle']"
      ]
     },
     "execution_count": 22,
     "metadata": {},
     "output_type": "execute_result"
    }
   ],
   "source": [
    "raca_caes.insert(1, 'Golden Retriever')\n",
    "raca_caes"
   ]
  },
  {
   "cell_type": "markdown",
   "metadata": {},
   "source": [
    "Seguindo esse pensamento, a estrutura lista.insert(len(lista), elemento) corresponde ao uso do método append\n",
    "O método pop() remove o elemento de uma determinada posição da lista e o retorna como saída na execução do método. Nele só precisamos especificar, nos parênteses, qual o índice do elemento que queremos remover e ele será apagado da lista. Portanto, vamos remover a raça Golden Retriever que adicionamos no método anterior."
   ]
  },
  {
   "cell_type": "code",
   "execution_count": 23,
   "metadata": {},
   "outputs": [
    {
     "data": {
      "text/plain": [
       "'Golden Retriever'"
      ]
     },
     "execution_count": 23,
     "metadata": {},
     "output_type": "execute_result"
    }
   ],
   "source": [
    "raca_caes.pop(1)"
   ]
  },
  {
   "cell_type": "markdown",
   "metadata": {},
   "source": [
    "O método index() retorna o índice de um elemento específico na lista. Para isso, especificamos o elemento entre parênteses. Para identificar o índice da raça Pastor Alemão na lista, fazemos:"
   ]
  },
  {
   "cell_type": "code",
   "execution_count": 24,
   "metadata": {},
   "outputs": [
    {
     "data": {
      "text/plain": [
       "2"
      ]
     },
     "execution_count": 24,
     "metadata": {},
     "output_type": "execute_result"
    }
   ],
   "source": [
    "raca_caes.index('Pastor Alemão')"
   ]
  },
  {
   "cell_type": "markdown",
   "metadata": {},
   "source": [
    "O método sort() organiza os elementos da lista em ordem crescente ou decrescente. Caso sejam palavras, a ordem é dada por sequência alfabética ou inversa à ela. Para ordenar os valores, podemos apenas declarar o método sort que a lista será organizada em ordem. Para ordenar alfabeticamente a lista raca_caes temos o seguinte código:"
   ]
  },
  {
   "cell_type": "code",
   "execution_count": 25,
   "metadata": {},
   "outputs": [
    {
     "data": {
      "text/plain": [
       "['Bulldog Francês', 'Labrador Retriever', 'Pastor Alemão', 'Poodle']"
      ]
     },
     "execution_count": 25,
     "metadata": {},
     "output_type": "execute_result"
    }
   ],
   "source": [
    "raca_caes.sort()\n",
    "raca_caes"
   ]
  },
  {
   "cell_type": "markdown",
   "metadata": {},
   "source": [
    "### Dicionário"
   ]
  },
  {
   "cell_type": "markdown",
   "metadata": {},
   "source": [
    "Existem estruturas de dados para as quais conseguimos definir valores aos índices de acesso. Essas estruturas são conhecidas como dicionários, os quais são bastante utilizados em Data Science por conta dessa categorização dos dados ao definir seus índices.\n",
    "Os índices dentro de dicionários são classificados como chaves e mantém a estrutura chave-valor.\n",
    "A chave é como um índice capaz de acessar um determinado valor.\n",
    "\n",
    "É como se fosse uma cômoda com várias gavetas. Dentro de cada gaveta, temos os valores. Enquanto, a chave é o nome (categoria) desse conjunto de valores com o qual conseguimos abrir as gavetas e descobrir os valores lá contidos.\n",
    "\n",
    "um dicionário é delimitado pelos caráteres de chaves {}. Dentro das chaves, possuem os chamados pares chave-valor.\n",
    "\n",
    "Esses pares são especificados pela chave seguida de dois-pontos e depois o valor associado a essa chave.\n",
    "\n",
    "dicionário = {chave: valor}\n",
    "\n",
    "Cada par chave-valor precisa ser separado por vírgula.\n",
    "\n",
    "A chave e os valores podem ser qualquer tipo de dado, por exemplo, um valor booleano, número ou string.\n",
    "\n",
    "Normalmente, buscamos valores diferentes de chaves. Se adicionamos várias chaves em um dicionário, é interessante que tenham nomes diferentes.\n",
    "\n"
   ]
  },
  {
   "cell_type": "code",
   "execution_count": 26,
   "metadata": {},
   "outputs": [
    {
     "data": {
      "text/plain": [
       "{'chave_1': 1, 'chave_2': 2}"
      ]
     },
     "execution_count": 26,
     "metadata": {},
     "output_type": "execute_result"
    }
   ],
   "source": [
    "dicionario = {'chave_1':1,\n",
    "              'chave_2':2}\n",
    "dicionario\n",
    "# visualizamos a estrutura do dicionario entre chaves:"
   ]
  },
  {
   "cell_type": "markdown",
   "metadata": {},
   "source": [
    "Os dicionários são úteis para armazenar dados. Vamos imaginar uma situação em que precisamos criar um conjunto de dados com informações de matrícula de um estudante da nossa instituição de ensino.Os dicionários são úteis para armazenar dados. Vamos imaginar uma situação em que precisamos criar um conjunto de dados com informações de matrícula de um estudante da nossa instituição de ensino."
   ]
  },
  {
   "cell_type": "code",
   "execution_count": 27,
   "metadata": {},
   "outputs": [
    {
     "data": {
      "text/plain": [
       "{'matricula': 2000168933,\n",
       " 'dia_cadastro': 25,\n",
       " 'mes_cadastro': 10,\n",
       " 'turma': '2E'}"
      ]
     },
     "execution_count": 27,
     "metadata": {},
     "output_type": "execute_result"
    }
   ],
   "source": [
    "cadastro = {'matricula': 2000168933,\n",
    "            'dia_cadastro': 25,\n",
    "            'mes_cadastro': 10,\n",
    "            'turma': '2E'}\n",
    "cadastro\n",
    "# São retornadas as informações dessa nova pessoa estudante que entrou em nossa instituição de ensino."
   ]
  },
  {
   "cell_type": "markdown",
   "metadata": {},
   "source": [
    "#### Como acessar dados"
   ]
  },
  {
   "cell_type": "markdown",
   "metadata": {},
   "source": [
    "Primeiro, colocamos o nome do nosso dicionário que é cadastro. Depois, abrimos e fechamos colchetes para acessar o índice.\n",
    "\n",
    "Ao invés de colocar o índice numérico, vamos especificar a chave de interesse. No nosso caso, queremos saber a matrícula. Por isso, digitamos a chave matricula entre aspas simples."
   ]
  },
  {
   "cell_type": "code",
   "execution_count": 29,
   "metadata": {},
   "outputs": [
    {
     "data": {
      "text/plain": [
       "2000168933"
      ]
     },
     "execution_count": 29,
     "metadata": {},
     "output_type": "execute_result"
    }
   ],
   "source": [
    "cadastro['matricula']\n",
    "# conseguimos acessar o valor da matrícula da nova pessoa estudante."
   ]
  },
  {
   "cell_type": "markdown",
   "metadata": {},
   "source": [
    "Se precisamos saber a turma, faremos da mesma maneira. Digitamos cadastro, abrimos e fechamos colchetes. Dentro dos colchetes, colocamos turma entre aspas simples."
   ]
  },
  {
   "cell_type": "code",
   "execution_count": 30,
   "metadata": {},
   "outputs": [
    {
     "data": {
      "text/plain": [
       "'2E'"
      ]
     },
     "execution_count": 30,
     "metadata": {},
     "output_type": "execute_result"
    }
   ],
   "source": [
    "cadastro['turma']\n",
    "#  acessamos o valor da turma que cadastramos."
   ]
  },
  {
   "cell_type": "markdown",
   "metadata": {},
   "source": [
    "#### Atualizar valores "
   ]
  },
  {
   "cell_type": "code",
   "execution_count": 31,
   "metadata": {},
   "outputs": [
    {
     "data": {
      "text/plain": [
       "{'matricula': 2000168933,\n",
       " 'dia_cadastro': 25,\n",
       " 'mes_cadastro': 10,\n",
       " 'turma': '2G'}"
      ]
     },
     "execution_count": 31,
     "metadata": {},
     "output_type": "execute_result"
    }
   ],
   "source": [
    "cadastro['turma'] = '2G'\n",
    "cadastro\n",
    "# a turma agora corresponde ao valor 2G."
   ]
  },
  {
   "cell_type": "code",
   "execution_count": 32,
   "metadata": {},
   "outputs": [
    {
     "data": {
      "text/plain": [
       "{'matricula': 2000168933,\n",
       " 'dia_cadastro': 25,\n",
       " 'mes_cadastro': 10,\n",
       " 'turma': '2G',\n",
       " 'modalidade': 'EAD'}"
      ]
     },
     "execution_count": 32,
     "metadata": {},
     "output_type": "execute_result"
    }
   ],
   "source": [
    "cadastro['modalidade'] = 'EAD'\n",
    "cadastro\n",
    "#  o último elemento do nosso dicionário é a modalidade EAD.  o último elemento do nosso dicionário é a modalidade EAD."
   ]
  },
  {
   "cell_type": "markdown",
   "metadata": {},
   "source": [
    "### Aprofundando em dicionários "
   ]
  },
  {
   "cell_type": "markdown",
   "metadata": {},
   "source": [
    "#### pop()"
   ]
  },
  {
   "cell_type": "markdown",
   "metadata": {},
   "source": [
    "pop() que remove um item do dicionário e depois o retorna."
   ]
  },
  {
   "cell_type": "code",
   "execution_count": 33,
   "metadata": {},
   "outputs": [
    {
     "data": {
      "text/plain": [
       "'2G'"
      ]
     },
     "execution_count": 33,
     "metadata": {},
     "output_type": "execute_result"
    }
   ],
   "source": [
    "cadastro.pop('turma')\n",
    "# o resultado é o valor excluído: a turma 2G."
   ]
  },
  {
   "cell_type": "code",
   "execution_count": 34,
   "metadata": {},
   "outputs": [
    {
     "data": {
      "text/plain": [
       "{'matricula': 2000168933,\n",
       " 'dia_cadastro': 25,\n",
       " 'mes_cadastro': 10,\n",
       " 'modalidade': 'EAD'}"
      ]
     },
     "execution_count": 34,
     "metadata": {},
     "output_type": "execute_result"
    }
   ],
   "source": [
    "cadastro"
   ]
  },
  {
   "cell_type": "markdown",
   "metadata": {},
   "source": [
    "#### Métodos de consultas "
   ]
  },
  {
   "cell_type": "markdown",
   "metadata": {},
   "source": [
    " São métodos que permitem a visualização dos elementos do dicionário, como chaves, valores ou ambos.\n",
    "\n",
    "Vamos trabalhar com os métodos items(), keys() e values()."
   ]
  },
  {
   "cell_type": "markdown",
   "metadata": {},
   "source": [
    "##### items()"
   ]
  },
  {
   "cell_type": "markdown",
   "metadata": {},
   "source": [
    "O método items() nos retorna uma lista dos pares chave-valor. Ou seja, tudo que tem no dicionário em formato de lista.\n",
    "Vamos utilizar a mesma sintaxe de métodos: colocamos o nome do dicionário cadastro, ponto e definimos o método items. Abrimos e fechamos parênteses e os deixamos vazios."
   ]
  },
  {
   "cell_type": "code",
   "execution_count": 35,
   "metadata": {},
   "outputs": [
    {
     "data": {
      "text/plain": [
       "dict_items([('matricula', 2000168933), ('dia_cadastro', 25), ('mes_cadastro', 10), ('modalidade', 'EAD')])"
      ]
     },
     "execution_count": 35,
     "metadata": {},
     "output_type": "execute_result"
    }
   ],
   "source": [
    "cadastro.items()\n",
    "# nos é retornado uma lista contendo a primeira chave e seu valor correspondente, a segunda chave e seu valor correspondente e assim por diante."
   ]
  },
  {
   "cell_type": "markdown",
   "metadata": {},
   "source": [
    "dict_items, isto é, itens do dicionário."
   ]
  },
  {
   "cell_type": "markdown",
   "metadata": {},
   "source": [
    "##### keys()"
   ]
  },
  {
   "cell_type": "markdown",
   "metadata": {},
   "source": [
    " o método keys() retorna uma lista com apenas as chaves do dicionário."
   ]
  },
  {
   "cell_type": "code",
   "execution_count": 36,
   "metadata": {},
   "outputs": [
    {
     "data": {
      "text/plain": [
       "dict_keys(['matricula', 'dia_cadastro', 'mes_cadastro', 'modalidade'])"
      ]
     },
     "execution_count": 36,
     "metadata": {},
     "output_type": "execute_result"
    }
   ],
   "source": [
    "cadastro.keys()\n",
    "# Nos é retornado a dict_keys com todas as chaves presentes no nosso dicionário."
   ]
  },
  {
   "cell_type": "markdown",
   "metadata": {},
   "source": [
    "##### values()"
   ]
  },
  {
   "cell_type": "markdown",
   "metadata": {},
   "source": [
    "o método values() retorna apenas uma lista dos valores que estão em cada chave do dicionário."
   ]
  },
  {
   "cell_type": "code",
   "execution_count": null,
   "metadata": {},
   "outputs": [],
   "source": [
    "cadastro.values()\n",
    "# recebemos todos os valores contidos dentro do nosso dicionário cadastro."
   ]
  },
  {
   "cell_type": "markdown",
   "metadata": {},
   "source": [
    "Esses métodos são muito úteis quando precisamos ler o dicionário para descobrir com o que vamos trabalhar. Assim, obtemos todas as informações necessárias."
   ]
  },
  {
   "cell_type": "markdown",
   "metadata": {},
   "source": [
    "#### Leitura de valores com for"
   ]
  },
  {
   "cell_type": "markdown",
   "metadata": {},
   "source": [
    "É interessante utilizar o laço for quando trabalhamos com conjuntos de dados e dados iteráveis. Como o dicionário é uma estrutura de dados que armazena vários valores, também se torna um tipo de dado iterável.\n",
    "\n",
    "Vamos unir o laço for aos três métodos de consulta que aprendemos? Como fazer uma coleta de todos nossos elementos com esses métodos?"
   ]
  },
  {
   "cell_type": "code",
   "execution_count": 37,
   "metadata": {},
   "outputs": [
    {
     "name": "stdout",
     "output_type": "stream",
     "text": [
      "2000168933\n",
      "25\n",
      "10\n",
      "EAD\n"
     ]
    }
   ],
   "source": [
    "# Metódo keys()\n",
    "for chaves in cadastro.keys():\n",
    "  print(cadastro[chaves])\n",
    "# temos todos os elementos do nosso dicionário porque tivemos acesso a todas as chaves."
   ]
  },
  {
   "cell_type": "markdown",
   "metadata": {},
   "source": [
    "existe uma forma mais simples de fazer essa mesma leitura utilizando o método values(). Pois, retorna diretamente os valores dos elementos."
   ]
  },
  {
   "cell_type": "code",
   "execution_count": null,
   "metadata": {},
   "outputs": [],
   "source": [
    "# metódo values()\n",
    "for valores in cadastro.values():\n",
    "  print(valores)\n",
    "# Nos retorna o mesmo resultado da célula anterior, os quais são os valores do dicionário cadastro"
   ]
  },
  {
   "cell_type": "code",
   "execution_count": 38,
   "metadata": {},
   "outputs": [
    {
     "name": "stdout",
     "output_type": "stream",
     "text": [
      "matricula 2000168933\n",
      "dia_cadastro 25\n",
      "mes_cadastro 10\n",
      "modalidade EAD\n"
     ]
    }
   ],
   "source": [
    "# Metódo items()\n",
    "for chaves, valores in cadastro.items():\n",
    "  print(chaves, valores)\n",
    "# nosso resultado contém a chave e seu valor correspondente em cada iteração.\n"
   ]
  },
  {
   "cell_type": "markdown",
   "metadata": {},
   "source": [
    "### Listas em dicionários "
   ]
  },
  {
   "cell_type": "markdown",
   "metadata": {},
   "source": [
    "Podemos associar estruturas de dados a outras estruturas de dados, como acontece com as listas dentro de dicionários. Nesse caso, as listas podem ser armazenadas nos valores de um dicionário de forma que cada chave pode ter uma lista associada a ela. Isso é útil quando precisamos armazenar vários valores relacionados a uma única chave. Por exemplo: podemos construir um conjunto de dados de uma loja de forma que contenha uma chave com os nomes de cada produto e outra chave contendo os preços correspondentes, como consta no código a seguir:"
   ]
  },
  {
   "cell_type": "code",
   "execution_count": 39,
   "metadata": {},
   "outputs": [],
   "source": [
    "loja = {'nomes': ['televisão', 'celular', 'notebook', 'geladeira', 'fogão'],\n",
    "        'precos': [2000, 1500, 3500, 4000, 1500]}"
   ]
  },
  {
   "cell_type": "markdown",
   "metadata": {},
   "source": [
    "Para acessar os valores, podemos usar um agrupamento de laços for:"
   ]
  },
  {
   "cell_type": "code",
   "execution_count": 40,
   "metadata": {},
   "outputs": [
    {
     "name": "stdout",
     "output_type": "stream",
     "text": [
      "Chave: nomes\n",
      "Elementos:\n",
      "televisão\n",
      "celular\n",
      "notebook\n",
      "geladeira\n",
      "fogão\n",
      "Chave: precos\n",
      "Elementos:\n",
      "2000\n",
      "1500\n",
      "3500\n",
      "4000\n",
      "1500\n"
     ]
    }
   ],
   "source": [
    "for chave, elementos in loja.items():\n",
    "  print(f'Chave: {chave}\\nElementos:')\n",
    "  for dado in elementos:\n",
    "    print(dado)"
   ]
  },
  {
   "cell_type": "markdown",
   "metadata": {},
   "source": [
    "O primeiro laço, o mais externo, faz a leitura dos itens dentro do dicionário (chaves e elementos). Sabendo que os elementos são listas, podemos acessar os dados das listas com outro laço de repetição que está dentro do primeiro laço. O laço mais interno lê os elementos de cada lista por vez e imprime os valores dentro deles.\n",
    "\n",
    "Além disso, podemos realizar operações comuns em listas, como: adicionar, remover ou contar itens na lista associada a uma chave do dicionário. Você pode copiar os códigos acima e executá-los no Colab para verificar a saída."
   ]
  },
  {
   "cell_type": "markdown",
   "metadata": {},
   "source": [
    "### Funnções built-in"
   ]
  },
  {
   "cell_type": "markdown",
   "metadata": {},
   "source": [
    "Durante as aulas, nós trabalhamos diretamente com várias funções built-in que são aquelas pré-definidas e disponíveis por padrão no Python. Elas funcionam como ferramentas úteis para realizar tarefas comuns, como conversões de tipo, operações matemáticas, manipulação de strings e muito mais, sem a necessidade de escrever código adicional.\n",
    "\n",
    "Algumas funções built-in que já conhecemos são: print(), input(), len(), int(), str(), float(), range(), chr(), etc. Mas existem outras além dessas que também são muito úteis, como: sum(), help() e dir(). Vamos conhecê-las?\n",
    "\n",
    "sum()\n",
    "A função sum() permite somar os elementos de uma sequência ou estrutura de dados. No exemplo a seguir, vamos somar os preços de produtos:"
   ]
  },
  {
   "cell_type": "code",
   "execution_count": null,
   "metadata": {},
   "outputs": [],
   "source": [
    "precos = [100.0, 400.0, 200.0]\n",
    "soma = sum(precos)\n",
    "soma"
   ]
  },
  {
   "cell_type": "markdown",
   "metadata": {},
   "source": [
    "help()\n",
    "A função help() é usada para acessar a documentação de funções, métodos e outros elementos do Python. Ela exibe informações em inglês sobre a funcionalidade, sintaxe e uso de um objeto específico. Para usar essa função, basta passar o elemento desejado entre parênteses. Por exemplo, vamos verificar a documentação da função print:"
   ]
  },
  {
   "cell_type": "code",
   "execution_count": 41,
   "metadata": {},
   "outputs": [
    {
     "name": "stdout",
     "output_type": "stream",
     "text": [
      "Help on built-in function print in module builtins:\n",
      "\n",
      "print(*args, sep=' ', end='\\n', file=None, flush=False)\n",
      "    Prints the values to a stream, or to sys.stdout by default.\n",
      "\n",
      "    sep\n",
      "      string inserted between values, default a space.\n",
      "    end\n",
      "      string appended after the last value, default a newline.\n",
      "    file\n",
      "      a file-like object (stream); defaults to the current sys.stdout.\n",
      "    flush\n",
      "      whether to forcibly flush the stream.\n",
      "\n"
     ]
    }
   ],
   "source": [
    "help(print)"
   ]
  },
  {
   "cell_type": "markdown",
   "metadata": {},
   "source": [
    "dir()\n",
    "Por fim, a função dir() é usada para exibir uma lista de atributos e métodos associados a um elemento. Por exemplo, vamos descobrir todos os atributos em métodos de uma lista:"
   ]
  },
  {
   "cell_type": "code",
   "execution_count": 42,
   "metadata": {},
   "outputs": [
    {
     "data": {
      "text/plain": [
       "['__add__',\n",
       " '__class__',\n",
       " '__class_getitem__',\n",
       " '__contains__',\n",
       " '__delattr__',\n",
       " '__delitem__',\n",
       " '__dir__',\n",
       " '__doc__',\n",
       " '__eq__',\n",
       " '__format__',\n",
       " '__ge__',\n",
       " '__getattribute__',\n",
       " '__getitem__',\n",
       " '__getstate__',\n",
       " '__gt__',\n",
       " '__hash__',\n",
       " '__iadd__',\n",
       " '__imul__',\n",
       " '__init__',\n",
       " '__init_subclass__',\n",
       " '__iter__',\n",
       " '__le__',\n",
       " '__len__',\n",
       " '__lt__',\n",
       " '__mul__',\n",
       " '__ne__',\n",
       " '__new__',\n",
       " '__reduce__',\n",
       " '__reduce_ex__',\n",
       " '__repr__',\n",
       " '__reversed__',\n",
       " '__rmul__',\n",
       " '__setattr__',\n",
       " '__setitem__',\n",
       " '__sizeof__',\n",
       " '__str__',\n",
       " '__subclasshook__',\n",
       " 'append',\n",
       " 'clear',\n",
       " 'copy',\n",
       " 'count',\n",
       " 'extend',\n",
       " 'index',\n",
       " 'insert',\n",
       " 'pop',\n",
       " 'remove',\n",
       " 'reverse',\n",
       " 'sort']"
      ]
     },
     "execution_count": 42,
     "metadata": {},
     "output_type": "execute_result"
    }
   ],
   "source": [
    "lista = [1,2,3]\n",
    "dir(lista)"
   ]
  }
 ],
 "metadata": {
  "kernelspec": {
   "display_name": ".venv",
   "language": "python",
   "name": "python3"
  },
  "language_info": {
   "codemirror_mode": {
    "name": "ipython",
    "version": 3
   },
   "file_extension": ".py",
   "mimetype": "text/x-python",
   "name": "python",
   "nbconvert_exporter": "python",
   "pygments_lexer": "ipython3",
   "version": "3.12.4"
  }
 },
 "nbformat": 4,
 "nbformat_minor": 2
}
