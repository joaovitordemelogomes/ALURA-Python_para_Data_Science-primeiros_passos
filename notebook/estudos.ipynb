{
 "cells": [
  {
   "cell_type": "markdown",
   "metadata": {},
   "source": [
    "#Python"
   ]
  },
  {
   "cell_type": "markdown",
   "metadata": {},
   "source": [
    "### O que é python"
   ]
  },
  {
   "cell_type": "markdown",
   "metadata": {},
   "source": [
    "Python é uma linguagem de programação de alto nível, foi criada em 89 e é  usada em vários tipos de aplicação,desde de machine learning.\n",
    "A sintaxe é simples e fáccil para iniciante e possui uma grande comunidade."
   ]
  },
  {
   "cell_type": "markdown",
   "metadata": {},
   "source": [
    "### O que é um notebook"
   ]
  },
  {
   "cell_type": "markdown",
   "metadata": {},
   "source": [
    "O notebook é um ambiente interativo que combina várias informações, como código, texto, equações matemáticas e visualizações de dados. Tudo reunido em um único documento.\n",
    "Utilizado para documentar o código em ciência de dados"
   ]
  },
  {
   "cell_type": "markdown",
   "metadata": {},
   "source": [
    "Sempre que criamos um notebook, ele terá a terminação .ipynb"
   ]
  },
  {
   "cell_type": "markdown",
   "metadata": {},
   "source": [
    "O notebook executa em tempo real de código. "
   ]
  },
  {
   "cell_type": "code",
   "execution_count": 1,
   "metadata": {},
   "outputs": [
    {
     "data": {
      "text/plain": [
       "20"
      ]
     },
     "execution_count": 1,
     "metadata": {},
     "output_type": "execute_result"
    }
   ],
   "source": [
    "10 + 10\n",
    "# Foi em tempo real e o ressultado da conta"
   ]
  },
  {
   "cell_type": "markdown",
   "metadata": {},
   "source": [
    "### Uma alternativa ao VScode chamada Google colab"
   ]
  },
  {
   "cell_type": "markdown",
   "metadata": {},
   "source": [
    "- Permite escrever e executar códigos em Python através de um navegador, sem precisar instalar nenhum software adicional;\n",
    "- Funciona usando uma máquina virtual, que é basicamente um sistema virtual que simula um computador;\n",
    "- Essa máquina virtual é temporária, ou seja, ela é criada quando abrimos o Colab e encerrada quando fechamos ele ou quando o tempo de execução da máquina expira;\n",
    "- Isso significa que qualquer dado que carreguarmos na máquina virtual será perdido quando ela for encerrada"
   ]
  },
  {
   "cell_type": "markdown",
   "metadata": {},
   "source": [
    "### Primeiro código"
   ]
  },
  {
   "cell_type": "markdown",
   "metadata": {},
   "source": [
    "A máquina não faz nada além do que é comandada a fazer;\n",
    "\n",
    "\n",
    "Comando:\n",
    "- Em linguagem de programação, se trata de um código que especifica para a máquina a função a ser executada. Ele precisa ser organizado passo a passo, com tudo bem definido."
   ]
  },
  {
   "cell_type": "markdown",
   "metadata": {},
   "source": [
    "#### Função print()"
   ]
  },
  {
   "cell_type": "markdown",
   "metadata": {},
   "source": [
    "print() = Exibe uma informação específica insirida dentro dos parentesess"
   ]
  },
  {
   "cell_type": "code",
   "execution_count": 2,
   "metadata": {},
   "outputs": [
    {
     "name": "stdout",
     "output_type": "stream",
     "text": [
      "Olá mundo!\n"
     ]
    }
   ],
   "source": [
    "print('Olá mundo!');"
   ]
  },
  {
   "cell_type": "markdown",
   "metadata": {},
   "source": [
    "Quando trabalhamos com números não precisamos usar \"\""
   ]
  },
  {
   "cell_type": "code",
   "execution_count": 3,
   "metadata": {},
   "outputs": [
    {
     "name": "stdout",
     "output_type": "stream",
     "text": [
      "10\n"
     ]
    }
   ],
   "source": [
    "print(10);"
   ]
  },
  {
   "cell_type": "code",
   "execution_count": 5,
   "metadata": {},
   "outputs": [
    {
     "name": "stdout",
     "output_type": "stream",
     "text": [
      "João Vitor 22 anos\n"
     ]
    }
   ],
   "source": [
    "print('João Vitor', 22, \"anos\")\n",
    "# Precisamos usar , para exibir um novo ressltado"
   ]
  },
  {
   "cell_type": "markdown",
   "metadata": {},
   "source": [
    "#### Desafio \n"
   ]
  },
  {
   "cell_type": "code",
   "execution_count": 6,
   "metadata": {},
   "outputs": [
    {
     "name": "stdout",
     "output_type": "stream",
     "text": [
      "Escola de Dados da Alura!.\n"
     ]
    }
   ],
   "source": [
    "#mprima a frase Escola de Dados da Alura!.\n",
    "print(\"Escola de Dados da Alura!.\")"
   ]
  },
  {
   "cell_type": "code",
   "execution_count": 14,
   "metadata": {},
   "outputs": [
    {
     "name": "stdout",
     "output_type": "stream",
     "text": [
      "nome: João Vitor\n",
      "Sobrenome: De MElo Gomes\n"
     ]
    }
   ],
   "source": [
    "#Imprima seu nome e seu sobrenome seguindo a estrutura abaixo:\n",
    "# #Nome: [seu nome]\n",
    "#Sobrenome: [seu sobrenome]\n",
    "\n",
    "print('nome:', 'João Vitor')\n",
    "print ('Sobrenome:', 'De MElo Gomes')"
   ]
  },
  {
   "cell_type": "code",
   "execution_count": 9,
   "metadata": {},
   "outputs": [
    {
     "name": "stdout",
     "output_type": "stream",
     "text": [
      "J O Ã O\n"
     ]
    }
   ],
   "source": [
    "#Imprima o seu primeiro nome letra a letra. Por exemplo, meu nome é Mirla, então eu obtenho a seguinte saída:\n",
    "\n",
    "print('J','O', 'Ã', 'O')"
   ]
  },
  {
   "cell_type": "code",
   "execution_count": 12,
   "metadata": {},
   "outputs": [
    {
     "name": "stdout",
     "output_type": "stream",
     "text": [
      "9 de Julho 2002\n"
     ]
    }
   ],
   "source": [
    "#Imprima o dia do seu nascimento em formato dia mês ano. Lembrando que os valores de dia e ano não podem estar entre aspas. Supondo uma data de aniversário dia 28 de fevereiro de 2003, o formato deve estar como no exemplo abaixo:\n",
    "\n",
    "print(9, 'de', 'Julho', 2002);"
   ]
  },
  {
   "cell_type": "code",
   "execution_count": 13,
   "metadata": {},
   "outputs": [
    {
     "name": "stdout",
     "output_type": "stream",
     "text": [
      "Ano atual: 2024\n"
     ]
    }
   ],
   "source": [
    "#Imprima, em um único print, o atual ano que você está fazendo esse curso. O valor do ano deve ser um dado numérico e a saída do print deve ser a seguinte:\n",
    "\n",
    "print('Ano atual:', 2024)\n"
   ]
  },
  {
   "cell_type": "code",
   "execution_count": null,
   "metadata": {},
   "outputs": [],
   "source": []
  }
 ],
 "metadata": {
  "kernelspec": {
   "display_name": ".venv",
   "language": "python",
   "name": "python3"
  },
  "language_info": {
   "codemirror_mode": {
    "name": "ipython",
    "version": 3
   },
   "file_extension": ".py",
   "mimetype": "text/x-python",
   "name": "python",
   "nbconvert_exporter": "python",
   "pygments_lexer": "ipython3",
   "version": "3.12.4"
  }
 },
 "nbformat": 4,
 "nbformat_minor": 2
}
